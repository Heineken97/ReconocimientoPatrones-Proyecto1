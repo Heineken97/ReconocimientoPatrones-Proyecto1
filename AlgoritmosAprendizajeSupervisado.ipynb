{
 "cells": [
  {
   "cell_type": "markdown",
   "metadata": {},
   "source": [
    "Autores\n",
    "Gabriel Conejo Valerio\n",
    "Nasser Brown\n",
    "Joseph Jimenez Zuñiga - 2016133677"
   ]
  },
  {
   "cell_type": "code",
   "execution_count": 21,
   "metadata": {},
   "outputs": [],
   "source": [
    "import pandas as pd\n",
    "from sklearn.preprocessing import MinMaxScaler\n",
    "from sklearn.model_selection import train_test_split\n",
    "import numpy as np"
   ]
  },
  {
   "cell_type": "markdown",
   "metadata": {},
   "source": [
    "Set de Datos 'Rain in Australia'"
   ]
  },
  {
   "cell_type": "code",
   "execution_count": 22,
   "metadata": {},
   "outputs": [
    {
     "name": "stderr",
     "output_type": "stream",
     "text": [
      "C:\\Users\\Odin\\AppData\\Local\\Temp\\ipykernel_14972\\1452261575.py:1: DtypeWarning: Columns (5) have mixed types. Specify dtype option on import or set low_memory=False.\n",
      "  df = pd.read_csv(\"SetDatos/weatherAUS.csv\")\n"
     ]
    },
    {
     "data": {
      "text/html": [
       "<div>\n",
       "<style scoped>\n",
       "    .dataframe tbody tr th:only-of-type {\n",
       "        vertical-align: middle;\n",
       "    }\n",
       "\n",
       "    .dataframe tbody tr th {\n",
       "        vertical-align: top;\n",
       "    }\n",
       "\n",
       "    .dataframe thead th {\n",
       "        text-align: right;\n",
       "    }\n",
       "</style>\n",
       "<table border=\"1\" class=\"dataframe\">\n",
       "  <thead>\n",
       "    <tr style=\"text-align: right;\">\n",
       "      <th></th>\n",
       "      <th>Date</th>\n",
       "      <th>Location</th>\n",
       "      <th>MinTemp</th>\n",
       "      <th>MaxTemp</th>\n",
       "      <th>Rainfall</th>\n",
       "      <th>Evaporation</th>\n",
       "      <th>Sunshine</th>\n",
       "      <th>WindGustDir</th>\n",
       "      <th>WindGustSpeed</th>\n",
       "      <th>WindDir9am</th>\n",
       "      <th>...</th>\n",
       "      <th>Humidity9am</th>\n",
       "      <th>Humidity3pm</th>\n",
       "      <th>Pressure9am</th>\n",
       "      <th>Pressure3pm</th>\n",
       "      <th>Cloud9am</th>\n",
       "      <th>Cloud3pm</th>\n",
       "      <th>Temp9am</th>\n",
       "      <th>Temp3pm</th>\n",
       "      <th>RainToday</th>\n",
       "      <th>RainTomorrow</th>\n",
       "    </tr>\n",
       "  </thead>\n",
       "  <tbody>\n",
       "    <tr>\n",
       "      <th>0</th>\n",
       "      <td>2008-12-01</td>\n",
       "      <td>Albury</td>\n",
       "      <td>13.4</td>\n",
       "      <td>22.9</td>\n",
       "      <td>0.6</td>\n",
       "      <td>NAd</td>\n",
       "      <td>NaN</td>\n",
       "      <td>W</td>\n",
       "      <td>44.0</td>\n",
       "      <td>W</td>\n",
       "      <td>...</td>\n",
       "      <td>71.0</td>\n",
       "      <td>22.0</td>\n",
       "      <td>1007.7</td>\n",
       "      <td>1007.1</td>\n",
       "      <td>8.0</td>\n",
       "      <td>NaN</td>\n",
       "      <td>16.9</td>\n",
       "      <td>21.8</td>\n",
       "      <td>No</td>\n",
       "      <td>No</td>\n",
       "    </tr>\n",
       "    <tr>\n",
       "      <th>1</th>\n",
       "      <td>2008-12-02</td>\n",
       "      <td>Albury</td>\n",
       "      <td>7.4</td>\n",
       "      <td>25.1</td>\n",
       "      <td>0.0</td>\n",
       "      <td>NaN</td>\n",
       "      <td>NaN</td>\n",
       "      <td>WNW</td>\n",
       "      <td>44.0</td>\n",
       "      <td>NNW</td>\n",
       "      <td>...</td>\n",
       "      <td>44.0</td>\n",
       "      <td>25.0</td>\n",
       "      <td>1010.6</td>\n",
       "      <td>1007.8</td>\n",
       "      <td>NaN</td>\n",
       "      <td>NaN</td>\n",
       "      <td>17.2</td>\n",
       "      <td>24.3</td>\n",
       "      <td>No</td>\n",
       "      <td>No</td>\n",
       "    </tr>\n",
       "    <tr>\n",
       "      <th>2</th>\n",
       "      <td>2008-12-03</td>\n",
       "      <td>Albury</td>\n",
       "      <td>12.9</td>\n",
       "      <td>25.7</td>\n",
       "      <td>0.0</td>\n",
       "      <td>NaN</td>\n",
       "      <td>NaN</td>\n",
       "      <td>WSW</td>\n",
       "      <td>46.0</td>\n",
       "      <td>W</td>\n",
       "      <td>...</td>\n",
       "      <td>38.0</td>\n",
       "      <td>30.0</td>\n",
       "      <td>1007.6</td>\n",
       "      <td>1008.7</td>\n",
       "      <td>NaN</td>\n",
       "      <td>2.0</td>\n",
       "      <td>21.0</td>\n",
       "      <td>23.2</td>\n",
       "      <td>No</td>\n",
       "      <td>No</td>\n",
       "    </tr>\n",
       "    <tr>\n",
       "      <th>3</th>\n",
       "      <td>2008-12-04</td>\n",
       "      <td>Albury</td>\n",
       "      <td>9.2</td>\n",
       "      <td>28.0</td>\n",
       "      <td>0.0</td>\n",
       "      <td>NaN</td>\n",
       "      <td>NaN</td>\n",
       "      <td>NE</td>\n",
       "      <td>24.0</td>\n",
       "      <td>SE</td>\n",
       "      <td>...</td>\n",
       "      <td>45.0</td>\n",
       "      <td>16.0</td>\n",
       "      <td>1017.6</td>\n",
       "      <td>1012.8</td>\n",
       "      <td>NaN</td>\n",
       "      <td>NaN</td>\n",
       "      <td>18.1</td>\n",
       "      <td>26.5</td>\n",
       "      <td>No</td>\n",
       "      <td>No</td>\n",
       "    </tr>\n",
       "    <tr>\n",
       "      <th>4</th>\n",
       "      <td>2008-12-05</td>\n",
       "      <td>Albury</td>\n",
       "      <td>17.5</td>\n",
       "      <td>32.3</td>\n",
       "      <td>1.0</td>\n",
       "      <td>NaN</td>\n",
       "      <td>NaN</td>\n",
       "      <td>W</td>\n",
       "      <td>41.0</td>\n",
       "      <td>ENE</td>\n",
       "      <td>...</td>\n",
       "      <td>82.0</td>\n",
       "      <td>33.0</td>\n",
       "      <td>1010.8</td>\n",
       "      <td>1006.0</td>\n",
       "      <td>7.0</td>\n",
       "      <td>8.0</td>\n",
       "      <td>17.8</td>\n",
       "      <td>29.7</td>\n",
       "      <td>No</td>\n",
       "      <td>No</td>\n",
       "    </tr>\n",
       "  </tbody>\n",
       "</table>\n",
       "<p>5 rows × 23 columns</p>\n",
       "</div>"
      ],
      "text/plain": [
       "         Date Location  MinTemp  MaxTemp  Rainfall Evaporation  Sunshine  \\\n",
       "0  2008-12-01   Albury     13.4     22.9       0.6         NAd       NaN   \n",
       "1  2008-12-02   Albury      7.4     25.1       0.0         NaN       NaN   \n",
       "2  2008-12-03   Albury     12.9     25.7       0.0         NaN       NaN   \n",
       "3  2008-12-04   Albury      9.2     28.0       0.0         NaN       NaN   \n",
       "4  2008-12-05   Albury     17.5     32.3       1.0         NaN       NaN   \n",
       "\n",
       "  WindGustDir  WindGustSpeed WindDir9am  ... Humidity9am  Humidity3pm  \\\n",
       "0           W           44.0          W  ...        71.0         22.0   \n",
       "1         WNW           44.0        NNW  ...        44.0         25.0   \n",
       "2         WSW           46.0          W  ...        38.0         30.0   \n",
       "3          NE           24.0         SE  ...        45.0         16.0   \n",
       "4           W           41.0        ENE  ...        82.0         33.0   \n",
       "\n",
       "   Pressure9am  Pressure3pm  Cloud9am  Cloud3pm  Temp9am  Temp3pm  RainToday  \\\n",
       "0       1007.7       1007.1       8.0       NaN     16.9     21.8         No   \n",
       "1       1010.6       1007.8       NaN       NaN     17.2     24.3         No   \n",
       "2       1007.6       1008.7       NaN       2.0     21.0     23.2         No   \n",
       "3       1017.6       1012.8       NaN       NaN     18.1     26.5         No   \n",
       "4       1010.8       1006.0       7.0       8.0     17.8     29.7         No   \n",
       "\n",
       "   RainTomorrow  \n",
       "0            No  \n",
       "1            No  \n",
       "2            No  \n",
       "3            No  \n",
       "4            No  \n",
       "\n",
       "[5 rows x 23 columns]"
      ]
     },
     "execution_count": 22,
     "metadata": {},
     "output_type": "execute_result"
    }
   ],
   "source": [
    "df = pd.read_csv(\"SetDatos/weatherAUS.csv\")\n",
    "df.head()"
   ]
  },
  {
   "cell_type": "code",
   "execution_count": 23,
   "metadata": {},
   "outputs": [],
   "source": [
    "features = ['MinTemp', 'MaxTemp', 'Humidity9am', 'Pressure9am', 'Humidity3pm', 'Pressure3pm', 'Cloud3pm', 'Temp9am']\n",
    "X = df[features]\n",
    "y = df.RainTomorrow\n",
    "# Divide los datos en conjuntos de entrenamiento y prueba\n",
    "X_train_weatherDataset, X_test_weatherDataset, y_train_weatherDataset, y_test_weatherDataset = train_test_split(X, y, test_size=0.15, random_state=45)\n",
    "# Inicializa el objeto MinMaxScaler\n",
    "scaler = MinMaxScaler()\n",
    "# Ajusta y transforma los datos de entrenamiento\n",
    "X_train_weatherDataset = scaler.fit_transform(X_train_weatherDataset)\n",
    "# Transforma los datos de prueba utilizando la misma escala que se usó para los datos de entrenamiento\n",
    "X_test_weatherDataset = scaler.transform(X_test_weatherDataset)"
   ]
  },
  {
   "cell_type": "markdown",
   "metadata": {},
   "source": [
    "Set de Datos 'Notas del curso de Introduccion a la Programacion'"
   ]
  },
  {
   "cell_type": "code",
   "execution_count": 24,
   "metadata": {},
   "outputs": [
    {
     "data": {
      "text/html": [
       "<div>\n",
       "<style scoped>\n",
       "    .dataframe tbody tr th:only-of-type {\n",
       "        vertical-align: middle;\n",
       "    }\n",
       "\n",
       "    .dataframe tbody tr th {\n",
       "        vertical-align: top;\n",
       "    }\n",
       "\n",
       "    .dataframe thead th {\n",
       "        text-align: right;\n",
       "    }\n",
       "</style>\n",
       "<table border=\"1\" class=\"dataframe\">\n",
       "  <thead>\n",
       "    <tr style=\"text-align: right;\">\n",
       "      <th></th>\n",
       "      <th>E1 25.00%;E2 25.00%;E3 25.00%;Total: Exámenes 75%;Bibliotecas 2.00%;Q1 3.00%;Q2 3.00%;Q3 3.00%;Practica 2.00%;Q4 3.00%;Q5 4.00%;Q6 2.50%;Presentacion 2.5%;Extra 1%;Total: Quices y Tareas 25%;Total: ;Final</th>\n",
       "    </tr>\n",
       "  </thead>\n",
       "  <tbody>\n",
       "    <tr>\n",
       "      <th>0</th>\n",
       "      <td>55.0; ; ; 13.75; 0.0; 73.0; 100.0; 100.0; 0.0...</td>\n",
       "    </tr>\n",
       "    <tr>\n",
       "      <th>1</th>\n",
       "      <td>70.0; 70.0; 65.0; 51.25; 100.0; 63.0; 88.0; 1...</td>\n",
       "    </tr>\n",
       "    <tr>\n",
       "      <th>2</th>\n",
       "      <td>15.0; ; ; 3.75; 100.0; 43.0; 32.0; 4.0; 0.0; ...</td>\n",
       "    </tr>\n",
       "    <tr>\n",
       "      <th>3</th>\n",
       "      <td>; ; ;0; 0.0; 0.0; 0.0; 0.0; 0.0; 0.0; 0.0; 0....</td>\n",
       "    </tr>\n",
       "    <tr>\n",
       "      <th>4</th>\n",
       "      <td>95.0; ; ; 23.75; 100.0; 100.0; 100.0; 100.0; ...</td>\n",
       "    </tr>\n",
       "  </tbody>\n",
       "</table>\n",
       "</div>"
      ],
      "text/plain": [
       "  E1 25.00%;E2 25.00%;E3 25.00%;Total: Exámenes 75%;Bibliotecas 2.00%;Q1 3.00%;Q2 3.00%;Q3 3.00%;Practica 2.00%;Q4 3.00%;Q5 4.00%;Q6 2.50%;Presentacion 2.5%;Extra 1%;Total: Quices y Tareas 25%;Total: ;Final\n",
       "0   55.0; ; ; 13.75; 0.0; 73.0; 100.0; 100.0; 0.0...                                                                                                                                                          \n",
       "1   70.0; 70.0; 65.0; 51.25; 100.0; 63.0; 88.0; 1...                                                                                                                                                          \n",
       "2   15.0; ; ; 3.75; 100.0; 43.0; 32.0; 4.0; 0.0; ...                                                                                                                                                          \n",
       "3   ; ; ;0; 0.0; 0.0; 0.0; 0.0; 0.0; 0.0; 0.0; 0....                                                                                                                                                          \n",
       "4   95.0; ; ; 23.75; 100.0; 100.0; 100.0; 100.0; ...                                                                                                                                                          "
      ]
     },
     "execution_count": 24,
     "metadata": {},
     "output_type": "execute_result"
    }
   ],
   "source": [
    "df = pd.read_csv(\"SetDatos/matrix-Eval-Introduccion A La Programacion GR 5.csv\")\n",
    "df = pd.read_csv(\"SetDatos/matrix-Eval-Introduccion A La Programacion GR 5 (1).csv\")\n",
    "df = pd.read_csv(\"SetDatos/matrix-Eval-Introduccion A La Programacion GR 4.csv\")\n",
    "df = pd.read_csv(\"SetDatos/matrix-Eval-Introduccion A La Programacion GR 4 (1).csv\")\n",
    "df = pd.read_csv(\"SetDatos/matrix-Eval-Introduccion A La Programacion GR 4 (2).csv\")\n",
    "df.head()"
   ]
  },
  {
   "cell_type": "code",
   "execution_count": null,
   "metadata": {},
   "outputs": [],
   "source": [
    "features = ['E1', 'E2', 'E3', 'Q1', 'Q2', 'Q3', 'Q4', 'Q5']\n",
    "X = df[features]\n",
    "y = df.Final;\n",
    "X_train_notesDataset, X_test_notesDataset, y_train_notesDataset, y_test_notesDataset = train_test_split(X, y, test_size=0.15, random_state=45)\n",
    "scaler = MinMaxScaler()\n",
    "X_train__notesDataset = scaler.fit_transform(X_train_notesDataset)\n",
    "X_test__notesDataset = scaler.transform(X_test_notesDataset)"
   ]
  },
  {
   "cell_type": "markdown",
   "metadata": {},
   "source": [
    "Set de Datos seleccionado"
   ]
  },
  {
   "cell_type": "code",
   "execution_count": null,
   "metadata": {},
   "outputs": [],
   "source": [
    "df = pd.read_csv(\"SetDatos/csv\")\n",
    "df.head()"
   ]
  },
  {
   "cell_type": "code",
   "execution_count": null,
   "metadata": {},
   "outputs": [],
   "source": [
    "features = ['Caracteristica1', 'Caracteristica2', 'Caracteristica3', 'Caracteristica4']\n",
    "X = df[features]\n",
    "y = df.Outcome;\n",
    "X_train_selectedDataset, X_test_selectedDataset, y_train_selectedDataset, y_test_selectedDataset = train_test_split(X, y, test_size=0.15, random_state=45)\n",
    "scaler = MinMaxScaler()\n",
    "X_train_selectedDataset = scaler.fit_transform(X_train_notesDataset)\n",
    "X_test_selectedDataset = scaler.transform(X_test_selectedDataset)"
   ]
  },
  {
   "cell_type": "markdown",
   "metadata": {},
   "source": [
    "Aplicacion de Algoritmos"
   ]
  },
  {
   "cell_type": "markdown",
   "metadata": {},
   "source": [
    "Regresion Logistica"
   ]
  },
  {
   "cell_type": "code",
   "execution_count": 25,
   "metadata": {},
   "outputs": [],
   "source": [
    "class LogisticRegression:\n",
    "    def __init__(self, lr=0.01, num_iter=100000, fit_intercept=True):\n",
    "        self.lr = lr\n",
    "        self.num_iter = num_iter\n",
    "        self.fit_intercept = fit_intercept\n",
    "\n",
    "    def __add_intercept(self, X):\n",
    "        intercept = np.ones((X.shape[0], 1))\n",
    "        return np.concatenate((intercept, X), axis=1)\n",
    "        \n",
    "    def __sigmoid(self, z):\n",
    "        return 1 / (1 + np.exp(-z))\n",
    "    \n",
    "    def __loss(self, h, y):\n",
    "        return (-y * np.log(h) - (1 - y) * np.log(1 - h)).mean()\n",
    "    \n",
    "    def fit(self, X, y):\n",
    "        if self.fit_intercept:\n",
    "            X = self.__add_intercept(X)\n",
    "        self.w = np.zeros(X.shape[1])\n",
    "        for i in range(self.num_iter):\n",
    "            z = np.dot(X, self.w)\n",
    "            h = self.__sigmoid(z)\n",
    "            gradient = np.dot(X.T, (h-y)) / y.size\n",
    "            self.w -= self.lr * gradient\n",
    "            \n",
    "    def predict_prob(self, X):\n",
    "        if self.fit_intercept:\n",
    "            X = self.__add_intercept(X)\n",
    "        return self.__sigmoid(np.dot(X, self.w))\n",
    "    \n",
    "    def predict(self, X, threshold):\n",
    "        return self.predict_prob(X) >= threshold\n",
    "    \n",
    "    def score(self, y_pred,y_test):\n",
    "        return float(sum(y_pred == y_test)) / float(len(y_test))"
   ]
  },
  {
   "cell_type": "markdown",
   "metadata": {},
   "source": [
    "Aplicacion de Algoritmo Logistic Regression sobre el set de datos Rain in Australia"
   ]
  },
  {
   "cell_type": "code",
   "execution_count": null,
   "metadata": {},
   "outputs": [],
   "source": [
    "# Crea y entrena el modelo de regresión logística \n",
    "model = LogisticRegression(lr=0.15, num_iter=3500)\n",
    "model.fit(X_train_weatherDataset, y_train_weatherDataset)\n",
    "probs = model.predict_prob(X_test_weatherDataset)\n",
    "y_pred_weatherDataset = model.predict(X_test_weatherDataset, 0.5)\n",
    "print(\"Precisión del modelo Regresion Logistica para el set de Datos Weather: \",model.score(y_pred_weatherDataset,y_test_weatherDataset))"
   ]
  },
  {
   "cell_type": "markdown",
   "metadata": {},
   "source": [
    "Aplicacion de Algoritmo Logistic Regression sobre el set de 'Notas del curso de Introduccion a la Programacion'"
   ]
  },
  {
   "cell_type": "code",
   "execution_count": null,
   "metadata": {},
   "outputs": [],
   "source": [
    "# Crea y entrena el modelo de regresión logística\n",
    "model = LogisticRegression(lr=0.15, num_iter=3500)\n",
    "model.fit(X_train_notesDataset, y_train_notesDataset)\n",
    "probs = model.predict_prob(X_test_notesDataset)\n",
    "y_pred_notesDataset = model.predict(X_test_notesDataset, 0.5)\n",
    "print(\"Precisión del modelo Regresion Logistica para el set de datos Notas del curso: \",model.score(y_pred_notesDataset,y_test_notesDataset))"
   ]
  },
  {
   "cell_type": "markdown",
   "metadata": {},
   "source": [
    "Aplicacion de Algoritmo Logistic Regression sobre el set elegido"
   ]
  },
  {
   "cell_type": "code",
   "execution_count": null,
   "metadata": {},
   "outputs": [],
   "source": [
    "# Crea y entrena el modelo de regresión logística\n",
    "model = LogisticRegression(lr=0.15, num_iter=3500)\n",
    "model.fit(X_train_selectedDataset, y_train_selectedDataset)\n",
    "probs = model.predict_prob(X_test_selectedDataset)\n",
    "y_pred_selectedDataset = model.predict(X_test_selectedDataset, 0.5)\n",
    "print(\"Precisión del modelo Regresion Logistica para el set de datos elegido: \",model.score(y_pred_selectedDataset,y_test_selectedDataset))"
   ]
  },
  {
   "cell_type": "markdown",
   "metadata": {},
   "source": [
    "Arboles de decision"
   ]
  },
  {
   "cell_type": "code",
   "execution_count": null,
   "metadata": {},
   "outputs": [],
   "source": []
  },
  {
   "cell_type": "markdown",
   "metadata": {},
   "source": [
    "KNN"
   ]
  },
  {
   "cell_type": "code",
   "execution_count": null,
   "metadata": {},
   "outputs": [],
   "source": []
  },
  {
   "cell_type": "markdown",
   "metadata": {},
   "source": [
    "Aplicacion de Metricas"
   ]
  },
  {
   "cell_type": "markdown",
   "metadata": {},
   "source": [
    "Accuracy"
   ]
  },
  {
   "cell_type": "code",
   "execution_count": null,
   "metadata": {},
   "outputs": [],
   "source": []
  },
  {
   "cell_type": "markdown",
   "metadata": {},
   "source": [
    "Presicion "
   ]
  },
  {
   "cell_type": "code",
   "execution_count": null,
   "metadata": {},
   "outputs": [],
   "source": []
  },
  {
   "cell_type": "markdown",
   "metadata": {},
   "source": [
    "Recall"
   ]
  },
  {
   "cell_type": "code",
   "execution_count": null,
   "metadata": {},
   "outputs": [],
   "source": []
  },
  {
   "cell_type": "markdown",
   "metadata": {},
   "source": [
    "AUC"
   ]
  },
  {
   "cell_type": "code",
   "execution_count": null,
   "metadata": {},
   "outputs": [],
   "source": []
  },
  {
   "cell_type": "markdown",
   "metadata": {},
   "source": [
    "ROC  (grafica)"
   ]
  },
  {
   "cell_type": "code",
   "execution_count": null,
   "metadata": {},
   "outputs": [],
   "source": [
    "import numpy as np\n",
    "import matplotlib.pyplot as plt\n",
    "from sklearn.metrics import roc_curve, auc\n",
    "# Calcular la curva ROC\n",
    "fpr, tpr, thresholds = roc_curve(y_test_weatherDataset, probs)\n",
    "# Calcular la Sensibilidad y la Especificidad para cada umbral\n",
    "sensibilidad = tpr  # Sensibilidad es igual a la Tasa de Verdaderos Positivos (TPR)\n",
    "especificidad = 1 - fpr  # Especificidad es igual a 1 menos la Tasa de Falsos Positivos (FPR)\n",
    "\n",
    "# Calcular el AUC (Área bajo la curva ROC)\n",
    "roc_auc = auc(fpr, tpr)\n",
    "\n",
    "# Trazar la curva ROC\n",
    "plt.figure(figsize=(8, 6))\n",
    "plt.plot(fpr, tpr, lw=2, label=f'ROC Curve (AUC = {roc_auc:.2f})')\n",
    "plt.plot([0, 1], [0, 1], 'k--')  # Línea de referencia diagonal\n",
    "plt.xlim([0.0, 1.0])\n",
    "plt.ylim([0.0, 1.05])\n",
    "plt.xlabel('False Positive Rate (FPR)')\n",
    "plt.ylabel('True Positive Rate (TPR)')\n",
    "plt.title('Receiver Operating Characteristic (ROC)')\n",
    "plt.legend(loc=\"lower right\")\n",
    "\n",
    "# Trazar la curva de Sensibilidad vs. Especificidad\n",
    "plt.figure(figsize=(8, 6))\n",
    "plt.plot(1 - fpr, tpr, lw=2)\n",
    "plt.xlim([0.0, 1.0])\n",
    "plt.ylim([0.0, 1.05])\n",
    "plt.xlabel('Especificidad')\n",
    "plt.ylabel('Sensibilidad (TPR)')\n",
    "plt.title('Curva Sensibilidad vs. Especificidad')\n",
    "plt.grid(True)\n",
    "\n",
    "plt.show()\n",
    "\n",
    "umbral = 0.5\n",
    "sensibilidad_umbral = tpr[np.argmax(thresholds >= umbral)]\n",
    "especificidad_umbral = 1 - fpr[np.argmax(thresholds >= umbral)]\n",
    "print(f\"Sensibilidad (TPR) a umbral {umbral}: {sensibilidad_umbral:.2f}\")\n",
    "print(f\"Especificidad a umbral {umbral}: {especificidad_umbral:.2f}\")\n"
   ]
  },
  {
   "cell_type": "markdown",
   "metadata": {},
   "source": [
    "Puntos extra: modelo que prediga la nota del estudiante (utilizando el set de datos de Introduccion a la Programacion)"
   ]
  },
  {
   "cell_type": "code",
   "execution_count": null,
   "metadata": {},
   "outputs": [],
   "source": []
  }
 ],
 "metadata": {
  "kernelspec": {
   "display_name": "Python 3",
   "language": "python",
   "name": "python3"
  },
  "language_info": {
   "codemirror_mode": {
    "name": "ipython",
    "version": 3
   },
   "file_extension": ".py",
   "mimetype": "text/x-python",
   "name": "python",
   "nbconvert_exporter": "python",
   "pygments_lexer": "ipython3",
   "version": "3.11.4"
  },
  "orig_nbformat": 4
 },
 "nbformat": 4,
 "nbformat_minor": 2
}
