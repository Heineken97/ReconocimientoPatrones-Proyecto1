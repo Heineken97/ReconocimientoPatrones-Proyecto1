{
  "cells": [
    {
      "cell_type": "markdown",
      "metadata": {
        "id": "rn3QCC10MiLo"
      },
      "source": [
        "Autores Gabriel Conejo Valerio -2014093542 Nasser Brown Joseph Jimenez Zuñiga - 2016133677"
      ]
    },
    {
      "cell_type": "code",
      "execution_count": 2,
      "metadata": {
        "id": "DriMhp6xMiLq"
      },
      "outputs": [],
      "source": [
        "import pandas as pd\n",
        "from sklearn.preprocessing import MinMaxScaler\n",
        "from sklearn.model_selection import train_test_split\n",
        "import numpy as np\n",
        "from sklearn import preprocessing\n",
        "from sklearn.preprocessing import LabelEncoder\n",
        "from sklearn.metrics import accuracy_score"
      ]
    },
    {
      "cell_type": "markdown",
      "metadata": {
        "id": "t_SEjT6zMiLq"
      },
      "source": [
        "Set de Datos 'Rain in Australia'"
      ]
    },
    {
      "cell_type": "code",
      "execution_count": 3,
      "metadata": {
        "id": "gQiPWQhqMiLq",
        "outputId": "1d4e817f-4b21-4b53-b90e-97f86b4650e7",
        "colab": {
          "base_uri": "https://localhost:8080/",
          "height": 444
        }
      },
      "outputs": [
        {
          "output_type": "execute_result",
          "data": {
            "text/plain": [
              "             Date  Location  MinTemp  MaxTemp  Rainfall  Evaporation  \\\n",
              "0      2009-01-01     Cobar     17.9     35.2       0.0         12.0   \n",
              "1      2009-01-02     Cobar     18.4     28.9       0.0         14.8   \n",
              "2      2009-01-04     Cobar     19.4     37.6       0.0         10.8   \n",
              "3      2009-01-05     Cobar     21.9     38.4       0.0         11.4   \n",
              "4      2009-01-06     Cobar     24.2     41.0       0.0         11.2   \n",
              "...           ...       ...      ...      ...       ...          ...   \n",
              "31069  2014-02-24  Brisbane     19.6     28.5       1.2          8.4   \n",
              "31070  2014-02-25  Brisbane     19.9     29.6       1.4          9.2   \n",
              "31071  2014-02-26  Brisbane     19.1     29.5       0.0          8.4   \n",
              "31072  2014-02-27  Brisbane     19.3     30.7       0.0          7.2   \n",
              "31073  2014-02-28  Brisbane     20.6     30.9       0.0          8.0   \n",
              "\n",
              "       Sunshine WindGustDir  WindGustSpeed WindDir9am  ... Humidity9am  \\\n",
              "0          12.3         SSW           48.0        ENE  ...        20.0   \n",
              "1          13.0           S           37.0        SSE  ...        30.0   \n",
              "2          10.6         NNE           46.0        NNE  ...        42.0   \n",
              "3          12.2         WNW           31.0        WNW  ...        37.0   \n",
              "4           8.4         WNW           35.0         NW  ...        19.0   \n",
              "...         ...         ...            ...        ...  ...         ...   \n",
              "31069       7.8         SSE           28.0         SE  ...        68.0   \n",
              "31070       8.4           E           31.0        SSE  ...        64.0   \n",
              "31071      10.7         ENE           24.0        SSW  ...        58.0   \n",
              "31072      12.2          NE           24.0        WNW  ...        56.0   \n",
              "31073       7.4           E           35.0        ESE  ...        59.0   \n",
              "\n",
              "       Humidity3pm  Pressure9am  Pressure3pm  Cloud9am  Cloud3pm  Temp9am  \\\n",
              "0             13.0       1006.3       1004.4       2.0       5.0     26.6   \n",
              "1              8.0       1012.9       1012.1       1.0       1.0     20.3   \n",
              "2             22.0       1012.3       1009.2       1.0       6.0     28.7   \n",
              "3             22.0       1012.7       1009.1       1.0       5.0     29.1   \n",
              "4             15.0       1010.7       1007.4       1.0       6.0     33.6   \n",
              "...            ...          ...          ...       ...       ...      ...   \n",
              "31069         46.0       1018.1       1015.4       1.0       4.0     24.9   \n",
              "31070         51.0       1016.9       1013.3       4.0       6.0     25.4   \n",
              "31071         50.0       1016.1       1013.1       4.0       2.0     25.9   \n",
              "31072         46.0       1016.5       1013.7       2.0       1.0     26.6   \n",
              "31073         48.0       1017.9       1015.1       5.0       4.0     27.1   \n",
              "\n",
              "       Temp3pm  RainToday  RainTomorrow  \n",
              "0         33.4         No            No  \n",
              "1         27.0         No            No  \n",
              "2         34.9         No            No  \n",
              "3         35.6         No            No  \n",
              "4         37.6         No            No  \n",
              "...        ...        ...           ...  \n",
              "31069     27.3        Yes           Yes  \n",
              "31070     28.3        Yes            No  \n",
              "31071     28.6         No            No  \n",
              "31072     29.0         No            No  \n",
              "31073     28.9         No            No  \n",
              "\n",
              "[31074 rows x 23 columns]"
            ],
            "text/html": [
              "\n",
              "  <div id=\"df-9c0c730d-0d1f-4c96-a001-351aea9be6e8\" class=\"colab-df-container\">\n",
              "    <div>\n",
              "<style scoped>\n",
              "    .dataframe tbody tr th:only-of-type {\n",
              "        vertical-align: middle;\n",
              "    }\n",
              "\n",
              "    .dataframe tbody tr th {\n",
              "        vertical-align: top;\n",
              "    }\n",
              "\n",
              "    .dataframe thead th {\n",
              "        text-align: right;\n",
              "    }\n",
              "</style>\n",
              "<table border=\"1\" class=\"dataframe\">\n",
              "  <thead>\n",
              "    <tr style=\"text-align: right;\">\n",
              "      <th></th>\n",
              "      <th>Date</th>\n",
              "      <th>Location</th>\n",
              "      <th>MinTemp</th>\n",
              "      <th>MaxTemp</th>\n",
              "      <th>Rainfall</th>\n",
              "      <th>Evaporation</th>\n",
              "      <th>Sunshine</th>\n",
              "      <th>WindGustDir</th>\n",
              "      <th>WindGustSpeed</th>\n",
              "      <th>WindDir9am</th>\n",
              "      <th>...</th>\n",
              "      <th>Humidity9am</th>\n",
              "      <th>Humidity3pm</th>\n",
              "      <th>Pressure9am</th>\n",
              "      <th>Pressure3pm</th>\n",
              "      <th>Cloud9am</th>\n",
              "      <th>Cloud3pm</th>\n",
              "      <th>Temp9am</th>\n",
              "      <th>Temp3pm</th>\n",
              "      <th>RainToday</th>\n",
              "      <th>RainTomorrow</th>\n",
              "    </tr>\n",
              "  </thead>\n",
              "  <tbody>\n",
              "    <tr>\n",
              "      <th>0</th>\n",
              "      <td>2009-01-01</td>\n",
              "      <td>Cobar</td>\n",
              "      <td>17.9</td>\n",
              "      <td>35.2</td>\n",
              "      <td>0.0</td>\n",
              "      <td>12.0</td>\n",
              "      <td>12.3</td>\n",
              "      <td>SSW</td>\n",
              "      <td>48.0</td>\n",
              "      <td>ENE</td>\n",
              "      <td>...</td>\n",
              "      <td>20.0</td>\n",
              "      <td>13.0</td>\n",
              "      <td>1006.3</td>\n",
              "      <td>1004.4</td>\n",
              "      <td>2.0</td>\n",
              "      <td>5.0</td>\n",
              "      <td>26.6</td>\n",
              "      <td>33.4</td>\n",
              "      <td>No</td>\n",
              "      <td>No</td>\n",
              "    </tr>\n",
              "    <tr>\n",
              "      <th>1</th>\n",
              "      <td>2009-01-02</td>\n",
              "      <td>Cobar</td>\n",
              "      <td>18.4</td>\n",
              "      <td>28.9</td>\n",
              "      <td>0.0</td>\n",
              "      <td>14.8</td>\n",
              "      <td>13.0</td>\n",
              "      <td>S</td>\n",
              "      <td>37.0</td>\n",
              "      <td>SSE</td>\n",
              "      <td>...</td>\n",
              "      <td>30.0</td>\n",
              "      <td>8.0</td>\n",
              "      <td>1012.9</td>\n",
              "      <td>1012.1</td>\n",
              "      <td>1.0</td>\n",
              "      <td>1.0</td>\n",
              "      <td>20.3</td>\n",
              "      <td>27.0</td>\n",
              "      <td>No</td>\n",
              "      <td>No</td>\n",
              "    </tr>\n",
              "    <tr>\n",
              "      <th>2</th>\n",
              "      <td>2009-01-04</td>\n",
              "      <td>Cobar</td>\n",
              "      <td>19.4</td>\n",
              "      <td>37.6</td>\n",
              "      <td>0.0</td>\n",
              "      <td>10.8</td>\n",
              "      <td>10.6</td>\n",
              "      <td>NNE</td>\n",
              "      <td>46.0</td>\n",
              "      <td>NNE</td>\n",
              "      <td>...</td>\n",
              "      <td>42.0</td>\n",
              "      <td>22.0</td>\n",
              "      <td>1012.3</td>\n",
              "      <td>1009.2</td>\n",
              "      <td>1.0</td>\n",
              "      <td>6.0</td>\n",
              "      <td>28.7</td>\n",
              "      <td>34.9</td>\n",
              "      <td>No</td>\n",
              "      <td>No</td>\n",
              "    </tr>\n",
              "    <tr>\n",
              "      <th>3</th>\n",
              "      <td>2009-01-05</td>\n",
              "      <td>Cobar</td>\n",
              "      <td>21.9</td>\n",
              "      <td>38.4</td>\n",
              "      <td>0.0</td>\n",
              "      <td>11.4</td>\n",
              "      <td>12.2</td>\n",
              "      <td>WNW</td>\n",
              "      <td>31.0</td>\n",
              "      <td>WNW</td>\n",
              "      <td>...</td>\n",
              "      <td>37.0</td>\n",
              "      <td>22.0</td>\n",
              "      <td>1012.7</td>\n",
              "      <td>1009.1</td>\n",
              "      <td>1.0</td>\n",
              "      <td>5.0</td>\n",
              "      <td>29.1</td>\n",
              "      <td>35.6</td>\n",
              "      <td>No</td>\n",
              "      <td>No</td>\n",
              "    </tr>\n",
              "    <tr>\n",
              "      <th>4</th>\n",
              "      <td>2009-01-06</td>\n",
              "      <td>Cobar</td>\n",
              "      <td>24.2</td>\n",
              "      <td>41.0</td>\n",
              "      <td>0.0</td>\n",
              "      <td>11.2</td>\n",
              "      <td>8.4</td>\n",
              "      <td>WNW</td>\n",
              "      <td>35.0</td>\n",
              "      <td>NW</td>\n",
              "      <td>...</td>\n",
              "      <td>19.0</td>\n",
              "      <td>15.0</td>\n",
              "      <td>1010.7</td>\n",
              "      <td>1007.4</td>\n",
              "      <td>1.0</td>\n",
              "      <td>6.0</td>\n",
              "      <td>33.6</td>\n",
              "      <td>37.6</td>\n",
              "      <td>No</td>\n",
              "      <td>No</td>\n",
              "    </tr>\n",
              "    <tr>\n",
              "      <th>...</th>\n",
              "      <td>...</td>\n",
              "      <td>...</td>\n",
              "      <td>...</td>\n",
              "      <td>...</td>\n",
              "      <td>...</td>\n",
              "      <td>...</td>\n",
              "      <td>...</td>\n",
              "      <td>...</td>\n",
              "      <td>...</td>\n",
              "      <td>...</td>\n",
              "      <td>...</td>\n",
              "      <td>...</td>\n",
              "      <td>...</td>\n",
              "      <td>...</td>\n",
              "      <td>...</td>\n",
              "      <td>...</td>\n",
              "      <td>...</td>\n",
              "      <td>...</td>\n",
              "      <td>...</td>\n",
              "      <td>...</td>\n",
              "      <td>...</td>\n",
              "    </tr>\n",
              "    <tr>\n",
              "      <th>31069</th>\n",
              "      <td>2014-02-24</td>\n",
              "      <td>Brisbane</td>\n",
              "      <td>19.6</td>\n",
              "      <td>28.5</td>\n",
              "      <td>1.2</td>\n",
              "      <td>8.4</td>\n",
              "      <td>7.8</td>\n",
              "      <td>SSE</td>\n",
              "      <td>28.0</td>\n",
              "      <td>SE</td>\n",
              "      <td>...</td>\n",
              "      <td>68.0</td>\n",
              "      <td>46.0</td>\n",
              "      <td>1018.1</td>\n",
              "      <td>1015.4</td>\n",
              "      <td>1.0</td>\n",
              "      <td>4.0</td>\n",
              "      <td>24.9</td>\n",
              "      <td>27.3</td>\n",
              "      <td>Yes</td>\n",
              "      <td>Yes</td>\n",
              "    </tr>\n",
              "    <tr>\n",
              "      <th>31070</th>\n",
              "      <td>2014-02-25</td>\n",
              "      <td>Brisbane</td>\n",
              "      <td>19.9</td>\n",
              "      <td>29.6</td>\n",
              "      <td>1.4</td>\n",
              "      <td>9.2</td>\n",
              "      <td>8.4</td>\n",
              "      <td>E</td>\n",
              "      <td>31.0</td>\n",
              "      <td>SSE</td>\n",
              "      <td>...</td>\n",
              "      <td>64.0</td>\n",
              "      <td>51.0</td>\n",
              "      <td>1016.9</td>\n",
              "      <td>1013.3</td>\n",
              "      <td>4.0</td>\n",
              "      <td>6.0</td>\n",
              "      <td>25.4</td>\n",
              "      <td>28.3</td>\n",
              "      <td>Yes</td>\n",
              "      <td>No</td>\n",
              "    </tr>\n",
              "    <tr>\n",
              "      <th>31071</th>\n",
              "      <td>2014-02-26</td>\n",
              "      <td>Brisbane</td>\n",
              "      <td>19.1</td>\n",
              "      <td>29.5</td>\n",
              "      <td>0.0</td>\n",
              "      <td>8.4</td>\n",
              "      <td>10.7</td>\n",
              "      <td>ENE</td>\n",
              "      <td>24.0</td>\n",
              "      <td>SSW</td>\n",
              "      <td>...</td>\n",
              "      <td>58.0</td>\n",
              "      <td>50.0</td>\n",
              "      <td>1016.1</td>\n",
              "      <td>1013.1</td>\n",
              "      <td>4.0</td>\n",
              "      <td>2.0</td>\n",
              "      <td>25.9</td>\n",
              "      <td>28.6</td>\n",
              "      <td>No</td>\n",
              "      <td>No</td>\n",
              "    </tr>\n",
              "    <tr>\n",
              "      <th>31072</th>\n",
              "      <td>2014-02-27</td>\n",
              "      <td>Brisbane</td>\n",
              "      <td>19.3</td>\n",
              "      <td>30.7</td>\n",
              "      <td>0.0</td>\n",
              "      <td>7.2</td>\n",
              "      <td>12.2</td>\n",
              "      <td>NE</td>\n",
              "      <td>24.0</td>\n",
              "      <td>WNW</td>\n",
              "      <td>...</td>\n",
              "      <td>56.0</td>\n",
              "      <td>46.0</td>\n",
              "      <td>1016.5</td>\n",
              "      <td>1013.7</td>\n",
              "      <td>2.0</td>\n",
              "      <td>1.0</td>\n",
              "      <td>26.6</td>\n",
              "      <td>29.0</td>\n",
              "      <td>No</td>\n",
              "      <td>No</td>\n",
              "    </tr>\n",
              "    <tr>\n",
              "      <th>31073</th>\n",
              "      <td>2014-02-28</td>\n",
              "      <td>Brisbane</td>\n",
              "      <td>20.6</td>\n",
              "      <td>30.9</td>\n",
              "      <td>0.0</td>\n",
              "      <td>8.0</td>\n",
              "      <td>7.4</td>\n",
              "      <td>E</td>\n",
              "      <td>35.0</td>\n",
              "      <td>ESE</td>\n",
              "      <td>...</td>\n",
              "      <td>59.0</td>\n",
              "      <td>48.0</td>\n",
              "      <td>1017.9</td>\n",
              "      <td>1015.1</td>\n",
              "      <td>5.0</td>\n",
              "      <td>4.0</td>\n",
              "      <td>27.1</td>\n",
              "      <td>28.9</td>\n",
              "      <td>No</td>\n",
              "      <td>No</td>\n",
              "    </tr>\n",
              "  </tbody>\n",
              "</table>\n",
              "<p>31074 rows × 23 columns</p>\n",
              "</div>\n",
              "    <div class=\"colab-df-buttons\">\n",
              "\n",
              "  <div class=\"colab-df-container\">\n",
              "    <button class=\"colab-df-convert\" onclick=\"convertToInteractive('df-9c0c730d-0d1f-4c96-a001-351aea9be6e8')\"\n",
              "            title=\"Convert this dataframe to an interactive table.\"\n",
              "            style=\"display:none;\">\n",
              "\n",
              "  <svg xmlns=\"http://www.w3.org/2000/svg\" height=\"24px\" viewBox=\"0 -960 960 960\">\n",
              "    <path d=\"M120-120v-720h720v720H120Zm60-500h600v-160H180v160Zm220 220h160v-160H400v160Zm0 220h160v-160H400v160ZM180-400h160v-160H180v160Zm440 0h160v-160H620v160ZM180-180h160v-160H180v160Zm440 0h160v-160H620v160Z\"/>\n",
              "  </svg>\n",
              "    </button>\n",
              "\n",
              "  <style>\n",
              "    .colab-df-container {\n",
              "      display:flex;\n",
              "      gap: 12px;\n",
              "    }\n",
              "\n",
              "    .colab-df-convert {\n",
              "      background-color: #E8F0FE;\n",
              "      border: none;\n",
              "      border-radius: 50%;\n",
              "      cursor: pointer;\n",
              "      display: none;\n",
              "      fill: #1967D2;\n",
              "      height: 32px;\n",
              "      padding: 0 0 0 0;\n",
              "      width: 32px;\n",
              "    }\n",
              "\n",
              "    .colab-df-convert:hover {\n",
              "      background-color: #E2EBFA;\n",
              "      box-shadow: 0px 1px 2px rgba(60, 64, 67, 0.3), 0px 1px 3px 1px rgba(60, 64, 67, 0.15);\n",
              "      fill: #174EA6;\n",
              "    }\n",
              "\n",
              "    .colab-df-buttons div {\n",
              "      margin-bottom: 4px;\n",
              "    }\n",
              "\n",
              "    [theme=dark] .colab-df-convert {\n",
              "      background-color: #3B4455;\n",
              "      fill: #D2E3FC;\n",
              "    }\n",
              "\n",
              "    [theme=dark] .colab-df-convert:hover {\n",
              "      background-color: #434B5C;\n",
              "      box-shadow: 0px 1px 3px 1px rgba(0, 0, 0, 0.15);\n",
              "      filter: drop-shadow(0px 1px 2px rgba(0, 0, 0, 0.3));\n",
              "      fill: #FFFFFF;\n",
              "    }\n",
              "  </style>\n",
              "\n",
              "    <script>\n",
              "      const buttonEl =\n",
              "        document.querySelector('#df-9c0c730d-0d1f-4c96-a001-351aea9be6e8 button.colab-df-convert');\n",
              "      buttonEl.style.display =\n",
              "        google.colab.kernel.accessAllowed ? 'block' : 'none';\n",
              "\n",
              "      async function convertToInteractive(key) {\n",
              "        const element = document.querySelector('#df-9c0c730d-0d1f-4c96-a001-351aea9be6e8');\n",
              "        const dataTable =\n",
              "          await google.colab.kernel.invokeFunction('convertToInteractive',\n",
              "                                                    [key], {});\n",
              "        if (!dataTable) return;\n",
              "\n",
              "        const docLinkHtml = 'Like what you see? Visit the ' +\n",
              "          '<a target=\"_blank\" href=https://colab.research.google.com/notebooks/data_table.ipynb>data table notebook</a>'\n",
              "          + ' to learn more about interactive tables.';\n",
              "        element.innerHTML = '';\n",
              "        dataTable['output_type'] = 'display_data';\n",
              "        await google.colab.output.renderOutput(dataTable, element);\n",
              "        const docLink = document.createElement('div');\n",
              "        docLink.innerHTML = docLinkHtml;\n",
              "        element.appendChild(docLink);\n",
              "      }\n",
              "    </script>\n",
              "  </div>\n",
              "\n",
              "\n",
              "<div id=\"df-79e7f195-6527-4dd3-9ee0-b5dbd68d3e6a\">\n",
              "  <button class=\"colab-df-quickchart\" onclick=\"quickchart('df-79e7f195-6527-4dd3-9ee0-b5dbd68d3e6a')\"\n",
              "            title=\"Suggest charts.\"\n",
              "            style=\"display:none;\">\n",
              "\n",
              "<svg xmlns=\"http://www.w3.org/2000/svg\" height=\"24px\"viewBox=\"0 0 24 24\"\n",
              "     width=\"24px\">\n",
              "    <g>\n",
              "        <path d=\"M19 3H5c-1.1 0-2 .9-2 2v14c0 1.1.9 2 2 2h14c1.1 0 2-.9 2-2V5c0-1.1-.9-2-2-2zM9 17H7v-7h2v7zm4 0h-2V7h2v10zm4 0h-2v-4h2v4z\"/>\n",
              "    </g>\n",
              "</svg>\n",
              "  </button>\n",
              "\n",
              "<style>\n",
              "  .colab-df-quickchart {\n",
              "      --bg-color: #E8F0FE;\n",
              "      --fill-color: #1967D2;\n",
              "      --hover-bg-color: #E2EBFA;\n",
              "      --hover-fill-color: #174EA6;\n",
              "      --disabled-fill-color: #AAA;\n",
              "      --disabled-bg-color: #DDD;\n",
              "  }\n",
              "\n",
              "  [theme=dark] .colab-df-quickchart {\n",
              "      --bg-color: #3B4455;\n",
              "      --fill-color: #D2E3FC;\n",
              "      --hover-bg-color: #434B5C;\n",
              "      --hover-fill-color: #FFFFFF;\n",
              "      --disabled-bg-color: #3B4455;\n",
              "      --disabled-fill-color: #666;\n",
              "  }\n",
              "\n",
              "  .colab-df-quickchart {\n",
              "    background-color: var(--bg-color);\n",
              "    border: none;\n",
              "    border-radius: 50%;\n",
              "    cursor: pointer;\n",
              "    display: none;\n",
              "    fill: var(--fill-color);\n",
              "    height: 32px;\n",
              "    padding: 0;\n",
              "    width: 32px;\n",
              "  }\n",
              "\n",
              "  .colab-df-quickchart:hover {\n",
              "    background-color: var(--hover-bg-color);\n",
              "    box-shadow: 0 1px 2px rgba(60, 64, 67, 0.3), 0 1px 3px 1px rgba(60, 64, 67, 0.15);\n",
              "    fill: var(--button-hover-fill-color);\n",
              "  }\n",
              "\n",
              "  .colab-df-quickchart-complete:disabled,\n",
              "  .colab-df-quickchart-complete:disabled:hover {\n",
              "    background-color: var(--disabled-bg-color);\n",
              "    fill: var(--disabled-fill-color);\n",
              "    box-shadow: none;\n",
              "  }\n",
              "\n",
              "  .colab-df-spinner {\n",
              "    border: 2px solid var(--fill-color);\n",
              "    border-color: transparent;\n",
              "    border-bottom-color: var(--fill-color);\n",
              "    animation:\n",
              "      spin 1s steps(1) infinite;\n",
              "  }\n",
              "\n",
              "  @keyframes spin {\n",
              "    0% {\n",
              "      border-color: transparent;\n",
              "      border-bottom-color: var(--fill-color);\n",
              "      border-left-color: var(--fill-color);\n",
              "    }\n",
              "    20% {\n",
              "      border-color: transparent;\n",
              "      border-left-color: var(--fill-color);\n",
              "      border-top-color: var(--fill-color);\n",
              "    }\n",
              "    30% {\n",
              "      border-color: transparent;\n",
              "      border-left-color: var(--fill-color);\n",
              "      border-top-color: var(--fill-color);\n",
              "      border-right-color: var(--fill-color);\n",
              "    }\n",
              "    40% {\n",
              "      border-color: transparent;\n",
              "      border-right-color: var(--fill-color);\n",
              "      border-top-color: var(--fill-color);\n",
              "    }\n",
              "    60% {\n",
              "      border-color: transparent;\n",
              "      border-right-color: var(--fill-color);\n",
              "    }\n",
              "    80% {\n",
              "      border-color: transparent;\n",
              "      border-right-color: var(--fill-color);\n",
              "      border-bottom-color: var(--fill-color);\n",
              "    }\n",
              "    90% {\n",
              "      border-color: transparent;\n",
              "      border-bottom-color: var(--fill-color);\n",
              "    }\n",
              "  }\n",
              "</style>\n",
              "\n",
              "  <script>\n",
              "    async function quickchart(key) {\n",
              "      const quickchartButtonEl =\n",
              "        document.querySelector('#' + key + ' button');\n",
              "      quickchartButtonEl.disabled = true;  // To prevent multiple clicks.\n",
              "      quickchartButtonEl.classList.add('colab-df-spinner');\n",
              "      try {\n",
              "        const charts = await google.colab.kernel.invokeFunction(\n",
              "            'suggestCharts', [key], {});\n",
              "      } catch (error) {\n",
              "        console.error('Error during call to suggestCharts:', error);\n",
              "      }\n",
              "      quickchartButtonEl.classList.remove('colab-df-spinner');\n",
              "      quickchartButtonEl.classList.add('colab-df-quickchart-complete');\n",
              "    }\n",
              "    (() => {\n",
              "      let quickchartButtonEl =\n",
              "        document.querySelector('#df-79e7f195-6527-4dd3-9ee0-b5dbd68d3e6a button');\n",
              "      quickchartButtonEl.style.display =\n",
              "        google.colab.kernel.accessAllowed ? 'block' : 'none';\n",
              "    })();\n",
              "  </script>\n",
              "</div>\n",
              "    </div>\n",
              "  </div>\n"
            ]
          },
          "metadata": {},
          "execution_count": 3
        }
      ],
      "source": [
        "df = pd.read_csv(\"weatherAUS.csv\")\n",
        "\n",
        "df = df.dropna()\n",
        "df = df.reset_index(drop=True)\n",
        "\n",
        "df"
      ]
    },
    {
      "cell_type": "markdown",
      "metadata": {
        "id": "cgRZIxibMiLr"
      },
      "source": [
        "Optimizacion de datos"
      ]
    },
    {
      "cell_type": "code",
      "source": [
        "import pandas as pd\n",
        "from sklearn.preprocessing import LabelEncoder\n",
        "\n",
        "df['Date'] = pd.to_datetime(df['Date'])\n",
        "\n",
        "df = pd.get_dummies(df, columns=['Location'], prefix='Location')\n",
        "\n",
        "wind_direction_columns = ['WindGustDir', 'WindDir9am', 'WindDir3pm']\n",
        "le = LabelEncoder()\n",
        "for column in wind_direction_columns:\n",
        "    df[column] = le.fit_transform(df[column].astype(str))\n",
        "\n",
        "binary_columns = ['RainToday', 'RainTomorrow']\n",
        "for column in binary_columns:\n",
        "    df[column] = df[column].map({'No': 0, 'Yes': 1})\n",
        "\n",
        "scaler = MinMaxScaler()\n",
        "df = df.reset_index(drop=True)\n",
        "df"
      ],
      "metadata": {
        "id": "W0lJpEcEcZ8w",
        "outputId": "8a54566b-ce57-4f05-b93b-645ad5995c2b",
        "colab": {
          "base_uri": "https://localhost:8080/",
          "height": 444
        }
      },
      "execution_count": 4,
      "outputs": [
        {
          "output_type": "execute_result",
          "data": {
            "text/plain": [
              "            Date  MinTemp  MaxTemp  Rainfall  Evaporation  Sunshine  \\\n",
              "0     2009-01-01     17.9     35.2       0.0         12.0      12.3   \n",
              "1     2009-01-02     18.4     28.9       0.0         14.8      13.0   \n",
              "2     2009-01-04     19.4     37.6       0.0         10.8      10.6   \n",
              "3     2009-01-05     21.9     38.4       0.0         11.4      12.2   \n",
              "4     2009-01-06     24.2     41.0       0.0         11.2       8.4   \n",
              "...          ...      ...      ...       ...          ...       ...   \n",
              "31069 2014-02-24     19.6     28.5       1.2          8.4       7.8   \n",
              "31070 2014-02-25     19.9     29.6       1.4          9.2       8.4   \n",
              "31071 2014-02-26     19.1     29.5       0.0          8.4      10.7   \n",
              "31072 2014-02-27     19.3     30.7       0.0          7.2      12.2   \n",
              "31073 2014-02-28     20.6     30.9       0.0          8.0       7.4   \n",
              "\n",
              "       WindGustDir  WindGustSpeed  WindDir9am  WindDir3pm  ...  \\\n",
              "0               11           48.0           1          12  ...   \n",
              "1                8           37.0          10          10  ...   \n",
              "2                5           46.0           5           6  ...   \n",
              "3               14           31.0          14          15  ...   \n",
              "4               14           35.0           7          14  ...   \n",
              "...            ...            ...         ...         ...  ...   \n",
              "31069           10           28.0           9           2  ...   \n",
              "31070            0           31.0          10           0  ...   \n",
              "31071            1           24.0          11           1  ...   \n",
              "31072            4           24.0          14           4  ...   \n",
              "31073            0           35.0           2           0  ...   \n",
              "\n",
              "       Location_Mildura  Location_Moree  Location_NorfolkIsland  \\\n",
              "0                     0               0                       0   \n",
              "1                     0               0                       0   \n",
              "2                     0               0                       0   \n",
              "3                     0               0                       0   \n",
              "4                     0               0                       0   \n",
              "...                 ...             ...                     ...   \n",
              "31069                 0               0                       0   \n",
              "31070                 0               0                       0   \n",
              "31071                 0               0                       0   \n",
              "31072                 0               0                       0   \n",
              "31073                 0               0                       0   \n",
              "\n",
              "       Location_Portland  Location_Sale  Location_Sydney  \\\n",
              "0                      0              0                0   \n",
              "1                      0              0                0   \n",
              "2                      0              0                0   \n",
              "3                      0              0                0   \n",
              "4                      0              0                0   \n",
              "...                  ...            ...              ...   \n",
              "31069                  0              0                0   \n",
              "31070                  0              0                0   \n",
              "31071                  0              0                0   \n",
              "31072                  0              0                0   \n",
              "31073                  0              0                0   \n",
              "\n",
              "       Location_SydneyAirport  Location_WaggaWagga  Location_Watsonia  \\\n",
              "0                           0                    0                  0   \n",
              "1                           0                    0                  0   \n",
              "2                           0                    0                  0   \n",
              "3                           0                    0                  0   \n",
              "4                           0                    0                  0   \n",
              "...                       ...                  ...                ...   \n",
              "31069                       0                    0                  0   \n",
              "31070                       0                    0                  0   \n",
              "31071                       0                    0                  0   \n",
              "31072                       0                    0                  0   \n",
              "31073                       0                    0                  0   \n",
              "\n",
              "       Location_Williamtown  \n",
              "0                         0  \n",
              "1                         0  \n",
              "2                         0  \n",
              "3                         0  \n",
              "4                         0  \n",
              "...                     ...  \n",
              "31069                     0  \n",
              "31070                     0  \n",
              "31071                     0  \n",
              "31072                     0  \n",
              "31073                     0  \n",
              "\n",
              "[31074 rows x 38 columns]"
            ],
            "text/html": [
              "\n",
              "  <div id=\"df-7b3a7e86-646f-4a27-bc84-57aa3de7f866\" class=\"colab-df-container\">\n",
              "    <div>\n",
              "<style scoped>\n",
              "    .dataframe tbody tr th:only-of-type {\n",
              "        vertical-align: middle;\n",
              "    }\n",
              "\n",
              "    .dataframe tbody tr th {\n",
              "        vertical-align: top;\n",
              "    }\n",
              "\n",
              "    .dataframe thead th {\n",
              "        text-align: right;\n",
              "    }\n",
              "</style>\n",
              "<table border=\"1\" class=\"dataframe\">\n",
              "  <thead>\n",
              "    <tr style=\"text-align: right;\">\n",
              "      <th></th>\n",
              "      <th>Date</th>\n",
              "      <th>MinTemp</th>\n",
              "      <th>MaxTemp</th>\n",
              "      <th>Rainfall</th>\n",
              "      <th>Evaporation</th>\n",
              "      <th>Sunshine</th>\n",
              "      <th>WindGustDir</th>\n",
              "      <th>WindGustSpeed</th>\n",
              "      <th>WindDir9am</th>\n",
              "      <th>WindDir3pm</th>\n",
              "      <th>...</th>\n",
              "      <th>Location_Mildura</th>\n",
              "      <th>Location_Moree</th>\n",
              "      <th>Location_NorfolkIsland</th>\n",
              "      <th>Location_Portland</th>\n",
              "      <th>Location_Sale</th>\n",
              "      <th>Location_Sydney</th>\n",
              "      <th>Location_SydneyAirport</th>\n",
              "      <th>Location_WaggaWagga</th>\n",
              "      <th>Location_Watsonia</th>\n",
              "      <th>Location_Williamtown</th>\n",
              "    </tr>\n",
              "  </thead>\n",
              "  <tbody>\n",
              "    <tr>\n",
              "      <th>0</th>\n",
              "      <td>2009-01-01</td>\n",
              "      <td>17.9</td>\n",
              "      <td>35.2</td>\n",
              "      <td>0.0</td>\n",
              "      <td>12.0</td>\n",
              "      <td>12.3</td>\n",
              "      <td>11</td>\n",
              "      <td>48.0</td>\n",
              "      <td>1</td>\n",
              "      <td>12</td>\n",
              "      <td>...</td>\n",
              "      <td>0</td>\n",
              "      <td>0</td>\n",
              "      <td>0</td>\n",
              "      <td>0</td>\n",
              "      <td>0</td>\n",
              "      <td>0</td>\n",
              "      <td>0</td>\n",
              "      <td>0</td>\n",
              "      <td>0</td>\n",
              "      <td>0</td>\n",
              "    </tr>\n",
              "    <tr>\n",
              "      <th>1</th>\n",
              "      <td>2009-01-02</td>\n",
              "      <td>18.4</td>\n",
              "      <td>28.9</td>\n",
              "      <td>0.0</td>\n",
              "      <td>14.8</td>\n",
              "      <td>13.0</td>\n",
              "      <td>8</td>\n",
              "      <td>37.0</td>\n",
              "      <td>10</td>\n",
              "      <td>10</td>\n",
              "      <td>...</td>\n",
              "      <td>0</td>\n",
              "      <td>0</td>\n",
              "      <td>0</td>\n",
              "      <td>0</td>\n",
              "      <td>0</td>\n",
              "      <td>0</td>\n",
              "      <td>0</td>\n",
              "      <td>0</td>\n",
              "      <td>0</td>\n",
              "      <td>0</td>\n",
              "    </tr>\n",
              "    <tr>\n",
              "      <th>2</th>\n",
              "      <td>2009-01-04</td>\n",
              "      <td>19.4</td>\n",
              "      <td>37.6</td>\n",
              "      <td>0.0</td>\n",
              "      <td>10.8</td>\n",
              "      <td>10.6</td>\n",
              "      <td>5</td>\n",
              "      <td>46.0</td>\n",
              "      <td>5</td>\n",
              "      <td>6</td>\n",
              "      <td>...</td>\n",
              "      <td>0</td>\n",
              "      <td>0</td>\n",
              "      <td>0</td>\n",
              "      <td>0</td>\n",
              "      <td>0</td>\n",
              "      <td>0</td>\n",
              "      <td>0</td>\n",
              "      <td>0</td>\n",
              "      <td>0</td>\n",
              "      <td>0</td>\n",
              "    </tr>\n",
              "    <tr>\n",
              "      <th>3</th>\n",
              "      <td>2009-01-05</td>\n",
              "      <td>21.9</td>\n",
              "      <td>38.4</td>\n",
              "      <td>0.0</td>\n",
              "      <td>11.4</td>\n",
              "      <td>12.2</td>\n",
              "      <td>14</td>\n",
              "      <td>31.0</td>\n",
              "      <td>14</td>\n",
              "      <td>15</td>\n",
              "      <td>...</td>\n",
              "      <td>0</td>\n",
              "      <td>0</td>\n",
              "      <td>0</td>\n",
              "      <td>0</td>\n",
              "      <td>0</td>\n",
              "      <td>0</td>\n",
              "      <td>0</td>\n",
              "      <td>0</td>\n",
              "      <td>0</td>\n",
              "      <td>0</td>\n",
              "    </tr>\n",
              "    <tr>\n",
              "      <th>4</th>\n",
              "      <td>2009-01-06</td>\n",
              "      <td>24.2</td>\n",
              "      <td>41.0</td>\n",
              "      <td>0.0</td>\n",
              "      <td>11.2</td>\n",
              "      <td>8.4</td>\n",
              "      <td>14</td>\n",
              "      <td>35.0</td>\n",
              "      <td>7</td>\n",
              "      <td>14</td>\n",
              "      <td>...</td>\n",
              "      <td>0</td>\n",
              "      <td>0</td>\n",
              "      <td>0</td>\n",
              "      <td>0</td>\n",
              "      <td>0</td>\n",
              "      <td>0</td>\n",
              "      <td>0</td>\n",
              "      <td>0</td>\n",
              "      <td>0</td>\n",
              "      <td>0</td>\n",
              "    </tr>\n",
              "    <tr>\n",
              "      <th>...</th>\n",
              "      <td>...</td>\n",
              "      <td>...</td>\n",
              "      <td>...</td>\n",
              "      <td>...</td>\n",
              "      <td>...</td>\n",
              "      <td>...</td>\n",
              "      <td>...</td>\n",
              "      <td>...</td>\n",
              "      <td>...</td>\n",
              "      <td>...</td>\n",
              "      <td>...</td>\n",
              "      <td>...</td>\n",
              "      <td>...</td>\n",
              "      <td>...</td>\n",
              "      <td>...</td>\n",
              "      <td>...</td>\n",
              "      <td>...</td>\n",
              "      <td>...</td>\n",
              "      <td>...</td>\n",
              "      <td>...</td>\n",
              "      <td>...</td>\n",
              "    </tr>\n",
              "    <tr>\n",
              "      <th>31069</th>\n",
              "      <td>2014-02-24</td>\n",
              "      <td>19.6</td>\n",
              "      <td>28.5</td>\n",
              "      <td>1.2</td>\n",
              "      <td>8.4</td>\n",
              "      <td>7.8</td>\n",
              "      <td>10</td>\n",
              "      <td>28.0</td>\n",
              "      <td>9</td>\n",
              "      <td>2</td>\n",
              "      <td>...</td>\n",
              "      <td>0</td>\n",
              "      <td>0</td>\n",
              "      <td>0</td>\n",
              "      <td>0</td>\n",
              "      <td>0</td>\n",
              "      <td>0</td>\n",
              "      <td>0</td>\n",
              "      <td>0</td>\n",
              "      <td>0</td>\n",
              "      <td>0</td>\n",
              "    </tr>\n",
              "    <tr>\n",
              "      <th>31070</th>\n",
              "      <td>2014-02-25</td>\n",
              "      <td>19.9</td>\n",
              "      <td>29.6</td>\n",
              "      <td>1.4</td>\n",
              "      <td>9.2</td>\n",
              "      <td>8.4</td>\n",
              "      <td>0</td>\n",
              "      <td>31.0</td>\n",
              "      <td>10</td>\n",
              "      <td>0</td>\n",
              "      <td>...</td>\n",
              "      <td>0</td>\n",
              "      <td>0</td>\n",
              "      <td>0</td>\n",
              "      <td>0</td>\n",
              "      <td>0</td>\n",
              "      <td>0</td>\n",
              "      <td>0</td>\n",
              "      <td>0</td>\n",
              "      <td>0</td>\n",
              "      <td>0</td>\n",
              "    </tr>\n",
              "    <tr>\n",
              "      <th>31071</th>\n",
              "      <td>2014-02-26</td>\n",
              "      <td>19.1</td>\n",
              "      <td>29.5</td>\n",
              "      <td>0.0</td>\n",
              "      <td>8.4</td>\n",
              "      <td>10.7</td>\n",
              "      <td>1</td>\n",
              "      <td>24.0</td>\n",
              "      <td>11</td>\n",
              "      <td>1</td>\n",
              "      <td>...</td>\n",
              "      <td>0</td>\n",
              "      <td>0</td>\n",
              "      <td>0</td>\n",
              "      <td>0</td>\n",
              "      <td>0</td>\n",
              "      <td>0</td>\n",
              "      <td>0</td>\n",
              "      <td>0</td>\n",
              "      <td>0</td>\n",
              "      <td>0</td>\n",
              "    </tr>\n",
              "    <tr>\n",
              "      <th>31072</th>\n",
              "      <td>2014-02-27</td>\n",
              "      <td>19.3</td>\n",
              "      <td>30.7</td>\n",
              "      <td>0.0</td>\n",
              "      <td>7.2</td>\n",
              "      <td>12.2</td>\n",
              "      <td>4</td>\n",
              "      <td>24.0</td>\n",
              "      <td>14</td>\n",
              "      <td>4</td>\n",
              "      <td>...</td>\n",
              "      <td>0</td>\n",
              "      <td>0</td>\n",
              "      <td>0</td>\n",
              "      <td>0</td>\n",
              "      <td>0</td>\n",
              "      <td>0</td>\n",
              "      <td>0</td>\n",
              "      <td>0</td>\n",
              "      <td>0</td>\n",
              "      <td>0</td>\n",
              "    </tr>\n",
              "    <tr>\n",
              "      <th>31073</th>\n",
              "      <td>2014-02-28</td>\n",
              "      <td>20.6</td>\n",
              "      <td>30.9</td>\n",
              "      <td>0.0</td>\n",
              "      <td>8.0</td>\n",
              "      <td>7.4</td>\n",
              "      <td>0</td>\n",
              "      <td>35.0</td>\n",
              "      <td>2</td>\n",
              "      <td>0</td>\n",
              "      <td>...</td>\n",
              "      <td>0</td>\n",
              "      <td>0</td>\n",
              "      <td>0</td>\n",
              "      <td>0</td>\n",
              "      <td>0</td>\n",
              "      <td>0</td>\n",
              "      <td>0</td>\n",
              "      <td>0</td>\n",
              "      <td>0</td>\n",
              "      <td>0</td>\n",
              "    </tr>\n",
              "  </tbody>\n",
              "</table>\n",
              "<p>31074 rows × 38 columns</p>\n",
              "</div>\n",
              "    <div class=\"colab-df-buttons\">\n",
              "\n",
              "  <div class=\"colab-df-container\">\n",
              "    <button class=\"colab-df-convert\" onclick=\"convertToInteractive('df-7b3a7e86-646f-4a27-bc84-57aa3de7f866')\"\n",
              "            title=\"Convert this dataframe to an interactive table.\"\n",
              "            style=\"display:none;\">\n",
              "\n",
              "  <svg xmlns=\"http://www.w3.org/2000/svg\" height=\"24px\" viewBox=\"0 -960 960 960\">\n",
              "    <path d=\"M120-120v-720h720v720H120Zm60-500h600v-160H180v160Zm220 220h160v-160H400v160Zm0 220h160v-160H400v160ZM180-400h160v-160H180v160Zm440 0h160v-160H620v160ZM180-180h160v-160H180v160Zm440 0h160v-160H620v160Z\"/>\n",
              "  </svg>\n",
              "    </button>\n",
              "\n",
              "  <style>\n",
              "    .colab-df-container {\n",
              "      display:flex;\n",
              "      gap: 12px;\n",
              "    }\n",
              "\n",
              "    .colab-df-convert {\n",
              "      background-color: #E8F0FE;\n",
              "      border: none;\n",
              "      border-radius: 50%;\n",
              "      cursor: pointer;\n",
              "      display: none;\n",
              "      fill: #1967D2;\n",
              "      height: 32px;\n",
              "      padding: 0 0 0 0;\n",
              "      width: 32px;\n",
              "    }\n",
              "\n",
              "    .colab-df-convert:hover {\n",
              "      background-color: #E2EBFA;\n",
              "      box-shadow: 0px 1px 2px rgba(60, 64, 67, 0.3), 0px 1px 3px 1px rgba(60, 64, 67, 0.15);\n",
              "      fill: #174EA6;\n",
              "    }\n",
              "\n",
              "    .colab-df-buttons div {\n",
              "      margin-bottom: 4px;\n",
              "    }\n",
              "\n",
              "    [theme=dark] .colab-df-convert {\n",
              "      background-color: #3B4455;\n",
              "      fill: #D2E3FC;\n",
              "    }\n",
              "\n",
              "    [theme=dark] .colab-df-convert:hover {\n",
              "      background-color: #434B5C;\n",
              "      box-shadow: 0px 1px 3px 1px rgba(0, 0, 0, 0.15);\n",
              "      filter: drop-shadow(0px 1px 2px rgba(0, 0, 0, 0.3));\n",
              "      fill: #FFFFFF;\n",
              "    }\n",
              "  </style>\n",
              "\n",
              "    <script>\n",
              "      const buttonEl =\n",
              "        document.querySelector('#df-7b3a7e86-646f-4a27-bc84-57aa3de7f866 button.colab-df-convert');\n",
              "      buttonEl.style.display =\n",
              "        google.colab.kernel.accessAllowed ? 'block' : 'none';\n",
              "\n",
              "      async function convertToInteractive(key) {\n",
              "        const element = document.querySelector('#df-7b3a7e86-646f-4a27-bc84-57aa3de7f866');\n",
              "        const dataTable =\n",
              "          await google.colab.kernel.invokeFunction('convertToInteractive',\n",
              "                                                    [key], {});\n",
              "        if (!dataTable) return;\n",
              "\n",
              "        const docLinkHtml = 'Like what you see? Visit the ' +\n",
              "          '<a target=\"_blank\" href=https://colab.research.google.com/notebooks/data_table.ipynb>data table notebook</a>'\n",
              "          + ' to learn more about interactive tables.';\n",
              "        element.innerHTML = '';\n",
              "        dataTable['output_type'] = 'display_data';\n",
              "        await google.colab.output.renderOutput(dataTable, element);\n",
              "        const docLink = document.createElement('div');\n",
              "        docLink.innerHTML = docLinkHtml;\n",
              "        element.appendChild(docLink);\n",
              "      }\n",
              "    </script>\n",
              "  </div>\n",
              "\n",
              "\n",
              "<div id=\"df-d30afd46-34b5-4c61-b4cc-01cec7577250\">\n",
              "  <button class=\"colab-df-quickchart\" onclick=\"quickchart('df-d30afd46-34b5-4c61-b4cc-01cec7577250')\"\n",
              "            title=\"Suggest charts.\"\n",
              "            style=\"display:none;\">\n",
              "\n",
              "<svg xmlns=\"http://www.w3.org/2000/svg\" height=\"24px\"viewBox=\"0 0 24 24\"\n",
              "     width=\"24px\">\n",
              "    <g>\n",
              "        <path d=\"M19 3H5c-1.1 0-2 .9-2 2v14c0 1.1.9 2 2 2h14c1.1 0 2-.9 2-2V5c0-1.1-.9-2-2-2zM9 17H7v-7h2v7zm4 0h-2V7h2v10zm4 0h-2v-4h2v4z\"/>\n",
              "    </g>\n",
              "</svg>\n",
              "  </button>\n",
              "\n",
              "<style>\n",
              "  .colab-df-quickchart {\n",
              "      --bg-color: #E8F0FE;\n",
              "      --fill-color: #1967D2;\n",
              "      --hover-bg-color: #E2EBFA;\n",
              "      --hover-fill-color: #174EA6;\n",
              "      --disabled-fill-color: #AAA;\n",
              "      --disabled-bg-color: #DDD;\n",
              "  }\n",
              "\n",
              "  [theme=dark] .colab-df-quickchart {\n",
              "      --bg-color: #3B4455;\n",
              "      --fill-color: #D2E3FC;\n",
              "      --hover-bg-color: #434B5C;\n",
              "      --hover-fill-color: #FFFFFF;\n",
              "      --disabled-bg-color: #3B4455;\n",
              "      --disabled-fill-color: #666;\n",
              "  }\n",
              "\n",
              "  .colab-df-quickchart {\n",
              "    background-color: var(--bg-color);\n",
              "    border: none;\n",
              "    border-radius: 50%;\n",
              "    cursor: pointer;\n",
              "    display: none;\n",
              "    fill: var(--fill-color);\n",
              "    height: 32px;\n",
              "    padding: 0;\n",
              "    width: 32px;\n",
              "  }\n",
              "\n",
              "  .colab-df-quickchart:hover {\n",
              "    background-color: var(--hover-bg-color);\n",
              "    box-shadow: 0 1px 2px rgba(60, 64, 67, 0.3), 0 1px 3px 1px rgba(60, 64, 67, 0.15);\n",
              "    fill: var(--button-hover-fill-color);\n",
              "  }\n",
              "\n",
              "  .colab-df-quickchart-complete:disabled,\n",
              "  .colab-df-quickchart-complete:disabled:hover {\n",
              "    background-color: var(--disabled-bg-color);\n",
              "    fill: var(--disabled-fill-color);\n",
              "    box-shadow: none;\n",
              "  }\n",
              "\n",
              "  .colab-df-spinner {\n",
              "    border: 2px solid var(--fill-color);\n",
              "    border-color: transparent;\n",
              "    border-bottom-color: var(--fill-color);\n",
              "    animation:\n",
              "      spin 1s steps(1) infinite;\n",
              "  }\n",
              "\n",
              "  @keyframes spin {\n",
              "    0% {\n",
              "      border-color: transparent;\n",
              "      border-bottom-color: var(--fill-color);\n",
              "      border-left-color: var(--fill-color);\n",
              "    }\n",
              "    20% {\n",
              "      border-color: transparent;\n",
              "      border-left-color: var(--fill-color);\n",
              "      border-top-color: var(--fill-color);\n",
              "    }\n",
              "    30% {\n",
              "      border-color: transparent;\n",
              "      border-left-color: var(--fill-color);\n",
              "      border-top-color: var(--fill-color);\n",
              "      border-right-color: var(--fill-color);\n",
              "    }\n",
              "    40% {\n",
              "      border-color: transparent;\n",
              "      border-right-color: var(--fill-color);\n",
              "      border-top-color: var(--fill-color);\n",
              "    }\n",
              "    60% {\n",
              "      border-color: transparent;\n",
              "      border-right-color: var(--fill-color);\n",
              "    }\n",
              "    80% {\n",
              "      border-color: transparent;\n",
              "      border-right-color: var(--fill-color);\n",
              "      border-bottom-color: var(--fill-color);\n",
              "    }\n",
              "    90% {\n",
              "      border-color: transparent;\n",
              "      border-bottom-color: var(--fill-color);\n",
              "    }\n",
              "  }\n",
              "</style>\n",
              "\n",
              "  <script>\n",
              "    async function quickchart(key) {\n",
              "      const quickchartButtonEl =\n",
              "        document.querySelector('#' + key + ' button');\n",
              "      quickchartButtonEl.disabled = true;  // To prevent multiple clicks.\n",
              "      quickchartButtonEl.classList.add('colab-df-spinner');\n",
              "      try {\n",
              "        const charts = await google.colab.kernel.invokeFunction(\n",
              "            'suggestCharts', [key], {});\n",
              "      } catch (error) {\n",
              "        console.error('Error during call to suggestCharts:', error);\n",
              "      }\n",
              "      quickchartButtonEl.classList.remove('colab-df-spinner');\n",
              "      quickchartButtonEl.classList.add('colab-df-quickchart-complete');\n",
              "    }\n",
              "    (() => {\n",
              "      let quickchartButtonEl =\n",
              "        document.querySelector('#df-d30afd46-34b5-4c61-b4cc-01cec7577250 button');\n",
              "      quickchartButtonEl.style.display =\n",
              "        google.colab.kernel.accessAllowed ? 'block' : 'none';\n",
              "    })();\n",
              "  </script>\n",
              "</div>\n",
              "    </div>\n",
              "  </div>\n"
            ]
          },
          "metadata": {},
          "execution_count": 4
        }
      ]
    },
    {
      "cell_type": "code",
      "source": [
        "correlation_matrix = abs(df.corr())\n",
        "correlation_threshold = 0.2\n",
        "significant_features = correlation_matrix['RainTomorrow'][abs(correlation_matrix['RainTomorrow']) > correlation_threshold]\n",
        "features = significant_features.index.tolist()\n",
        "print(\"Características seleccionadas basadas en correlación:\")\n",
        "print(features)\n",
        "X = df[features].values\n",
        "y = df.RainTomorrow.values\n",
        "scaler = MinMaxScaler()\n",
        "X =  scaler.fit_transform(X)\n",
        "\n",
        "X_train, X_test, y_train, y_test = train_test_split(X, y, test_size=0.3, random_state=45)\n"
      ],
      "metadata": {
        "id": "In5JtiVFdjiq",
        "outputId": "0e1e77e6-ee55-4952-dd4e-ff9a97c4337d",
        "colab": {
          "base_uri": "https://localhost:8080/"
        }
      },
      "execution_count": 5,
      "outputs": [
        {
          "output_type": "stream",
          "name": "stdout",
          "text": [
            "Características seleccionadas basadas en correlación:\n",
            "['Rainfall', 'Sunshine', 'WindGustSpeed', 'Humidity9am', 'Humidity3pm', 'Pressure9am', 'Pressure3pm', 'Cloud9am', 'Cloud3pm', 'RainToday', 'RainTomorrow']\n"
          ]
        },
        {
          "output_type": "stream",
          "name": "stderr",
          "text": [
            "<ipython-input-5-f5e45d0d8ab7>:1: FutureWarning: The default value of numeric_only in DataFrame.corr is deprecated. In a future version, it will default to False. Select only valid columns or specify the value of numeric_only to silence this warning.\n",
            "  correlation_matrix = abs(df.corr())\n"
          ]
        }
      ]
    },
    {
      "cell_type": "markdown",
      "metadata": {
        "id": "Dc3Ps03cMiLs"
      },
      "source": [
        "Set de Datos 'Notas del curso de Introduccion a la Programacion'"
      ]
    },
    {
      "cell_type": "code",
      "execution_count": null,
      "metadata": {
        "id": "xWCkXc-UMiLs",
        "outputId": "bd608c75-6579-4217-83fb-0886a542aa25"
      },
      "outputs": [
        {
          "data": {
            "text/html": [
              "<div>\n",
              "<style scoped>\n",
              "    .dataframe tbody tr th:only-of-type {\n",
              "        vertical-align: middle;\n",
              "    }\n",
              "\n",
              "    .dataframe tbody tr th {\n",
              "        vertical-align: top;\n",
              "    }\n",
              "\n",
              "    .dataframe thead th {\n",
              "        text-align: right;\n",
              "    }\n",
              "</style>\n",
              "<table border=\"1\" class=\"dataframe\">\n",
              "  <thead>\n",
              "    <tr style=\"text-align: right;\">\n",
              "      <th></th>\n",
              "      <th>E1</th>\n",
              "      <th>E2</th>\n",
              "      <th>Q1</th>\n",
              "      <th>F</th>\n",
              "    </tr>\n",
              "  </thead>\n",
              "  <tbody>\n",
              "    <tr>\n",
              "      <th>0</th>\n",
              "      <td>57.4</td>\n",
              "      <td>75.6</td>\n",
              "      <td>93.3</td>\n",
              "      <td>1</td>\n",
              "    </tr>\n",
              "    <tr>\n",
              "      <th>1</th>\n",
              "      <td>100.0</td>\n",
              "      <td>96.3</td>\n",
              "      <td>86.7</td>\n",
              "      <td>1</td>\n",
              "    </tr>\n",
              "    <tr>\n",
              "      <th>2</th>\n",
              "      <td>19.6</td>\n",
              "      <td>46.7</td>\n",
              "      <td>26.7</td>\n",
              "      <td>0</td>\n",
              "    </tr>\n",
              "    <tr>\n",
              "      <th>3</th>\n",
              "      <td>34.5</td>\n",
              "      <td>34.2</td>\n",
              "      <td>36.7</td>\n",
              "      <td>0</td>\n",
              "    </tr>\n",
              "    <tr>\n",
              "      <th>4</th>\n",
              "      <td>89.5</td>\n",
              "      <td>87.7</td>\n",
              "      <td>93.3</td>\n",
              "      <td>1</td>\n",
              "    </tr>\n",
              "  </tbody>\n",
              "</table>\n",
              "</div>"
            ],
            "text/plain": [
              "      E1    E2    Q1  F\n",
              "0   57.4  75.6  93.3  1\n",
              "1  100.0  96.3  86.7  1\n",
              "2   19.6  46.7  26.7  0\n",
              "3   34.5  34.2  36.7  0\n",
              "4   89.5  87.7  93.3  1"
            ]
          },
          "execution_count": 80,
          "metadata": {},
          "output_type": "execute_result"
        }
      ],
      "source": [
        "df = pd.read_csv(\"SetDatos/matrix-Eval-Introduccion A La Programacion GR 5.csv\")\n",
        "df = pd.read_csv(\"SetDatos/matrix-Eval-Introduccion A La Programacion GR 5 (1).csv\")\n",
        "df = pd.read_csv(\"SetDatos/matrix-Eval-Introduccion A La Programacion GR 4.csv\")\n",
        "df = pd.read_csv(\"SetDatos/matrix-Eval-Introduccion A La Programacion GR 4 (1).csv\")\n",
        "df = pd.read_csv(\"SetDatos/matrix-Eval-Introduccion A La Programacion GR 4 (2).csv\")\n",
        "df= pd.read_csv(\"SetDatos/p1-3-2-2.csv\")\n",
        "df[\"F\"] = np.where(df[\"F\"] < 67.5, 0, 1)\n",
        "\n",
        "df.head()"
      ]
    },
    {
      "cell_type": "code",
      "execution_count": null,
      "metadata": {
        "id": "7WsPRex3MiLt"
      },
      "outputs": [],
      "source": [
        "features = ['E1', 'E2',  'Q1']\n",
        "X = df[features]\n",
        "y = df.F\n",
        "X_train_notesDataset, X_test_notesDataset, y_train_notesDataset, y_test_notesDataset = train_test_split(X, y, test_size=0.15, random_state=45)\n",
        "scaler = MinMaxScaler()\n",
        "X_train__notesDataset = scaler.fit_transform(X_train_notesDataset)\n",
        "X_test__notesDataset = scaler.transform(X_test_notesDataset)"
      ]
    },
    {
      "cell_type": "markdown",
      "metadata": {
        "id": "8cG66pzkMiLt"
      },
      "source": [
        "Set de Datos seleccionado"
      ]
    },
    {
      "cell_type": "code",
      "execution_count": null,
      "metadata": {
        "id": "ucpCshCmMiLt",
        "outputId": "91323d65-9cca-45c3-f9a9-325bf887349d"
      },
      "outputs": [
        {
          "data": {
            "text/html": [
              "<div>\n",
              "<style scoped>\n",
              "    .dataframe tbody tr th:only-of-type {\n",
              "        vertical-align: middle;\n",
              "    }\n",
              "\n",
              "    .dataframe tbody tr th {\n",
              "        vertical-align: top;\n",
              "    }\n",
              "\n",
              "    .dataframe thead th {\n",
              "        text-align: right;\n",
              "    }\n",
              "</style>\n",
              "<table border=\"1\" class=\"dataframe\">\n",
              "  <thead>\n",
              "    <tr style=\"text-align: right;\">\n",
              "      <th></th>\n",
              "      <th>Bankrupt?</th>\n",
              "      <th>ROA(C) before interest and depreciation before interest</th>\n",
              "      <th>ROA(A) before interest and % after tax</th>\n",
              "      <th>ROA(B) before interest and depreciation after tax</th>\n",
              "      <th>Operating Gross Margin</th>\n",
              "      <th>Realized Sales Gross Margin</th>\n",
              "      <th>Operating Profit Rate</th>\n",
              "      <th>Pre-tax net Interest Rate</th>\n",
              "      <th>After-tax net Interest Rate</th>\n",
              "      <th>Non-industry income and expenditure/revenue</th>\n",
              "      <th>...</th>\n",
              "      <th>Net Income to Total Assets</th>\n",
              "      <th>Total assets to GNP price</th>\n",
              "      <th>No-credit Interval</th>\n",
              "      <th>Gross Profit to Sales</th>\n",
              "      <th>Net Income to Stockholder's Equity</th>\n",
              "      <th>Liability to Equity</th>\n",
              "      <th>Degree of Financial Leverage (DFL)</th>\n",
              "      <th>Interest Coverage Ratio (Interest expense to EBIT)</th>\n",
              "      <th>Net Income Flag</th>\n",
              "      <th>Equity to Liability</th>\n",
              "    </tr>\n",
              "  </thead>\n",
              "  <tbody>\n",
              "    <tr>\n",
              "      <th>0</th>\n",
              "      <td>1</td>\n",
              "      <td>0.370594</td>\n",
              "      <td>0.424389</td>\n",
              "      <td>0.405750</td>\n",
              "      <td>0.601457</td>\n",
              "      <td>0.601457</td>\n",
              "      <td>0.998969</td>\n",
              "      <td>0.796887</td>\n",
              "      <td>0.808809</td>\n",
              "      <td>0.302646</td>\n",
              "      <td>...</td>\n",
              "      <td>0.716845</td>\n",
              "      <td>0.009219</td>\n",
              "      <td>0.622879</td>\n",
              "      <td>0.601453</td>\n",
              "      <td>0.827890</td>\n",
              "      <td>0.290202</td>\n",
              "      <td>0.026601</td>\n",
              "      <td>0.564050</td>\n",
              "      <td>1</td>\n",
              "      <td>0.016469</td>\n",
              "    </tr>\n",
              "    <tr>\n",
              "      <th>1</th>\n",
              "      <td>1</td>\n",
              "      <td>0.464291</td>\n",
              "      <td>0.538214</td>\n",
              "      <td>0.516730</td>\n",
              "      <td>0.610235</td>\n",
              "      <td>0.610235</td>\n",
              "      <td>0.998946</td>\n",
              "      <td>0.797380</td>\n",
              "      <td>0.809301</td>\n",
              "      <td>0.303556</td>\n",
              "      <td>...</td>\n",
              "      <td>0.795297</td>\n",
              "      <td>0.008323</td>\n",
              "      <td>0.623652</td>\n",
              "      <td>0.610237</td>\n",
              "      <td>0.839969</td>\n",
              "      <td>0.283846</td>\n",
              "      <td>0.264577</td>\n",
              "      <td>0.570175</td>\n",
              "      <td>1</td>\n",
              "      <td>0.020794</td>\n",
              "    </tr>\n",
              "    <tr>\n",
              "      <th>2</th>\n",
              "      <td>1</td>\n",
              "      <td>0.426071</td>\n",
              "      <td>0.499019</td>\n",
              "      <td>0.472295</td>\n",
              "      <td>0.601450</td>\n",
              "      <td>0.601364</td>\n",
              "      <td>0.998857</td>\n",
              "      <td>0.796403</td>\n",
              "      <td>0.808388</td>\n",
              "      <td>0.302035</td>\n",
              "      <td>...</td>\n",
              "      <td>0.774670</td>\n",
              "      <td>0.040003</td>\n",
              "      <td>0.623841</td>\n",
              "      <td>0.601449</td>\n",
              "      <td>0.836774</td>\n",
              "      <td>0.290189</td>\n",
              "      <td>0.026555</td>\n",
              "      <td>0.563706</td>\n",
              "      <td>1</td>\n",
              "      <td>0.016474</td>\n",
              "    </tr>\n",
              "    <tr>\n",
              "      <th>3</th>\n",
              "      <td>1</td>\n",
              "      <td>0.399844</td>\n",
              "      <td>0.451265</td>\n",
              "      <td>0.457733</td>\n",
              "      <td>0.583541</td>\n",
              "      <td>0.583541</td>\n",
              "      <td>0.998700</td>\n",
              "      <td>0.796967</td>\n",
              "      <td>0.808966</td>\n",
              "      <td>0.303350</td>\n",
              "      <td>...</td>\n",
              "      <td>0.739555</td>\n",
              "      <td>0.003252</td>\n",
              "      <td>0.622929</td>\n",
              "      <td>0.583538</td>\n",
              "      <td>0.834697</td>\n",
              "      <td>0.281721</td>\n",
              "      <td>0.026697</td>\n",
              "      <td>0.564663</td>\n",
              "      <td>1</td>\n",
              "      <td>0.023982</td>\n",
              "    </tr>\n",
              "    <tr>\n",
              "      <th>4</th>\n",
              "      <td>1</td>\n",
              "      <td>0.465022</td>\n",
              "      <td>0.538432</td>\n",
              "      <td>0.522298</td>\n",
              "      <td>0.598783</td>\n",
              "      <td>0.598783</td>\n",
              "      <td>0.998973</td>\n",
              "      <td>0.797366</td>\n",
              "      <td>0.809304</td>\n",
              "      <td>0.303475</td>\n",
              "      <td>...</td>\n",
              "      <td>0.795016</td>\n",
              "      <td>0.003878</td>\n",
              "      <td>0.623521</td>\n",
              "      <td>0.598782</td>\n",
              "      <td>0.839973</td>\n",
              "      <td>0.278514</td>\n",
              "      <td>0.024752</td>\n",
              "      <td>0.575617</td>\n",
              "      <td>1</td>\n",
              "      <td>0.035490</td>\n",
              "    </tr>\n",
              "  </tbody>\n",
              "</table>\n",
              "<p>5 rows × 96 columns</p>\n",
              "</div>"
            ],
            "text/plain": [
              "   Bankrupt?   ROA(C) before interest and depreciation before interest  \\\n",
              "0          1                                           0.370594          \n",
              "1          1                                           0.464291          \n",
              "2          1                                           0.426071          \n",
              "3          1                                           0.399844          \n",
              "4          1                                           0.465022          \n",
              "\n",
              "    ROA(A) before interest and % after tax  \\\n",
              "0                                 0.424389   \n",
              "1                                 0.538214   \n",
              "2                                 0.499019   \n",
              "3                                 0.451265   \n",
              "4                                 0.538432   \n",
              "\n",
              "    ROA(B) before interest and depreciation after tax  \\\n",
              "0                                           0.405750    \n",
              "1                                           0.516730    \n",
              "2                                           0.472295    \n",
              "3                                           0.457733    \n",
              "4                                           0.522298    \n",
              "\n",
              "    Operating Gross Margin   Realized Sales Gross Margin  \\\n",
              "0                 0.601457                      0.601457   \n",
              "1                 0.610235                      0.610235   \n",
              "2                 0.601450                      0.601364   \n",
              "3                 0.583541                      0.583541   \n",
              "4                 0.598783                      0.598783   \n",
              "\n",
              "    Operating Profit Rate   Pre-tax net Interest Rate  \\\n",
              "0                0.998969                    0.796887   \n",
              "1                0.998946                    0.797380   \n",
              "2                0.998857                    0.796403   \n",
              "3                0.998700                    0.796967   \n",
              "4                0.998973                    0.797366   \n",
              "\n",
              "    After-tax net Interest Rate   Non-industry income and expenditure/revenue  \\\n",
              "0                      0.808809                                      0.302646   \n",
              "1                      0.809301                                      0.303556   \n",
              "2                      0.808388                                      0.302035   \n",
              "3                      0.808966                                      0.303350   \n",
              "4                      0.809304                                      0.303475   \n",
              "\n",
              "   ...   Net Income to Total Assets   Total assets to GNP price  \\\n",
              "0  ...                     0.716845                    0.009219   \n",
              "1  ...                     0.795297                    0.008323   \n",
              "2  ...                     0.774670                    0.040003   \n",
              "3  ...                     0.739555                    0.003252   \n",
              "4  ...                     0.795016                    0.003878   \n",
              "\n",
              "    No-credit Interval   Gross Profit to Sales  \\\n",
              "0             0.622879                0.601453   \n",
              "1             0.623652                0.610237   \n",
              "2             0.623841                0.601449   \n",
              "3             0.622929                0.583538   \n",
              "4             0.623521                0.598782   \n",
              "\n",
              "    Net Income to Stockholder's Equity   Liability to Equity  \\\n",
              "0                             0.827890              0.290202   \n",
              "1                             0.839969              0.283846   \n",
              "2                             0.836774              0.290189   \n",
              "3                             0.834697              0.281721   \n",
              "4                             0.839973              0.278514   \n",
              "\n",
              "    Degree of Financial Leverage (DFL)  \\\n",
              "0                             0.026601   \n",
              "1                             0.264577   \n",
              "2                             0.026555   \n",
              "3                             0.026697   \n",
              "4                             0.024752   \n",
              "\n",
              "    Interest Coverage Ratio (Interest expense to EBIT)   Net Income Flag  \\\n",
              "0                                           0.564050                   1   \n",
              "1                                           0.570175                   1   \n",
              "2                                           0.563706                   1   \n",
              "3                                           0.564663                   1   \n",
              "4                                           0.575617                   1   \n",
              "\n",
              "    Equity to Liability  \n",
              "0              0.016469  \n",
              "1              0.020794  \n",
              "2              0.016474  \n",
              "3              0.023982  \n",
              "4              0.035490  \n",
              "\n",
              "[5 rows x 96 columns]"
            ]
          },
          "execution_count": 63,
          "metadata": {},
          "output_type": "execute_result"
        }
      ],
      "source": [
        "df = pd.read_csv(\"SetDatos/dataBankruptcy.csv\")\n",
        "df.head()"
      ]
    },
    {
      "cell_type": "code",
      "execution_count": null,
      "metadata": {
        "id": "lfGNBYZVMiLt",
        "outputId": "188bc198-3cde-4190-8a3a-6f10beb2e898"
      },
      "outputs": [
        {
          "name": "stdout",
          "output_type": "stream",
          "text": [
            "Características seleccionadas basadas en correlación:\n",
            "['Bankrupt?', ' ROA(C) before interest and depreciation before interest', ' ROA(A) before interest and % after tax', ' ROA(B) before interest and depreciation after tax', ' Persistent EPS in the Last Four Seasons', ' Per Share Net profit before tax (Yuan ¥)', ' Debt ratio %', ' Net worth/Assets', ' Net profit before tax/Paid-in capital', ' Retained Earnings to Total Assets', ' Net Income to Total Assets']\n"
          ]
        }
      ],
      "source": [
        "correlation_matrix = df.corr()\n",
        "correlation_threshold = 0.2\n",
        "significant_features = correlation_matrix['Bankrupt?'][abs(correlation_matrix['Bankrupt?']) > correlation_threshold]\n",
        "features = significant_features.index.tolist()\n",
        "print(\"Características seleccionadas basadas en correlación:\")\n",
        "print(features)\n",
        "X = df[features]\n",
        "y = df['Bankrupt?']\n",
        "X_train_selectedDataset, X_test_selectedDataset, y_train_selectedDataset, y_test_selectedDataset = train_test_split(X, y, test_size=0.15, random_state=45)\n",
        "scaler = MinMaxScaler()\n",
        "X_train_selectedDataset = scaler.fit_transform(X_train_selectedDataset)\n",
        "X_test_selectedDataset = scaler.transform(X_test_selectedDataset)"
      ]
    },
    {
      "cell_type": "markdown",
      "metadata": {
        "id": "y6vpqnj4MiLu"
      },
      "source": [
        "Aplicacion de Algoritmos"
      ]
    },
    {
      "cell_type": "markdown",
      "metadata": {
        "id": "irBghPm2MiLu"
      },
      "source": [
        "Regresion Logistica"
      ]
    },
    {
      "cell_type": "code",
      "execution_count": 121,
      "metadata": {
        "id": "98hFjWKnMiLu"
      },
      "outputs": [],
      "source": [
        "class LogisticRegression:\n",
        "    def __init__(self, lr=0.01, num_iter=100000, fit_intercept=True):\n",
        "        self.lr = lr\n",
        "        self.num_iter = num_iter\n",
        "        self.fit_intercept = fit_intercept\n",
        "\n",
        "    def __add_intercept(self, X):\n",
        "        intercept = np.ones((X.shape[0], 1))\n",
        "        return np.concatenate((intercept, X), axis=1)\n",
        "\n",
        "    def __sigmoid(self, z):\n",
        "        return 1 / (1 + np.exp(-z))\n",
        "\n",
        "    def __loss(self, h, y):\n",
        "        return (-y * np.log(h) - (1 - y) * np.log(1 - h)).mean()\n",
        "\n",
        "    def fit(self, X, y):\n",
        "        if self.fit_intercept:\n",
        "            X = self.__add_intercept(X)\n",
        "        self.w = np.zeros(X.shape[1])\n",
        "        for i in range(self.num_iter):\n",
        "            z = np.dot(X, self.w)\n",
        "            h = self.__sigmoid(z)\n",
        "            gradient = np.dot(X.T, (h-y)) / y.size\n",
        "            self.w -= self.lr * gradient\n",
        "\n",
        "    def predict_prob(self, X):\n",
        "        if self.fit_intercept:\n",
        "            X = self.__add_intercept(X)\n",
        "        return self.__sigmoid(np.dot(X, self.w))\n",
        "\n",
        "    def predict(self, X, threshold):\n",
        "        return self.predict_prob(X) >= threshold\n",
        "\n",
        "    def score(self, y_pred,y_test):\n",
        "        return float(sum(y_pred == y_test)) / float(len(y_test))"
      ]
    },
    {
      "cell_type": "markdown",
      "metadata": {
        "id": "CcRhAF9EMiLu"
      },
      "source": [
        "Aplicacion de Algoritmo Logistic Regression sobre el set de datos Rain in Australia"
      ]
    },
    {
      "cell_type": "code",
      "execution_count": 134,
      "metadata": {
        "id": "BV2vqssaMiLu",
        "outputId": "6fbc53f5-16bf-4dfd-dea1-58ebdfc43913",
        "colab": {
          "base_uri": "https://localhost:8080/"
        }
      },
      "outputs": [
        {
          "output_type": "stream",
          "name": "stdout",
          "text": [
            "Precisión del modelo Regresion Logistica para el set de Datos Weather:  1.0\n"
          ]
        }
      ],
      "source": [
        "# Crea y entrena el modelo de regresión logística\n",
        "model = LogisticRegression(lr=0.05, num_iter=1000)\n",
        "model.fit(X_train, y_train)\n",
        "probs = model.predict_prob(X_test)\n",
        "y_pred = model.predict(X_test, 0.6)\n",
        "print(\"Precisión del modelo Regresion Logistica para el set de Datos Weather: \",model.score(y_pred,y_test))\n"
      ]
    },
    {
      "cell_type": "markdown",
      "metadata": {
        "id": "7lvxO-oSMiLv"
      },
      "source": [
        "Aplicacion de Algoritmo Logistic Regression sobre el set de 'Notas del curso de Introduccion a la Programacion'"
      ]
    },
    {
      "cell_type": "code",
      "execution_count": null,
      "metadata": {
        "id": "4hK2vejDMiLv",
        "outputId": "bce0cddb-9f6a-4f05-9dd2-7d48df68b728"
      },
      "outputs": [
        {
          "name": "stdout",
          "output_type": "stream",
          "text": [
            "Precisión del modelo Regresion Logistica para el set de datos Notas del curso:  0.7894736842105263\n"
          ]
        }
      ],
      "source": [
        "# Crea y entrena el modelo de regresión logística\n",
        "model = LogisticRegression(lr=0.15, num_iter=10000)\n",
        "model.fit(X_train_notesDataset, y_train_notesDataset)\n",
        "probs = model.predict_prob(X_test_notesDataset)\n",
        "y_pred_notesDataset = model.predict(X_test_notesDataset, 0.6)\n",
        "print(\"Precisión del modelo Regresion Logistica para el set de datos Notas del curso: \",model.score(y_pred_notesDataset,y_test_notesDataset))\n"
      ]
    },
    {
      "cell_type": "markdown",
      "metadata": {
        "id": "WK9dCdX5MiLv"
      },
      "source": [
        "Aplicacion de Algoritmo Logistic Regression sobre el set elegido"
      ]
    },
    {
      "cell_type": "code",
      "execution_count": null,
      "metadata": {
        "id": "_2xQv7Z8MiLv",
        "outputId": "fbb9b829-7cd2-4781-c7a6-060453a0793b"
      },
      "outputs": [
        {
          "name": "stdout",
          "output_type": "stream",
          "text": [
            "Precisión del modelo Regresion Logistica para el set de datos elegido:  1.0\n"
          ]
        }
      ],
      "source": [
        "# Crea y entrena el modelo de regresión logística\n",
        "model = LogisticRegression(lr=0.15, num_iter=3500)\n",
        "model.fit(X_train_selectedDataset, y_train_selectedDataset)\n",
        "probs = model.predict_prob(X_test_selectedDataset)\n",
        "y_pred_selectedDataset = model.predict(X_test_selectedDataset, 0.5)\n",
        "print(\"Precisión del modelo Regresion Logistica para el set de datos elegido: \",model.score(y_pred_selectedDataset,y_test_selectedDataset))\n"
      ]
    },
    {
      "cell_type": "markdown",
      "metadata": {
        "id": "oK-RWAm3MiLv"
      },
      "source": [
        "Arboles de decision"
      ]
    },
    {
      "cell_type": "code",
      "execution_count": 136,
      "metadata": {
        "id": "wqIU6bwAMiLw"
      },
      "outputs": [],
      "source": [
        "# Definición de la función para calcular la entropía\n",
        "def entropy(y):\n",
        "    unique, counts = np.unique(y, return_counts=True)\n",
        "    probabilities = counts / len(y)\n",
        "    entropy = -np.sum(probabilities * np.log2(probabilities))\n",
        "    return entropy\n",
        "\n",
        "# Definición de la función para dividir los datos\n",
        "def split_data(X, y, feature_index, threshold):\n",
        "    left_mask = X[:, feature_index] <= threshold\n",
        "    right_mask = ~left_mask\n",
        "    X_left, y_left = X[left_mask], y[left_mask]\n",
        "    X_right, y_right = X[right_mask], y[right_mask]\n",
        "    return X_left, y_left, X_right, y_right\n",
        "\n",
        "# Definición de la clase del nodo del árbol de decisión\n",
        "class Node:\n",
        "    def __init__(self, depth=0, max_depth=None):\n",
        "        self.depth = depth\n",
        "        self.max_depth = max_depth\n",
        "        self.feature_index = None\n",
        "        self.threshold = None\n",
        "        self.left = None\n",
        "        self.right = None\n",
        "        self.value = None\n",
        "\n",
        "    def fit(self, X, y):\n",
        "        unique_classes, class_counts = np.unique(y, return_counts=True)\n",
        "        self.value = unique_classes[np.argmax(class_counts)]\n",
        "        if self.depth == self.max_depth or len(unique_classes) == 1: # Se pregunta las dos condiciones de paradas, sin divisiones y profundidad máxima\n",
        "            return\n",
        "\n",
        "        num_features = X.shape[1] # cantidad de Features\n",
        "        best_info_gain = -1 # métrica\n",
        "\n",
        "        for feature_index in range(num_features):\n",
        "            thresholds = np.unique(X[:, feature_index])\n",
        "            for threshold in thresholds:\n",
        "                X_left, y_left, X_right, y_right = split_data(X, y, feature_index, threshold)\n",
        "                if len(y_left) == 0 or len(y_right) == 0:\n",
        "                    continue\n",
        "\n",
        "                info_gain = entropy(y) - ((len(y_left) / len(y)) * entropy(y_left) + (len(y_right) / len(y)) * entropy(y_right))\n",
        "\n",
        "                if info_gain > best_info_gain:\n",
        "                    best_info_gain = info_gain\n",
        "                    self.feature_index = feature_index\n",
        "                    self.threshold = threshold\n",
        "\n",
        "        if self.feature_index is not None:\n",
        "            X_left, y_left, X_right, y_right = split_data(X, y, self.feature_index, self.threshold)\n",
        "            self.left = Node(depth=self.depth + 1, max_depth=self.max_depth)\n",
        "            self.left.fit(X_left, y_left)\n",
        "            self.right = Node(depth=self.depth + 1, max_depth=self.max_depth)\n",
        "            self.right.fit(X_right, y_right)\n",
        "\n",
        "    def predict(self, X):\n",
        "        if self.feature_index is None:\n",
        "            return self.value\n",
        "        if X[self.feature_index] <= self.threshold:\n",
        "            return self.left.predict(X)\n",
        "        else:\n",
        "            return self.right.predict(X)"
      ]
    },
    {
      "cell_type": "markdown",
      "metadata": {
        "id": "F8LqdqxKMiLw"
      },
      "source": [
        "Aplicacion de Algoritmo Arboles de decision sobre el set de datos Rain in Australia"
      ]
    },
    {
      "cell_type": "code",
      "execution_count": 137,
      "metadata": {
        "id": "L9tHT8f7MiLw",
        "outputId": "11857962-c12e-431a-f515-ef88e5f4b8af",
        "colab": {
          "base_uri": "https://localhost:8080/"
        }
      },
      "outputs": [
        {
          "output_type": "stream",
          "name": "stdout",
          "text": [
            "Precisión del Algoritmo Arboles de decision sobre el set de datos Rain in Australia : 1.00\n"
          ]
        }
      ],
      "source": [
        "max_depth = 5\n",
        "tree = Node(max_depth=max_depth)\n",
        "tree.fit(X_train, y_train)\n",
        "\n",
        "# Realización de predicciones en el conjunto de prueba\n",
        "y_pred = [tree.predict(x) for x in X_test]\n",
        "\n",
        "# Evaluación del modelo\n",
        "accuracy = np.mean(y_pred == y_test)\n",
        "print(f\"Precisión del Algoritmo Arboles de decision sobre el set de datos Rain in Australia : {accuracy:.2f}\")\n"
      ]
    },
    {
      "cell_type": "markdown",
      "metadata": {
        "id": "B6K6zIeCMiLw"
      },
      "source": [
        "Aplicacion de Algoritmo Arboles de decision sobre el set de 'Notas del curso de Introduccion a la Programacion'"
      ]
    },
    {
      "cell_type": "code",
      "execution_count": null,
      "metadata": {
        "id": "UdqC43whMiLw"
      },
      "outputs": [],
      "source": [
        "max_depth = 3\n",
        "tree = Node(max_depth=max_depth)\n",
        "tree.fit(X_train_notesDataset, y_train_notesDataset)\n",
        "\n",
        "# Realización de predicciones en el conjunto de prueba\n",
        "y_pred = [tree.predict(x) for x in X_test_notesDataset]\n",
        "\n",
        "# Evaluación del modelo\n",
        "accuracy = np.mean(y_pred == y_test_notesDataset)\n",
        "print(f\"Precisión del Algoritmo Arboles de decision sobre el set de datos 'Notas del curso de Introduccion a la Programacion' : {accuracy:.2f}\")"
      ]
    },
    {
      "cell_type": "markdown",
      "metadata": {
        "id": "MXTNLqthMiLx"
      },
      "source": [
        "Aplicacion de Algoritmo Arboles de decision sobre el set elegido"
      ]
    },
    {
      "cell_type": "code",
      "execution_count": null,
      "metadata": {
        "id": "e06KYC-cMiLx",
        "outputId": "a7bbc9dc-bbcf-4b06-8e9e-9256721f67df"
      },
      "outputs": [
        {
          "name": "stdout",
          "output_type": "stream",
          "text": [
            "Precisión del Algoritmo Arboles de decision sobre el set elegido : 1.00\n"
          ]
        }
      ],
      "source": [
        "max_depth = 3\n",
        "tree = Node(max_depth=max_depth)\n",
        "tree.fit(X_train_selectedDataset, y_train_selectedDataset)\n",
        "\n",
        "# Realización de predicciones en el conjunto de prueba\n",
        "y_pred = [tree.predict(x) for x in X_test_selectedDataset]\n",
        "\n",
        "# Evaluación del modelo\n",
        "accuracy = np.mean(y_pred == y_test_selectedDataset)\n",
        "print(f\"Precisión del Algoritmo Arboles de decision sobre el set elegido : {accuracy:.2f}\")\n"
      ]
    },
    {
      "cell_type": "markdown",
      "metadata": {
        "id": "a6KGJ_INMiLx"
      },
      "source": [
        "KNN"
      ]
    },
    {
      "cell_type": "code",
      "execution_count": 6,
      "metadata": {
        "id": "Aoi7VbtkMiLx"
      },
      "outputs": [],
      "source": [
        "class KNearestNeighbors():\n",
        "    def __init__(self, X_train, y_train, n_classes = 3, n_neighbors=5, weights='uniform'):\n",
        "\n",
        "        self.X_train = X_train\n",
        "        self.y_train = y_train\n",
        "\n",
        "        self.n_neighbors = n_neighbors\n",
        "        self.weights = weights\n",
        "\n",
        "        self.n_classes = n_classes\n",
        "\n",
        "    def euclidian_distance(self, a, b):\n",
        "        return np.sqrt(np.sum((a - b)**2, axis=1))\n",
        "\n",
        "    def kneighbors(self, X_test, return_distance=False):\n",
        "\n",
        "        dist = []\n",
        "        neigh_ind = []\n",
        "\n",
        "#       print(X_test, self.X_train. X_test, self.X_train)\n",
        "        point_dist = []\n",
        "        for x_test in X_test:\n",
        "            point_dist += [ self.euclidian_distance(x_test, self.X_train) ]\n",
        "\n",
        "        for row in point_dist:\n",
        "            enum_neigh = enumerate(row)\n",
        "            sorted_neigh = sorted(enum_neigh,\n",
        "                                  key=lambda x: x[1])[:self.n_neighbors]\n",
        "\n",
        "            ind_list = [tup[0] for tup in sorted_neigh]\n",
        "            dist_list = [tup[1] for tup in sorted_neigh]\n",
        "\n",
        "            dist.append(dist_list)\n",
        "            neigh_ind.append(ind_list)\n",
        "\n",
        "        if return_distance:\n",
        "            return np.array(dist), np.array(neigh_ind)\n",
        "\n",
        "        return np.array(neigh_ind)\n",
        "\n",
        "\n",
        "    def predict(self, X_test):\n",
        "        y_pred = []\n",
        "\n",
        "        if self.weights == 'uniform':\n",
        "            neighbors = self.kneighbors(X_test)\n",
        "            y_pred = np.array([\n",
        "                np.argmax(np.bincount(self.y_train[neighbor]))\n",
        "                for neighbor in neighbors\n",
        "            ])\n",
        "\n",
        "        if self.weights == 'distance':\n",
        "            neighbors_dist, neighbors_indices = self.kneighbors(X_test, return_distance=True)\n",
        "\n",
        "            for i in range(len(neighbors_indices)):\n",
        "                dist_list = neighbors_dist[i]\n",
        "                ind_list = neighbors_indices[i]\n",
        "\n",
        "                weighted_votes = [0] * self.n_classes\n",
        "\n",
        "                for i in range(len(ind_list)):\n",
        "                    assert dist_list[i] != 0\n",
        "                    weight = 1 / dist_list[i]\n",
        "                    class_label = self.y_train[ind_list[i]]\n",
        "                    weighted_votes[class_label] += weight\n",
        "\n",
        "                predicted_class = np.argmax(weighted_votes)\n",
        "                y_pred.append(predicted_class)\n",
        "\n",
        "        return y_pred\n",
        "\n",
        "    def score(self, X_test, y_test):\n",
        "        y_pred = self.predict(X_test)\n",
        "        return float(sum(y_pred == y_test)) / float(len(y_test)), y_pred, y_test\n",
        "\n"
      ]
    },
    {
      "cell_type": "markdown",
      "metadata": {
        "id": "6UA7gslbMiLx"
      },
      "source": [
        "Aplicacion de Algoritmo KNearestNeighbors sobre el set de datos Rain in Australia"
      ]
    },
    {
      "cell_type": "code",
      "execution_count": 7,
      "metadata": {
        "id": "tV0RzCjfMiLx",
        "outputId": "b3143f8b-fe8f-4866-818e-6a5008028b5f",
        "colab": {
          "base_uri": "https://localhost:8080/",
          "height": 81
        }
      },
      "outputs": [
        {
          "output_type": "execute_result",
          "data": {
            "text/plain": [
              "          Our Implementation  Sklearn's Implementation\n",
              "Accuracy                 1.0                       1.0"
            ],
            "text/html": [
              "\n",
              "  <div id=\"df-f0c4c1a4-d22b-4e2e-b8ae-64a790c4008b\" class=\"colab-df-container\">\n",
              "    <div>\n",
              "<style scoped>\n",
              "    .dataframe tbody tr th:only-of-type {\n",
              "        vertical-align: middle;\n",
              "    }\n",
              "\n",
              "    .dataframe tbody tr th {\n",
              "        vertical-align: top;\n",
              "    }\n",
              "\n",
              "    .dataframe thead th {\n",
              "        text-align: right;\n",
              "    }\n",
              "</style>\n",
              "<table border=\"1\" class=\"dataframe\">\n",
              "  <thead>\n",
              "    <tr style=\"text-align: right;\">\n",
              "      <th></th>\n",
              "      <th>Our Implementation</th>\n",
              "      <th>Sklearn's Implementation</th>\n",
              "    </tr>\n",
              "  </thead>\n",
              "  <tbody>\n",
              "    <tr>\n",
              "      <th>Accuracy</th>\n",
              "      <td>1.0</td>\n",
              "      <td>1.0</td>\n",
              "    </tr>\n",
              "  </tbody>\n",
              "</table>\n",
              "</div>\n",
              "    <div class=\"colab-df-buttons\">\n",
              "\n",
              "  <div class=\"colab-df-container\">\n",
              "    <button class=\"colab-df-convert\" onclick=\"convertToInteractive('df-f0c4c1a4-d22b-4e2e-b8ae-64a790c4008b')\"\n",
              "            title=\"Convert this dataframe to an interactive table.\"\n",
              "            style=\"display:none;\">\n",
              "\n",
              "  <svg xmlns=\"http://www.w3.org/2000/svg\" height=\"24px\" viewBox=\"0 -960 960 960\">\n",
              "    <path d=\"M120-120v-720h720v720H120Zm60-500h600v-160H180v160Zm220 220h160v-160H400v160Zm0 220h160v-160H400v160ZM180-400h160v-160H180v160Zm440 0h160v-160H620v160ZM180-180h160v-160H180v160Zm440 0h160v-160H620v160Z\"/>\n",
              "  </svg>\n",
              "    </button>\n",
              "\n",
              "  <style>\n",
              "    .colab-df-container {\n",
              "      display:flex;\n",
              "      gap: 12px;\n",
              "    }\n",
              "\n",
              "    .colab-df-convert {\n",
              "      background-color: #E8F0FE;\n",
              "      border: none;\n",
              "      border-radius: 50%;\n",
              "      cursor: pointer;\n",
              "      display: none;\n",
              "      fill: #1967D2;\n",
              "      height: 32px;\n",
              "      padding: 0 0 0 0;\n",
              "      width: 32px;\n",
              "    }\n",
              "\n",
              "    .colab-df-convert:hover {\n",
              "      background-color: #E2EBFA;\n",
              "      box-shadow: 0px 1px 2px rgba(60, 64, 67, 0.3), 0px 1px 3px 1px rgba(60, 64, 67, 0.15);\n",
              "      fill: #174EA6;\n",
              "    }\n",
              "\n",
              "    .colab-df-buttons div {\n",
              "      margin-bottom: 4px;\n",
              "    }\n",
              "\n",
              "    [theme=dark] .colab-df-convert {\n",
              "      background-color: #3B4455;\n",
              "      fill: #D2E3FC;\n",
              "    }\n",
              "\n",
              "    [theme=dark] .colab-df-convert:hover {\n",
              "      background-color: #434B5C;\n",
              "      box-shadow: 0px 1px 3px 1px rgba(0, 0, 0, 0.15);\n",
              "      filter: drop-shadow(0px 1px 2px rgba(0, 0, 0, 0.3));\n",
              "      fill: #FFFFFF;\n",
              "    }\n",
              "  </style>\n",
              "\n",
              "    <script>\n",
              "      const buttonEl =\n",
              "        document.querySelector('#df-f0c4c1a4-d22b-4e2e-b8ae-64a790c4008b button.colab-df-convert');\n",
              "      buttonEl.style.display =\n",
              "        google.colab.kernel.accessAllowed ? 'block' : 'none';\n",
              "\n",
              "      async function convertToInteractive(key) {\n",
              "        const element = document.querySelector('#df-f0c4c1a4-d22b-4e2e-b8ae-64a790c4008b');\n",
              "        const dataTable =\n",
              "          await google.colab.kernel.invokeFunction('convertToInteractive',\n",
              "                                                    [key], {});\n",
              "        if (!dataTable) return;\n",
              "\n",
              "        const docLinkHtml = 'Like what you see? Visit the ' +\n",
              "          '<a target=\"_blank\" href=https://colab.research.google.com/notebooks/data_table.ipynb>data table notebook</a>'\n",
              "          + ' to learn more about interactive tables.';\n",
              "        element.innerHTML = '';\n",
              "        dataTable['output_type'] = 'display_data';\n",
              "        await google.colab.output.renderOutput(dataTable, element);\n",
              "        const docLink = document.createElement('div');\n",
              "        docLink.innerHTML = docLinkHtml;\n",
              "        element.appendChild(docLink);\n",
              "      }\n",
              "    </script>\n",
              "  </div>\n",
              "\n",
              "    </div>\n",
              "  </div>\n"
            ]
          },
          "metadata": {},
          "execution_count": 7
        }
      ],
      "source": [
        "from sklearn.neighbors import KNeighborsClassifier\n",
        "\n",
        "our_classifier = KNearestNeighbors(X_train, y_train, n_neighbors=30)\n",
        "\n",
        "our_accuracy, y_pred, y_test = our_classifier.score(X_test, y_test)\n",
        "sklearn_classifier = KNeighborsClassifier(n_neighbors=30).fit(X_train, y_train)\n",
        "sklearn_accuracy = sklearn_classifier.score(X_test, y_test)\n",
        "\n",
        "pd.DataFrame([[our_accuracy, sklearn_accuracy]],\n",
        "             ['Accuracy'],\n",
        "             ['Our Implementation', 'Sklearn\\'s Implementation'])"
      ]
    },
    {
      "cell_type": "markdown",
      "metadata": {
        "id": "nfgD3GsxMiLy"
      },
      "source": [
        "Aplicacion de Algoritmo KNearestNeighbors sobre el set de 'Notas del curso de Introduccion a la Programacion'"
      ]
    },
    {
      "cell_type": "code",
      "execution_count": 23,
      "metadata": {
        "id": "up1ig-p0MiLy",
        "outputId": "ebb44a5d-d519-4660-d379-b18d3e6ac4e4",
        "colab": {
          "base_uri": "https://localhost:8080/",
          "height": 247
        }
      },
      "outputs": [
        {
          "output_type": "error",
          "ename": "NameError",
          "evalue": "ignored",
          "traceback": [
            "\u001b[0;31m---------------------------------------------------------------------------\u001b[0m",
            "\u001b[0;31mNameError\u001b[0m                                 Traceback (most recent call last)",
            "\u001b[0;32m<ipython-input-23-806bb8e4271a>\u001b[0m in \u001b[0;36m<cell line: 2>\u001b[0;34m()\u001b[0m\n\u001b[1;32m      1\u001b[0m \u001b[0;32mfrom\u001b[0m \u001b[0msklearn\u001b[0m\u001b[0;34m.\u001b[0m\u001b[0mneighbors\u001b[0m \u001b[0;32mimport\u001b[0m \u001b[0mKNeighborsClassifier\u001b[0m\u001b[0;34m\u001b[0m\u001b[0;34m\u001b[0m\u001b[0m\n\u001b[0;32m----> 2\u001b[0;31m \u001b[0mour_classifier\u001b[0m \u001b[0;34m=\u001b[0m \u001b[0mKNearestNeighbors\u001b[0m\u001b[0;34m(\u001b[0m\u001b[0mX_train_notesDataset\u001b[0m\u001b[0;34m,\u001b[0m \u001b[0my_train_notesDataset\u001b[0m\u001b[0;34m,\u001b[0m \u001b[0mn_neighbors\u001b[0m\u001b[0;34m=\u001b[0m\u001b[0;36m30\u001b[0m\u001b[0;34m)\u001b[0m\u001b[0;34m\u001b[0m\u001b[0;34m\u001b[0m\u001b[0m\n\u001b[0m\u001b[1;32m      3\u001b[0m \u001b[0msklearn_classifier\u001b[0m \u001b[0;34m=\u001b[0m \u001b[0mKNeighborsClassifier\u001b[0m\u001b[0;34m(\u001b[0m\u001b[0mn_neighbors\u001b[0m\u001b[0;34m=\u001b[0m\u001b[0;36m30\u001b[0m\u001b[0;34m)\u001b[0m\u001b[0;34m.\u001b[0m\u001b[0mfit\u001b[0m\u001b[0;34m(\u001b[0m\u001b[0mX_train_notesDataset\u001b[0m\u001b[0;34m,\u001b[0m \u001b[0my_train_notesDataset\u001b[0m\u001b[0;34m)\u001b[0m\u001b[0;34m\u001b[0m\u001b[0;34m\u001b[0m\u001b[0m\n\u001b[1;32m      4\u001b[0m \u001b[0;34m\u001b[0m\u001b[0m\n\u001b[1;32m      5\u001b[0m \u001b[0mour_accuracy\u001b[0m\u001b[0;34m,\u001b[0m \u001b[0my_pred\u001b[0m\u001b[0;34m,\u001b[0m \u001b[0my_test\u001b[0m \u001b[0;34m=\u001b[0m \u001b[0mour_classifier\u001b[0m\u001b[0;34m.\u001b[0m\u001b[0mscore\u001b[0m\u001b[0;34m(\u001b[0m\u001b[0mX_test_notesDataset\u001b[0m\u001b[0;34m,\u001b[0m \u001b[0my_test_notesDataset\u001b[0m\u001b[0;34m)\u001b[0m\u001b[0;34m\u001b[0m\u001b[0;34m\u001b[0m\u001b[0m\n",
            "\u001b[0;31mNameError\u001b[0m: name 'X_train_notesDataset' is not defined"
          ]
        }
      ],
      "source": [
        "from sklearn.neighbors import KNeighborsClassifier\n",
        "our_classifier = KNearestNeighbors(X_train_notesDataset, y_train_notesDataset, n_neighbors=30)\n",
        "sklearn_classifier = KNeighborsClassifier(n_neighbors=30).fit(X_train_notesDataset, y_train_notesDataset)\n",
        "\n",
        "our_accuracy, y_pred, y_test = our_classifier.score(X_test_notesDataset, y_test_notesDataset)\n",
        "sklearn_accuracy = sklearn_classifier.score(X_test_notesDataset, y_test_notesDataset)\n",
        "\n",
        "print(y_pred[:20], y_test[:20])\n",
        "\n",
        "pd.DataFrame([[our_accuracy, sklearn_accuracy]],\n",
        "             ['Accuracy'],\n",
        "             ['Our Implementation', 'Sklearn\\'s Implementation'])\n",
        "\n"
      ]
    },
    {
      "cell_type": "markdown",
      "metadata": {
        "id": "1erLnam-MiLy"
      },
      "source": [
        "Aplicacion de Algoritmo KNearestNeighbors sobre el set elegido"
      ]
    },
    {
      "cell_type": "code",
      "execution_count": 66,
      "metadata": {
        "id": "2YVVGHdTMiLy",
        "outputId": "f4037c0a-2f49-4c28-8832-1c9c27ea3aa2",
        "colab": {
          "base_uri": "https://localhost:8080/",
          "height": 247
        }
      },
      "outputs": [
        {
          "output_type": "error",
          "ename": "NameError",
          "evalue": "ignored",
          "traceback": [
            "\u001b[0;31m---------------------------------------------------------------------------\u001b[0m",
            "\u001b[0;31mNameError\u001b[0m                                 Traceback (most recent call last)",
            "\u001b[0;32m<ipython-input-66-9a48663b45b7>\u001b[0m in \u001b[0;36m<cell line: 2>\u001b[0;34m()\u001b[0m\n\u001b[1;32m      1\u001b[0m \u001b[0;32mfrom\u001b[0m \u001b[0msklearn\u001b[0m\u001b[0;34m.\u001b[0m\u001b[0mneighbors\u001b[0m \u001b[0;32mimport\u001b[0m \u001b[0mKNeighborsClassifier\u001b[0m\u001b[0;34m\u001b[0m\u001b[0;34m\u001b[0m\u001b[0m\n\u001b[0;32m----> 2\u001b[0;31m \u001b[0mour_classifier\u001b[0m \u001b[0;34m=\u001b[0m \u001b[0mKNearestNeighbors\u001b[0m\u001b[0;34m(\u001b[0m\u001b[0mX_train_selectedDataset\u001b[0m\u001b[0;34m,\u001b[0m \u001b[0my_train_selectedDataset\u001b[0m\u001b[0;34m,\u001b[0m \u001b[0mn_neighbors\u001b[0m\u001b[0;34m=\u001b[0m\u001b[0;36m30\u001b[0m\u001b[0;34m)\u001b[0m\u001b[0;34m\u001b[0m\u001b[0;34m\u001b[0m\u001b[0m\n\u001b[0m\u001b[1;32m      3\u001b[0m \u001b[0msklearn_classifier\u001b[0m \u001b[0;34m=\u001b[0m \u001b[0mKNeighborsClassifier\u001b[0m\u001b[0;34m(\u001b[0m\u001b[0mn_neighbors\u001b[0m\u001b[0;34m=\u001b[0m\u001b[0;36m30\u001b[0m\u001b[0;34m)\u001b[0m\u001b[0;34m.\u001b[0m\u001b[0mfit\u001b[0m\u001b[0;34m(\u001b[0m\u001b[0mX_train_selectedDataset\u001b[0m\u001b[0;34m,\u001b[0m \u001b[0my_train_selectedDataset\u001b[0m\u001b[0;34m)\u001b[0m\u001b[0;34m\u001b[0m\u001b[0;34m\u001b[0m\u001b[0m\n\u001b[1;32m      4\u001b[0m \u001b[0;34m\u001b[0m\u001b[0m\n\u001b[1;32m      5\u001b[0m \u001b[0mour_accuracy\u001b[0m\u001b[0;34m,\u001b[0m \u001b[0my_pred\u001b[0m\u001b[0;34m,\u001b[0m \u001b[0my_test\u001b[0m \u001b[0;34m=\u001b[0m \u001b[0mour_classifier\u001b[0m\u001b[0;34m.\u001b[0m\u001b[0mscore\u001b[0m\u001b[0;34m(\u001b[0m\u001b[0mX_test_selectedDataset\u001b[0m\u001b[0;34m,\u001b[0m \u001b[0my_test_selectedDataset\u001b[0m\u001b[0;34m)\u001b[0m\u001b[0;34m\u001b[0m\u001b[0;34m\u001b[0m\u001b[0m\n",
            "\u001b[0;31mNameError\u001b[0m: name 'X_train_selectedDataset' is not defined"
          ]
        }
      ],
      "source": [
        "from sklearn.neighbors import KNeighborsClassifier\n",
        "our_classifier = KNearestNeighbors(X_train_selectedDataset, y_train_selectedDataset, n_neighbors=30)\n",
        "sklearn_classifier = KNeighborsClassifier(n_neighbors=30).fit(X_train_selectedDataset, y_train_selectedDataset)\n",
        "\n",
        "our_accuracy, y_pred, y_test = our_classifier.score(X_test_selectedDataset, y_test_selectedDataset)\n",
        "sklearn_accuracy = sklearn_classifier.score(X_test_selectedDataset, y_test_selectedDataset)\n",
        "\n",
        "print(y_pred[:20], y_test[:20])\n",
        "\n",
        "pd.DataFrame([[our_accuracy, sklearn_accuracy]],\n",
        "             ['Accuracy'],\n",
        "             ['Our Implementation', 'Sklearn\\'s Implementation'])\n",
        "\n",
        "max_depth = 3\n",
        "tree = Node(max_depth=max_depth)\n",
        "tree.fit(X_train_weatherDataset, y_train_weatherDataset)\n",
        "\n",
        "# Realización de predicciones en el conjunto de prueba\n",
        "y_pred = [tree.predict(x) for x in X_test_weatherDataset]\n",
        "\n",
        "# Evaluación del modelo\n",
        "accuracy = np.mean(y_pred == y_test_weatherDataset)\n",
        "print(f\"Precisión del Algoritmo KNearestNeighbors sobre el set de datos elegido : {accuracy:.2f}\")\n"
      ]
    },
    {
      "cell_type": "markdown",
      "metadata": {
        "id": "qW0NdiqHMiLz"
      },
      "source": [
        "Aplicacion de Metricas"
      ]
    },
    {
      "cell_type": "markdown",
      "metadata": {
        "id": "GKa6-Cj9MiLz"
      },
      "source": [
        "Accuracy"
      ]
    },
    {
      "cell_type": "markdown",
      "metadata": {
        "id": "cuM6YDQoMiLz"
      },
      "source": [
        "Aplicacion de Metrica Accuracy sobre el set de datos Rain in Australia"
      ]
    },
    {
      "cell_type": "code",
      "execution_count": null,
      "metadata": {
        "id": "cwM5iYKFMiLz",
        "outputId": "d1e536f1-da25-4953-823a-92ed258a513d"
      },
      "outputs": [
        {
          "name": "stdout",
          "output_type": "stream",
          "text": [
            "Metrica Accuracy sobre el set Rain in Australia \n",
            "The accuracy of prediction is: 1.0\n",
            "The number of accurate predictions is: 18657\n"
          ]
        }
      ],
      "source": [
        "from sklearn.metrics import accuracy_score\n",
        "print(\"Metrica Accuracy sobre el set Rain in Australia \")\n",
        "y_test_int = y_test_weatherDataset.astype(int)\n",
        "y_pred_int = y_pred_weatherDataset.astype(int)\n",
        "accuracy = accuracy_score(y_test_int, y_pred_int)\n",
        "print(\"The accuracy of prediction is:\", accuracy)\n",
        "accurate_predictions = accuracy_score(y_test_int, y_pred_int, normalize=False)\n",
        "print(\"The number of accurate predictions is:\", accurate_predictions)\n"
      ]
    },
    {
      "cell_type": "markdown",
      "metadata": {
        "id": "S2WtQ5q-MiLz"
      },
      "source": [
        "Aplicacion de Metrica Accuracy sobre el set de datos 'Notas del curso de Introduccion a la Programacion'"
      ]
    },
    {
      "cell_type": "code",
      "execution_count": null,
      "metadata": {
        "id": "-OWUs-W9MiL0"
      },
      "outputs": [],
      "source": [
        "from sklearn.metrics import accuracy_score\n",
        "print(\"Metrica Accuracy sobre el set de datos 'Notas del curso de Introduccion a la Programacion' \")\n",
        "accuracy = accuracy_score(y_train_notesDataset, y_test_notesDataset)\n",
        "print(\"The accuracy of prediction is: \", accuracy)\n",
        "accurate_predictions = accuracy_score(y_train_notesDataset, y_test_notesDataset, normalize=False)\n",
        "print(\"The number of accurate predictions is: \", accurate_predictions)"
      ]
    },
    {
      "cell_type": "markdown",
      "metadata": {
        "id": "Fslou2pHMiL0"
      },
      "source": [
        "Aplicacion de Metrica Accuracy sobre el set de datos elegido"
      ]
    },
    {
      "cell_type": "code",
      "execution_count": null,
      "metadata": {
        "id": "NIHDIy-ZMiL0"
      },
      "outputs": [],
      "source": [
        "from sklearn.metrics import accuracy_score\n",
        "print(\"Metrica Accuracy sobre el set de datos elegido \")\n",
        "accuracy = accuracy_score(y_test_selectedDataset, y_pred_selectedDataset)\n",
        "print(\"The accuracy of prediction is:\", accuracy)\n",
        "accurate_predictions = accuracy_score(y_test_selectedDataset, y_pred_selectedDataset, normalize=False)\n",
        "print(\"The number of accurate predictions is:\", accurate_predictions)\n"
      ]
    },
    {
      "cell_type": "markdown",
      "metadata": {
        "id": "jW_YjMXEMiL0"
      },
      "source": [
        "Precision"
      ]
    },
    {
      "cell_type": "markdown",
      "metadata": {
        "id": "ibXfGJQAMiL0"
      },
      "source": [
        "Aplicacion de Metrica Precision sobre el set de datos Rain in Australia"
      ]
    },
    {
      "cell_type": "code",
      "execution_count": null,
      "metadata": {
        "id": "2uYdRzcTMiL0",
        "outputId": "6b75e3db-a70a-46dc-a785-2d30795ed9ad"
      },
      "outputs": [
        {
          "name": "stdout",
          "output_type": "stream",
          "text": [
            "Metrica Precision sobre el set de Rain in Australia \n",
            "The precision score is: 0.0\n"
          ]
        }
      ],
      "source": [
        "from sklearn.metrics import precision_score\n",
        "print(\"Metrica Precision sobre el set de Rain in Australia \")\n",
        "y_test_weatherDataset = (y_test_weatherDataset > 0.5).astype(int)\n",
        "y_pred_weatherDataset = (y_pred_weatherDataset > 0.5).astype(int)\n",
        "precision = precision_score(y_test_weatherDataset, y_pred_weatherDataset, zero_division=0.0)\n",
        "print(\"The precision score is:\", precision)\n"
      ]
    },
    {
      "cell_type": "markdown",
      "metadata": {
        "id": "-fxtxUJHMiL1"
      },
      "source": [
        "Aplicacion de Metrica Presicion sobre el set de datos 'Notas del curso de Introduccion a la Programacion'"
      ]
    },
    {
      "cell_type": "code",
      "execution_count": null,
      "metadata": {
        "id": "kxNNAS2SMiL1"
      },
      "outputs": [],
      "source": [
        "from sklearn.metrics import precision_score\n",
        "print(\"Metrica Precision sobre el set de datos 'Notas del curso de Introduccion a la Programacion' \")\n",
        "precision = precision_score(y_train_notesDataset, y_test_notesDataset)\n",
        "print(\"The accuracy of precision is: \", precision)"
      ]
    },
    {
      "cell_type": "markdown",
      "metadata": {
        "id": "-jcSqKDKMiL1"
      },
      "source": [
        "Aplicacion de Metrica Presicion sobre el set de datos elegido"
      ]
    },
    {
      "cell_type": "code",
      "execution_count": null,
      "metadata": {
        "id": "ma3AGqDlMiL1",
        "outputId": "6a8a3d06-5e10-49fd-fbe5-b31b78fed25a"
      },
      "outputs": [
        {
          "name": "stdout",
          "output_type": "stream",
          "text": [
            "Metrica Precision sobre el set de datos elegido \n",
            "The precision score is: 1.0\n"
          ]
        }
      ],
      "source": [
        "from sklearn.metrics import precision_score\n",
        "print(\"Metrica Precision sobre el set de datos elegido \")\n",
        "y_test_selectedDataset = (y_test_selectedDataset > 0.5).astype(int)\n",
        "y_pred_selectedDataset = (y_pred_selectedDataset > 0.5).astype(int)\n",
        "precision = precision_score(y_test_selectedDataset, y_pred_selectedDataset, zero_division=0.0)\n",
        "print(\"The precision score is:\", precision)"
      ]
    },
    {
      "cell_type": "markdown",
      "metadata": {
        "id": "lAllnsxZMiL1"
      },
      "source": [
        "Recall"
      ]
    },
    {
      "cell_type": "markdown",
      "metadata": {
        "id": "7eh4pOheMiL1"
      },
      "source": [
        "Aplicacion de Metrica Recall sobre el set de datos Rain in Australia"
      ]
    },
    {
      "cell_type": "code",
      "execution_count": null,
      "metadata": {
        "id": "zbdFo8tOMiL2",
        "outputId": "87c172e3-addc-4b9c-86a7-a972d99b69ee"
      },
      "outputs": [
        {
          "name": "stdout",
          "output_type": "stream",
          "text": [
            "Metrica Recall sobre el set de datos Rain in Australia \n"
          ]
        },
        {
          "name": "stdout",
          "output_type": "stream",
          "text": [
            "The recall of prediction is:  0.0\n"
          ]
        }
      ],
      "source": [
        "from sklearn.metrics import recall_score\n",
        "print(\"Metrica Recall sobre el set de datos Rain in Australia \")\n",
        "recall = recall_score(y_test_weatherDataset, y_pred_weatherDataset, zero_division=0.0)\n",
        "print(\"The recall of prediction is: \", recall)"
      ]
    },
    {
      "cell_type": "markdown",
      "metadata": {
        "id": "IV-au-SGMiL2"
      },
      "source": [
        "Aplicacion de Metrica Recall sobre el set de datos 'Notas del curso de Introduccion a la Programacion'"
      ]
    },
    {
      "cell_type": "code",
      "execution_count": null,
      "metadata": {
        "id": "gFvTeuhgMiL2"
      },
      "outputs": [],
      "source": [
        "from sklearn.metrics import  recall_score\n",
        "print(\"Metrica Precision sobre el set de datos 'Notas del curso de Introduccion a la Programacion' \")\n",
        "recall = recall_score(y_train_notesDataset, y_test_notesDataset)\n",
        "print(\"The recall of prediction is: \", recall)"
      ]
    },
    {
      "cell_type": "markdown",
      "metadata": {
        "id": "3WCU7UCKMiL2"
      },
      "source": [
        "Aplicacion de Metrica Recall sobre el set de datos elegido"
      ]
    },
    {
      "cell_type": "code",
      "execution_count": null,
      "metadata": {
        "id": "sV_41W6RMiL2",
        "outputId": "27f018fb-8715-4497-d6c7-7dca79f7ff1f"
      },
      "outputs": [
        {
          "name": "stdout",
          "output_type": "stream",
          "text": [
            "Metrica Precision sobre el set de datos elegido \n",
            "The precision score is: 0.0\n"
          ]
        }
      ],
      "source": [
        "from sklearn.metrics import  recall_score\n",
        "print(\"Metrica Precision sobre el set de datos elegido \")\n",
        "y_test_weatherDataset = (y_test_weatherDataset > 0.5).astype(int)\n",
        "y_pred_weatherDataset = (y_pred_weatherDataset > 0.5).astype(int)\n",
        "precision = precision_score(y_test_weatherDataset, y_pred_weatherDataset, zero_division=0.0)\n",
        "print(\"The precision score is:\", precision)\n"
      ]
    },
    {
      "cell_type": "markdown",
      "metadata": {
        "id": "KacIMycJMiL2"
      },
      "source": [
        "AUC"
      ]
    },
    {
      "cell_type": "markdown",
      "metadata": {
        "id": "H1BIfU12MiL3"
      },
      "source": [
        "Aplicacion de Metrica AUC sobre el set de datos Rain in Australia"
      ]
    },
    {
      "cell_type": "code",
      "execution_count": null,
      "metadata": {
        "id": "hjyAEwHwMiL3",
        "outputId": "18b7303d-86c4-4b71-c269-891897af93fb"
      },
      "outputs": [
        {
          "name": "stdout",
          "output_type": "stream",
          "text": [
            "[0. 0. 0. ... 0. 0. 0.]\n",
            "[0 0 0 ... 0 0 0]\n",
            "Auc for our sample data is 0.778\n"
          ]
        }
      ],
      "source": [
        "import numpy as np\n",
        "from sklearn .metrics import roc_auc_score\n",
        "\n",
        "y_true = np.round(np.array(y_test_weatherDataset))\n",
        "y_pred = y_pred_weatherDataset.astype(int)\n",
        "print(y_true)\n",
        "print(y_pred)\n",
        "\n",
        "try:\n",
        "    auc = np.round(roc_auc_score(y_true, y_pred), 3)\n",
        "except ValueError:\n",
        "    pass\n",
        "\n",
        "print(\"Auc for our sample data is {}\".format(auc))\n"
      ]
    },
    {
      "cell_type": "markdown",
      "metadata": {
        "id": "FmNA9BatMiL3"
      },
      "source": [
        "Aplicacion de Metrica AUC sobre el set de datos 'Notas del curso de Introduccion a la Programacion'"
      ]
    },
    {
      "cell_type": "code",
      "execution_count": null,
      "metadata": {
        "id": "4vsJdDagMiL3",
        "outputId": "b878b550-7322-428f-bb48-b57a46fd51c5"
      },
      "outputs": [
        {
          "name": "stdout",
          "output_type": "stream",
          "text": [
            "[ 70  70  85  50  70  45   0  50 100   5  20  65  55  20  30  50  75  95\n",
            "   0]\n",
            "[1 1 1 1 1 1 1 1 1 1 1 1 1 1 1 1 1 1 1]\n",
            "Auc for our sample data is 0.778\n"
          ]
        }
      ],
      "source": [
        "import numpy as np\n",
        "from sklearn .metrics import roc_auc_score\n",
        "\n",
        "y_true = np.round(np.array(y_test_notesDataset))\n",
        "y_pred = y_pred_notesDataset.astype(int)\n",
        "print(y_true)\n",
        "print(y_pred)\n",
        "\n",
        "try:\n",
        "    auc = np.round(roc_auc_score(y_true, y_pred), 3)\n",
        "except ValueError:\n",
        "    pass\n",
        "\n",
        "print(\"Auc for our sample data is {}\".format(auc))"
      ]
    },
    {
      "cell_type": "markdown",
      "metadata": {
        "id": "njdJ1ziYMiL3"
      },
      "source": [
        "Aplicacion de Metrica AUC sobre el set de datos elegido"
      ]
    },
    {
      "cell_type": "code",
      "execution_count": null,
      "metadata": {
        "id": "txskcBKuMiL3"
      },
      "outputs": [],
      "source": [
        "from sklearn .metrics import roc_auc_score"
      ]
    },
    {
      "cell_type": "markdown",
      "metadata": {
        "id": "9TG2FOvhMiL4"
      },
      "source": [
        "ROC  (grafica)"
      ]
    },
    {
      "cell_type": "markdown",
      "metadata": {
        "id": "GazMhp91MiL4"
      },
      "source": [
        "Aplicacion de Metrica ROC (grafica) sobre el set de datos Rain in Australia"
      ]
    },
    {
      "cell_type": "code",
      "execution_count": null,
      "metadata": {
        "id": "07W6kRbJMiL4"
      },
      "outputs": [],
      "source": [
        "import numpy as np\n",
        "import matplotlib.pyplot as plt\n",
        "from sklearn.metrics import roc_curve, auc\n",
        "\n",
        "print(\"Metrica ROC (grafica) sobre el set de datos Rain in Australia \")\n",
        "\n",
        "probs = model.predict_prob(X_test_weatherDataset)[:, 1]\n",
        "\n",
        "fpr, tpr, thresholds = roc_curve(y_test_weatherDataset, probs)\n",
        "\n",
        "# Calcular el AUC (Área bajo la curva ROC)\n",
        "roc_auc = auc(fpr, tpr)\n",
        "\n",
        "# Trazar la curva ROC\n",
        "plt.figure(figsize=(8, 6))\n",
        "plt.plot(fpr, tpr, lw=2, label=f'ROC Curve (AUC = {roc_auc:.2f})')\n",
        "plt.plot([0, 1], [0, 1], 'k--')\n",
        "plt.xlim([0.0, 1.0])\n",
        "plt.ylim([0.0, 1.05])\n",
        "plt.xlabel('False Positive Rate (FPR)')\n",
        "plt.ylabel('True Positive Rate (TPR)')\n",
        "plt.title('Receiver Operating Characteristic (ROC)')\n",
        "plt.legend(loc=\"lower right\")\n",
        "\n",
        "# Trazar la curva de Sensibilidad vs. Especificidad\n",
        "plt.figure(figsize=(8, 6))\n",
        "plt.plot(1 - fpr, tpr, lw=2)\n",
        "plt.xlim([0.0, 1.0])\n",
        "plt.ylim([0.0, 1.05])\n",
        "plt.xlabel('Especificidad')\n",
        "plt.ylabel('Sensibilidad (TPR)')\n",
        "plt.title('Curva Sensibilidad vs. Especificidad')\n",
        "plt.grid(True)\n",
        "plt.show()\n"
      ]
    },
    {
      "cell_type": "markdown",
      "metadata": {
        "id": "fkRxh6UAMiL4"
      },
      "source": [
        "Aplicacion de Metrica ROC (grafica) sobre el set de datos 'Notas del curso de Introduccion a la Programacion'"
      ]
    },
    {
      "cell_type": "code",
      "execution_count": null,
      "metadata": {
        "id": "nQD-7imMMiL4"
      },
      "outputs": [],
      "source": [
        "import numpy as np\n",
        "import matplotlib.pyplot as plt\n",
        "from sklearn.metrics import roc_curve, auc\n",
        "print(\"Metrica ROC (grafica) sobre el set de datos 'Notas del curso de Introduccion a la Programacion' \")\n",
        "\n",
        "# Calcular la curva ROC\n",
        "fpr, tpr, thresholds = roc_curve(y_test_notesDataset, probs)\n",
        "\n",
        "# Calcular la Sensibilidad y la Especificidad para cada umbral\n",
        "sensibilidad = tpr  # Sensibilidad es igual a la Tasa de Verdaderos Positivos (TPR)\n",
        "especificidad = 1 - fpr  # Especificidad es igual a 1 menos la Tasa de Falsos Positivos (FPR)\n",
        "\n",
        "# Calcular el AUC (Área bajo la curva ROC)\n",
        "roc_auc = auc(fpr, tpr)\n",
        "\n",
        "# Trazar la curva ROC\n",
        "plt.figure(figsize=(8, 6))\n",
        "plt.plot(fpr, tpr, lw=2, label=f'ROC Curve (AUC = {roc_auc:.2f})')\n",
        "plt.plot([0, 1], [0, 1], 'k--')  # Línea de referencia diagonal\n",
        "plt.xlim([0.0, 1.0])\n",
        "plt.ylim([0.0, 1.05])\n",
        "plt.xlabel('False Positive Rate (FPR)')\n",
        "plt.ylabel('True Positive Rate (TPR)')\n",
        "plt.title('Receiver Operating Characteristic (ROC)')\n",
        "plt.legend(loc=\"lower right\")\n",
        "\n",
        "# Trazar la curva de Sensibilidad vs. Especificidad\n",
        "plt.figure(figsize=(8, 6))\n",
        "plt.plot(1 - fpr, tpr, lw=2)\n",
        "plt.xlim([0.0, 1.0])\n",
        "plt.ylim([0.0, 1.05])\n",
        "plt.xlabel('Especificidad')\n",
        "plt.ylabel('Sensibilidad (TPR)')\n",
        "plt.title('Curva Sensibilidad vs. Especificidad')\n",
        "plt.grid(True)\n",
        "\n",
        "plt.show()\n",
        "\n",
        "umbral = 0.5\n",
        "sensibilidad_umbral = tpr[np.argmax(thresholds >= umbral)]\n",
        "especificidad_umbral = 1 - fpr[np.argmax(thresholds >= umbral)]\n",
        "print(f\"Sensibilidad (TPR) a umbral {umbral}: {sensibilidad_umbral:.2f}\")\n",
        "print(f\"Especificidad a umbral {umbral}: {especificidad_umbral:.2f}\")"
      ]
    },
    {
      "cell_type": "markdown",
      "metadata": {
        "id": "LY5xg2QrMiL4"
      },
      "source": [
        "Aplicacion de Metrica ROC (grafica) sobre el set de datos elegido"
      ]
    },
    {
      "cell_type": "code",
      "execution_count": null,
      "metadata": {
        "id": "3L-g4cZQMiL5",
        "outputId": "10d4194b-c7d2-4152-d903-cc2ee66b61be"
      },
      "outputs": [
        {
          "name": "stdout",
          "output_type": "stream",
          "text": [
            "Metrica ROC (grafica) sobre el set de datos elegido \n"
          ]
        },
        {
          "data": {
            "image/png": "[encoded data removed]",
            "text/plain": [
              "<Figure size 800x600 with 1 Axes>"
            ]
          },
          "metadata": {},
          "output_type": "display_data"
        },
        {
          "data": {
            "image/png": "[encoded data removed]",
            "text/plain": [
              "<Figure size 800x600 with 1 Axes>"
            ]
          },
          "metadata": {},
          "output_type": "display_data"
        }
      ],
      "source": [
        "import numpy as np\n",
        "import matplotlib.pyplot as plt\n",
        "from sklearn.metrics import roc_curve, auc\n",
        "\n",
        "print(\"Metrica ROC (grafica) sobre el set de datos elegido \")\n",
        "\n",
        "# Obtener las probabilidades del modelo en el conjunto de prueba\n",
        "probs = model.predict_prob(X_test_selectedDataset)\n",
        "\n",
        "# Calcular la curva ROC\n",
        "fpr, tpr, thresholds = roc_curve(y_test_selectedDataset, probs)\n",
        "\n",
        "# Calcular el AUC (Área bajo la curva ROC)\n",
        "roc_auc = auc(fpr, tpr)\n",
        "\n",
        "# Trazar la curva ROC\n",
        "plt.figure(figsize=(8, 6))\n",
        "plt.plot(fpr, tpr, lw=2, label=f'ROC Curve (AUC = {roc_auc:.2f})')\n",
        "plt.plot([0, 1], [0, 1], 'k--')  # Línea de referencia diagonal\n",
        "plt.xlim([0.0, 1.0])\n",
        "plt.ylim([0.0, 1.05])\n",
        "plt.xlabel('False Positive Rate (FPR)')\n",
        "plt.ylabel('True Positive Rate (TPR)')\n",
        "plt.title('Receiver Operating Characteristic (ROC)')\n",
        "plt.legend(loc=\"lower right\")\n",
        "\n",
        "# Trazar la curva de Sensibilidad vs. Especificidad\n",
        "plt.figure(figsize=(8, 6))\n",
        "plt.plot(1 - fpr, tpr, lw=2)\n",
        "plt.xlim([0.0, 1.0])\n",
        "plt.ylim([0.0, 1.05])\n",
        "plt.xlabel('Especificidad')\n",
        "plt.ylabel('Sensibilidad (TPR)')\n",
        "plt.title('Curva Sensibilidad vs. Especificidad')\n",
        "plt.grid(True)\n",
        "\n",
        "plt.show()\n"
      ]
    },
    {
      "cell_type": "markdown",
      "metadata": {
        "id": "irZnTvNiMiL5"
      },
      "source": [
        "Puntos extra: modelo que prediga la nota del estudiante (utilizando el set de datos de Introduccion a la Programacion)"
      ]
    }
  ],
  "metadata": {
    "kernelspec": {
      "display_name": "Python 3",
      "language": "python",
      "name": "python3"
    },
    "language_info": {
      "codemirror_mode": {
        "name": "ipython",
        "version": 3
      },
      "file_extension": ".py",
      "mimetype": "text/x-python",
      "name": "python",
      "nbconvert_exporter": "python",
      "pygments_lexer": "ipython3",
      "version": "3.10.0"
    },
    "orig_nbformat": 4,
    "colab": {
      "provenance": []
    }
  },
  "nbformat": 4,
  "nbformat_minor": 0
}