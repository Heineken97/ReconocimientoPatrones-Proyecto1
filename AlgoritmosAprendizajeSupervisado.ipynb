{
 "cells": [
  {
   "cell_type": "markdown",
   "metadata": {},
   "source": [
    "Autores Gabriel Conejo Valerio -2014093542 Nasser Brown Joseph Jimenez Zuñiga - 2016133677"
   ]
  },
  {
   "cell_type": "code",
   "execution_count": 60,
   "metadata": {},
   "outputs": [],
   "source": [
    "import pandas as pd\n",
    "from sklearn.preprocessing import MinMaxScaler\n",
    "from sklearn.model_selection import train_test_split\n",
    "import numpy as np\n",
    "from sklearn import preprocessing\n",
    "from sklearn.preprocessing import LabelEncoder"
   ]
  },
  {
   "cell_type": "markdown",
   "metadata": {},
   "source": [
    "Set de Datos 'Rain in Australia'"
   ]
  },
  {
   "cell_type": "code",
   "execution_count": 61,
   "metadata": {},
   "outputs": [
    {
     "data": {
      "text/html": [
       "<div>\n",
       "<style scoped>\n",
       "    .dataframe tbody tr th:only-of-type {\n",
       "        vertical-align: middle;\n",
       "    }\n",
       "\n",
       "    .dataframe tbody tr th {\n",
       "        vertical-align: top;\n",
       "    }\n",
       "\n",
       "    .dataframe thead th {\n",
       "        text-align: right;\n",
       "    }\n",
       "</style>\n",
       "<table border=\"1\" class=\"dataframe\">\n",
       "  <thead>\n",
       "    <tr style=\"text-align: right;\">\n",
       "      <th></th>\n",
       "      <th>Date</th>\n",
       "      <th>Location</th>\n",
       "      <th>MinTemp</th>\n",
       "      <th>MaxTemp</th>\n",
       "      <th>Rainfall</th>\n",
       "      <th>Evaporation</th>\n",
       "      <th>Sunshine</th>\n",
       "      <th>WindGustDir</th>\n",
       "      <th>WindGustSpeed</th>\n",
       "      <th>WindDir9am</th>\n",
       "      <th>...</th>\n",
       "      <th>Humidity9am</th>\n",
       "      <th>Humidity3pm</th>\n",
       "      <th>Pressure9am</th>\n",
       "      <th>Pressure3pm</th>\n",
       "      <th>Cloud9am</th>\n",
       "      <th>Cloud3pm</th>\n",
       "      <th>Temp9am</th>\n",
       "      <th>Temp3pm</th>\n",
       "      <th>RainToday</th>\n",
       "      <th>RainTomorrow</th>\n",
       "    </tr>\n",
       "  </thead>\n",
       "  <tbody>\n",
       "    <tr>\n",
       "      <th>0</th>\n",
       "      <td>2008-12-01</td>\n",
       "      <td>Albury</td>\n",
       "      <td>13.4</td>\n",
       "      <td>22.9</td>\n",
       "      <td>0.6</td>\n",
       "      <td>NaN</td>\n",
       "      <td>NaN</td>\n",
       "      <td>W</td>\n",
       "      <td>44.0</td>\n",
       "      <td>W</td>\n",
       "      <td>...</td>\n",
       "      <td>71.0</td>\n",
       "      <td>22.0</td>\n",
       "      <td>1007.7</td>\n",
       "      <td>1007.1</td>\n",
       "      <td>8.0</td>\n",
       "      <td>NaN</td>\n",
       "      <td>16.9</td>\n",
       "      <td>21.8</td>\n",
       "      <td>No</td>\n",
       "      <td>No</td>\n",
       "    </tr>\n",
       "    <tr>\n",
       "      <th>1</th>\n",
       "      <td>2008-12-02</td>\n",
       "      <td>Albury</td>\n",
       "      <td>7.4</td>\n",
       "      <td>25.1</td>\n",
       "      <td>0.0</td>\n",
       "      <td>NaN</td>\n",
       "      <td>NaN</td>\n",
       "      <td>WNW</td>\n",
       "      <td>44.0</td>\n",
       "      <td>NNW</td>\n",
       "      <td>...</td>\n",
       "      <td>44.0</td>\n",
       "      <td>25.0</td>\n",
       "      <td>1010.6</td>\n",
       "      <td>1007.8</td>\n",
       "      <td>NaN</td>\n",
       "      <td>NaN</td>\n",
       "      <td>17.2</td>\n",
       "      <td>24.3</td>\n",
       "      <td>No</td>\n",
       "      <td>No</td>\n",
       "    </tr>\n",
       "    <tr>\n",
       "      <th>2</th>\n",
       "      <td>2008-12-03</td>\n",
       "      <td>Albury</td>\n",
       "      <td>12.9</td>\n",
       "      <td>25.7</td>\n",
       "      <td>0.0</td>\n",
       "      <td>NaN</td>\n",
       "      <td>NaN</td>\n",
       "      <td>WSW</td>\n",
       "      <td>46.0</td>\n",
       "      <td>W</td>\n",
       "      <td>...</td>\n",
       "      <td>38.0</td>\n",
       "      <td>30.0</td>\n",
       "      <td>1007.6</td>\n",
       "      <td>1008.7</td>\n",
       "      <td>NaN</td>\n",
       "      <td>2.0</td>\n",
       "      <td>21.0</td>\n",
       "      <td>23.2</td>\n",
       "      <td>No</td>\n",
       "      <td>No</td>\n",
       "    </tr>\n",
       "    <tr>\n",
       "      <th>3</th>\n",
       "      <td>2008-12-04</td>\n",
       "      <td>Albury</td>\n",
       "      <td>9.2</td>\n",
       "      <td>28.0</td>\n",
       "      <td>0.0</td>\n",
       "      <td>NaN</td>\n",
       "      <td>NaN</td>\n",
       "      <td>NE</td>\n",
       "      <td>24.0</td>\n",
       "      <td>SE</td>\n",
       "      <td>...</td>\n",
       "      <td>45.0</td>\n",
       "      <td>16.0</td>\n",
       "      <td>1017.6</td>\n",
       "      <td>1012.8</td>\n",
       "      <td>NaN</td>\n",
       "      <td>NaN</td>\n",
       "      <td>18.1</td>\n",
       "      <td>26.5</td>\n",
       "      <td>No</td>\n",
       "      <td>No</td>\n",
       "    </tr>\n",
       "    <tr>\n",
       "      <th>4</th>\n",
       "      <td>2008-12-05</td>\n",
       "      <td>Albury</td>\n",
       "      <td>17.5</td>\n",
       "      <td>32.3</td>\n",
       "      <td>1.0</td>\n",
       "      <td>NaN</td>\n",
       "      <td>NaN</td>\n",
       "      <td>W</td>\n",
       "      <td>41.0</td>\n",
       "      <td>ENE</td>\n",
       "      <td>...</td>\n",
       "      <td>82.0</td>\n",
       "      <td>33.0</td>\n",
       "      <td>1010.8</td>\n",
       "      <td>1006.0</td>\n",
       "      <td>7.0</td>\n",
       "      <td>8.0</td>\n",
       "      <td>17.8</td>\n",
       "      <td>29.7</td>\n",
       "      <td>No</td>\n",
       "      <td>No</td>\n",
       "    </tr>\n",
       "  </tbody>\n",
       "</table>\n",
       "<p>5 rows × 23 columns</p>\n",
       "</div>"
      ],
      "text/plain": [
       "         Date Location  MinTemp  MaxTemp  Rainfall  Evaporation  Sunshine  \\\n",
       "0  2008-12-01   Albury     13.4     22.9       0.6          NaN       NaN   \n",
       "1  2008-12-02   Albury      7.4     25.1       0.0          NaN       NaN   \n",
       "2  2008-12-03   Albury     12.9     25.7       0.0          NaN       NaN   \n",
       "3  2008-12-04   Albury      9.2     28.0       0.0          NaN       NaN   \n",
       "4  2008-12-05   Albury     17.5     32.3       1.0          NaN       NaN   \n",
       "\n",
       "  WindGustDir  WindGustSpeed WindDir9am  ... Humidity9am  Humidity3pm  \\\n",
       "0           W           44.0          W  ...        71.0         22.0   \n",
       "1         WNW           44.0        NNW  ...        44.0         25.0   \n",
       "2         WSW           46.0          W  ...        38.0         30.0   \n",
       "3          NE           24.0         SE  ...        45.0         16.0   \n",
       "4           W           41.0        ENE  ...        82.0         33.0   \n",
       "\n",
       "   Pressure9am  Pressure3pm  Cloud9am  Cloud3pm  Temp9am  Temp3pm  RainToday  \\\n",
       "0       1007.7       1007.1       8.0       NaN     16.9     21.8         No   \n",
       "1       1010.6       1007.8       NaN       NaN     17.2     24.3         No   \n",
       "2       1007.6       1008.7       NaN       2.0     21.0     23.2         No   \n",
       "3       1017.6       1012.8       NaN       NaN     18.1     26.5         No   \n",
       "4       1010.8       1006.0       7.0       8.0     17.8     29.7         No   \n",
       "\n",
       "   RainTomorrow  \n",
       "0            No  \n",
       "1            No  \n",
       "2            No  \n",
       "3            No  \n",
       "4            No  \n",
       "\n",
       "[5 rows x 23 columns]"
      ]
     },
     "execution_count": 61,
     "metadata": {},
     "output_type": "execute_result"
    }
   ],
   "source": [
    "df = pd.read_csv(\"SetDatos/weatherAUS.csv\")\n",
    "df.head()"
   ]
  },
  {
   "cell_type": "markdown",
   "metadata": {},
   "source": [
    "Optimizacion de datos"
   ]
  },
  {
   "cell_type": "code",
   "execution_count": 62,
   "metadata": {},
   "outputs": [
    {
     "data": {
      "text/html": [
       "<div>\n",
       "<style scoped>\n",
       "    .dataframe tbody tr th:only-of-type {\n",
       "        vertical-align: middle;\n",
       "    }\n",
       "\n",
       "    .dataframe tbody tr th {\n",
       "        vertical-align: top;\n",
       "    }\n",
       "\n",
       "    .dataframe thead th {\n",
       "        text-align: right;\n",
       "    }\n",
       "</style>\n",
       "<table border=\"1\" class=\"dataframe\">\n",
       "  <thead>\n",
       "    <tr style=\"text-align: right;\">\n",
       "      <th></th>\n",
       "      <th>Date</th>\n",
       "      <th>Location</th>\n",
       "      <th>MinTemp</th>\n",
       "      <th>MaxTemp</th>\n",
       "      <th>Rainfall</th>\n",
       "      <th>Evaporation</th>\n",
       "      <th>Sunshine</th>\n",
       "      <th>WindGustDir</th>\n",
       "      <th>WindGustSpeed</th>\n",
       "      <th>WindDir9am</th>\n",
       "      <th>...</th>\n",
       "      <th>Humidity9am</th>\n",
       "      <th>Humidity3pm</th>\n",
       "      <th>Pressure9am</th>\n",
       "      <th>Pressure3pm</th>\n",
       "      <th>Cloud9am</th>\n",
       "      <th>Cloud3pm</th>\n",
       "      <th>Temp9am</th>\n",
       "      <th>Temp3pm</th>\n",
       "      <th>RainToday</th>\n",
       "      <th>RainTomorrow</th>\n",
       "    </tr>\n",
       "  </thead>\n",
       "  <tbody>\n",
       "    <tr>\n",
       "      <th>0</th>\n",
       "      <td>0.002545</td>\n",
       "      <td>0.000107</td>\n",
       "      <td>0.002727</td>\n",
       "      <td>0.002647</td>\n",
       "      <td>0.000192</td>\n",
       "      <td>0.0</td>\n",
       "      <td>0.0</td>\n",
       "      <td>0.003878</td>\n",
       "      <td>0.002916</td>\n",
       "      <td>0.003969</td>\n",
       "      <td>...</td>\n",
       "      <td>0.002873</td>\n",
       "      <td>0.001141</td>\n",
       "      <td>0.002919</td>\n",
       "      <td>0.002925</td>\n",
       "      <td>0.005444</td>\n",
       "      <td>0.000000</td>\n",
       "      <td>0.002604</td>\n",
       "      <td>0.002700</td>\n",
       "      <td>0.0</td>\n",
       "      <td>0.0</td>\n",
       "    </tr>\n",
       "    <tr>\n",
       "      <th>1</th>\n",
       "      <td>0.002545</td>\n",
       "      <td>0.000107</td>\n",
       "      <td>0.001506</td>\n",
       "      <td>0.002902</td>\n",
       "      <td>0.000000</td>\n",
       "      <td>0.0</td>\n",
       "      <td>0.0</td>\n",
       "      <td>0.004201</td>\n",
       "      <td>0.002916</td>\n",
       "      <td>0.004961</td>\n",
       "      <td>...</td>\n",
       "      <td>0.001781</td>\n",
       "      <td>0.001296</td>\n",
       "      <td>0.002927</td>\n",
       "      <td>0.002927</td>\n",
       "      <td>0.000000</td>\n",
       "      <td>0.000000</td>\n",
       "      <td>0.002650</td>\n",
       "      <td>0.003010</td>\n",
       "      <td>0.0</td>\n",
       "      <td>0.0</td>\n",
       "    </tr>\n",
       "    <tr>\n",
       "      <th>2</th>\n",
       "      <td>0.002545</td>\n",
       "      <td>0.000107</td>\n",
       "      <td>0.002625</td>\n",
       "      <td>0.002971</td>\n",
       "      <td>0.000000</td>\n",
       "      <td>0.0</td>\n",
       "      <td>0.0</td>\n",
       "      <td>0.003555</td>\n",
       "      <td>0.003048</td>\n",
       "      <td>0.003969</td>\n",
       "      <td>...</td>\n",
       "      <td>0.001538</td>\n",
       "      <td>0.001555</td>\n",
       "      <td>0.002919</td>\n",
       "      <td>0.002929</td>\n",
       "      <td>0.000000</td>\n",
       "      <td>0.001383</td>\n",
       "      <td>0.003236</td>\n",
       "      <td>0.002874</td>\n",
       "      <td>0.0</td>\n",
       "      <td>0.0</td>\n",
       "    </tr>\n",
       "    <tr>\n",
       "      <th>3</th>\n",
       "      <td>0.002545</td>\n",
       "      <td>0.000107</td>\n",
       "      <td>0.001872</td>\n",
       "      <td>0.003237</td>\n",
       "      <td>0.000000</td>\n",
       "      <td>0.0</td>\n",
       "      <td>0.0</td>\n",
       "      <td>0.000646</td>\n",
       "      <td>0.001590</td>\n",
       "      <td>0.001984</td>\n",
       "      <td>...</td>\n",
       "      <td>0.001821</td>\n",
       "      <td>0.000830</td>\n",
       "      <td>0.002948</td>\n",
       "      <td>0.002941</td>\n",
       "      <td>0.000000</td>\n",
       "      <td>0.000000</td>\n",
       "      <td>0.002789</td>\n",
       "      <td>0.003283</td>\n",
       "      <td>0.0</td>\n",
       "      <td>0.0</td>\n",
       "    </tr>\n",
       "    <tr>\n",
       "      <th>4</th>\n",
       "      <td>0.002545</td>\n",
       "      <td>0.000107</td>\n",
       "      <td>0.003561</td>\n",
       "      <td>0.003734</td>\n",
       "      <td>0.000321</td>\n",
       "      <td>0.0</td>\n",
       "      <td>0.0</td>\n",
       "      <td>0.003878</td>\n",
       "      <td>0.002717</td>\n",
       "      <td>0.000992</td>\n",
       "      <td>...</td>\n",
       "      <td>0.003319</td>\n",
       "      <td>0.001711</td>\n",
       "      <td>0.002928</td>\n",
       "      <td>0.002921</td>\n",
       "      <td>0.004764</td>\n",
       "      <td>0.005532</td>\n",
       "      <td>0.002743</td>\n",
       "      <td>0.003679</td>\n",
       "      <td>0.0</td>\n",
       "      <td>0.0</td>\n",
       "    </tr>\n",
       "  </tbody>\n",
       "</table>\n",
       "<p>5 rows × 23 columns</p>\n",
       "</div>"
      ],
      "text/plain": [
       "       Date  Location   MinTemp   MaxTemp  Rainfall  Evaporation  Sunshine  \\\n",
       "0  0.002545  0.000107  0.002727  0.002647  0.000192          0.0       0.0   \n",
       "1  0.002545  0.000107  0.001506  0.002902  0.000000          0.0       0.0   \n",
       "2  0.002545  0.000107  0.002625  0.002971  0.000000          0.0       0.0   \n",
       "3  0.002545  0.000107  0.001872  0.003237  0.000000          0.0       0.0   \n",
       "4  0.002545  0.000107  0.003561  0.003734  0.000321          0.0       0.0   \n",
       "\n",
       "   WindGustDir  WindGustSpeed  WindDir9am  ...  Humidity9am  Humidity3pm  \\\n",
       "0     0.003878       0.002916    0.003969  ...     0.002873     0.001141   \n",
       "1     0.004201       0.002916    0.004961  ...     0.001781     0.001296   \n",
       "2     0.003555       0.003048    0.003969  ...     0.001538     0.001555   \n",
       "3     0.000646       0.001590    0.001984  ...     0.001821     0.000830   \n",
       "4     0.003878       0.002717    0.000992  ...     0.003319     0.001711   \n",
       "\n",
       "   Pressure9am  Pressure3pm  Cloud9am  Cloud3pm   Temp9am   Temp3pm  \\\n",
       "0     0.002919     0.002925  0.005444  0.000000  0.002604  0.002700   \n",
       "1     0.002927     0.002927  0.000000  0.000000  0.002650  0.003010   \n",
       "2     0.002919     0.002929  0.000000  0.001383  0.003236  0.002874   \n",
       "3     0.002948     0.002941  0.000000  0.000000  0.002789  0.003283   \n",
       "4     0.002928     0.002921  0.004764  0.005532  0.002743  0.003679   \n",
       "\n",
       "   RainToday  RainTomorrow  \n",
       "0        0.0           0.0  \n",
       "1        0.0           0.0  \n",
       "2        0.0           0.0  \n",
       "3        0.0           0.0  \n",
       "4        0.0           0.0  \n",
       "\n",
       "[5 rows x 23 columns]"
      ]
     },
     "execution_count": 62,
     "metadata": {},
     "output_type": "execute_result"
    }
   ],
   "source": [
    "dictDIR = { 'N': 0,'NNE': 22.5,'NE': 45,'ENE': 67.5,'E': 90,'ESE': 112.5,'SE': 135,'SSE': 157.5,'S': 180,'SSW': 202.5,'SW': 225,'WSW': 247.5,'W': 270,'WNW':292.5 ,'NW':315 ,'NNW':337.5}\n",
    "dictlluv={'No':0,'Yes':1}\n",
    "\n",
    "\n",
    "label_encoder = LabelEncoder()\n",
    "df = df.dropna(subset=['RainTomorrow','RainToday','WindGustDir','WindDir9am'])\n",
    "df['WindGustDir'] = df['WindGustDir'].map(dictDIR)\n",
    "df['WindDir9am'] = df['WindDir9am'].map(dictDIR)\n",
    "df['WindDir3pm'] = df['WindDir3pm'].map(dictDIR)\n",
    "df['RainToday'] = df['RainToday'].map(dictlluv)\n",
    "df['RainTomorrow'] = df['RainTomorrow'].map(dictlluv)\n",
    "df['Location'] = label_encoder.fit_transform(df['Location'])\n",
    "df['Date'] = pd.to_datetime(df['Date']).apply(lambda x: x.value)\n",
    "\n",
    "df = df.fillna(0)\n",
    "names = df.columns\n",
    "df = preprocessing.normalize(df, axis=0)\n",
    "\n",
    "df= pd.DataFrame(df, columns=names)\n",
    "df.head()"
   ]
  },
  {
   "cell_type": "code",
   "execution_count": 63,
   "metadata": {},
   "outputs": [],
   "source": [
    "features = ['MinTemp', 'MaxTemp', 'Humidity9am', 'Pressure9am', 'Humidity3pm', 'Pressure3pm', 'Cloud3pm', 'Temp9am']\n",
    "X = df[features]\n",
    "y = df.RainTomorrow\n",
    "# Divide los datos en conjuntos de entrenamiento y prueba\n",
    "X_train_weatherDataset, X_test_weatherDataset, y_train_weatherDataset, y_test_weatherDataset = train_test_split(X, y, test_size=0.15, random_state=45)\n",
    "# Inicializa el objeto MinMaxScaler\n",
    "scaler = MinMaxScaler()\n",
    "# Ajusta y transforma los datos de entrenamiento\n",
    "X_train_weatherDataset = scaler.fit_transform(X_train_weatherDataset)\n",
    "# Transforma los datos de prueba utilizando la misma escala que se usó para los datos de entrenamiento\n",
    "X_test_weatherDataset = scaler.transform(X_test_weatherDataset)"
   ]
  },
  {
   "cell_type": "markdown",
   "metadata": {},
   "source": [
    "Set de Datos 'Notas del curso de Introduccion a la Programacion'"
   ]
  },
  {
   "cell_type": "code",
   "execution_count": null,
   "metadata": {},
   "outputs": [],
   "source": [
    "df = pd.read_csv(\"SetDatos/matrix-Eval-Introduccion A La Programacion GR 5.csv\")\n",
    "df = pd.read_csv(\"SetDatos/matrix-Eval-Introduccion A La Programacion GR 5 (1).csv\")\n",
    "df = pd.read_csv(\"SetDatos/matrix-Eval-Introduccion A La Programacion GR 4.csv\")\n",
    "df = pd.read_csv(\"SetDatos/matrix-Eval-Introduccion A La Programacion GR 4 (1).csv\")\n",
    "df = pd.read_csv(\"SetDatos/matrix-Eval-Introduccion A La Programacion GR 4 (2).csv\")\n",
    "df= pd.read_csv(\"SetDatos/p1-3-2-2.csv\")\n",
    "df.head()"
   ]
  },
  {
   "cell_type": "code",
   "execution_count": null,
   "metadata": {},
   "outputs": [],
   "source": [
    "features = ['E1', 'E2',  'Q1']\n",
    "X = df[features]\n",
    "y = df.F;\n",
    "X_train_notesDataset, X_test_notesDataset, y_train_notesDataset, y_test_notesDataset = train_test_split(X, y, test_size=0.15, random_state=45)\n",
    "scaler = MinMaxScaler()\n",
    "X_train__notesDataset = scaler.fit_transform(X_train_notesDataset)\n",
    "X_test__notesDataset = scaler.transform(X_test_notesDataset)"
   ]
  },
  {
   "cell_type": "markdown",
   "metadata": {},
   "source": [
    "Set de Datos seleccionado"
   ]
  },
  {
   "cell_type": "code",
   "execution_count": null,
   "metadata": {},
   "outputs": [],
   "source": [
    "df = pd.read_csv(\"SetDatos/csv\")\n",
    "df.head()"
   ]
  },
  {
   "cell_type": "code",
   "execution_count": null,
   "metadata": {},
   "outputs": [],
   "source": [
    "features = ['Caracteristica1', 'Caracteristica2', 'Caracteristica3', 'Caracteristica4']\n",
    "X = df[features]\n",
    "y = df.Outcome;\n",
    "X_train_selectedDataset, X_test_selectedDataset, y_train_selectedDataset, y_test_selectedDataset = train_test_split(X, y, test_size=0.15, random_state=45)\n",
    "scaler = MinMaxScaler()\n",
    "X_train_selectedDataset = scaler.fit_transform(X_train_notesDataset)\n",
    "X_test_selectedDataset = scaler.transform(X_test_selectedDataset)"
   ]
  },
  {
   "cell_type": "markdown",
   "metadata": {},
   "source": [
    "Aplicacion de Algoritmos"
   ]
  },
  {
   "cell_type": "markdown",
   "metadata": {},
   "source": [
    "Regresion Logistica"
   ]
  },
  {
   "cell_type": "code",
   "execution_count": 64,
   "metadata": {},
   "outputs": [],
   "source": [
    "class LogisticRegression:\n",
    "    def __init__(self, lr=0.01, num_iter=100000, fit_intercept=True):\n",
    "        self.lr = lr\n",
    "        self.num_iter = num_iter\n",
    "        self.fit_intercept = fit_intercept\n",
    "\n",
    "    def __add_intercept(self, X):\n",
    "        intercept = np.ones((X.shape[0], 1))\n",
    "        return np.concatenate((intercept, X), axis=1)\n",
    "        \n",
    "    def __sigmoid(self, z):\n",
    "        return 1 / (1 + np.exp(-z))\n",
    "    \n",
    "    def __loss(self, h, y):\n",
    "        return (-y * np.log(h) - (1 - y) * np.log(1 - h)).mean()\n",
    "    \n",
    "    def fit(self, X, y):\n",
    "        if self.fit_intercept:\n",
    "            X = self.__add_intercept(X)\n",
    "        self.w = np.zeros(X.shape[1])\n",
    "        for i in range(self.num_iter):\n",
    "            z = np.dot(X, self.w)\n",
    "            h = self.__sigmoid(z)\n",
    "            gradient = np.dot(X.T, (h-y)) / y.size\n",
    "            self.w -= self.lr * gradient\n",
    "            \n",
    "    def predict_prob(self, X):\n",
    "        if self.fit_intercept:\n",
    "            X = self.__add_intercept(X)\n",
    "        return self.__sigmoid(np.dot(X, self.w))\n",
    "    \n",
    "    def predict(self, X, threshold):\n",
    "        return self.predict_prob(X) >= threshold\n",
    "    \n",
    "    def score(self, y_pred,y_test):\n",
    "        return float(sum(y_pred == y_test)) / float(len(y_test))"
   ]
  },
  {
   "cell_type": "markdown",
   "metadata": {},
   "source": [
    "Aplicacion de Algoritmo Logistic Regression sobre el set de datos Rain in Australia"
   ]
  },
  {
   "cell_type": "code",
   "execution_count": 65,
   "metadata": {},
   "outputs": [
    {
     "name": "stdout",
     "output_type": "stream",
     "text": [
      "Precisión del modelo Regresion Logistica para el set de Datos Weather:  0.7799753443747655\n"
     ]
    }
   ],
   "source": [
    "# Crea y entrena el modelo de regresión logística \n",
    "model = LogisticRegression(lr=0.15, num_iter=3500)\n",
    "model.fit(X_train_weatherDataset, y_train_weatherDataset)\n",
    "probs = model.predict_prob(X_test_weatherDataset)\n",
    "y_pred_weatherDataset = model.predict(X_test_weatherDataset, 0.5)\n",
    "print(\"Precisión del modelo Regresion Logistica para el set de Datos Weather: \",model.score(y_pred_weatherDataset,y_test_weatherDataset))"
   ]
  },
  {
   "cell_type": "markdown",
   "metadata": {},
   "source": [
    "Aplicacion de Algoritmo Logistic Regression sobre el set de 'Notas del curso de Introduccion a la Programacion'"
   ]
  },
  {
   "cell_type": "code",
   "execution_count": null,
   "metadata": {},
   "outputs": [],
   "source": [
    "# Crea y entrena el modelo de regresión logística\n",
    "model = LogisticRegression(lr=0.15, num_iter=3500)\n",
    "model.fit(X_train_notesDataset, y_train_notesDataset)\n",
    "probs = model.predict_prob(X_test_notesDataset)\n",
    "y_pred_notesDataset = model.predict(X_test_notesDataset, 0.5)\n",
    "print(\"Precisión del modelo Regresion Logistica para el set de datos Notas del curso: \",model.score(y_pred_notesDataset,y_test_notesDataset))\n"
   ]
  },
  {
   "cell_type": "markdown",
   "metadata": {},
   "source": [
    "Aplicacion de Algoritmo Logistic Regression sobre el set elegido"
   ]
  },
  {
   "cell_type": "code",
   "execution_count": null,
   "metadata": {},
   "outputs": [],
   "source": [
    "# Crea y entrena el modelo de regresión logística\n",
    "model = LogisticRegression(lr=0.15, num_iter=3500)\n",
    "model.fit(X_train_selectedDataset, y_train_selectedDataset)\n",
    "probs = model.predict_prob(X_test_selectedDataset)\n",
    "y_pred_selectedDataset = model.predict(X_test_selectedDataset, 0.5)\n",
    "print(\"Precisión del modelo Regresion Logistica para el set de datos elegido: \",model.score(y_pred_selectedDataset,y_test_selectedDataset))\n"
   ]
  },
  {
   "cell_type": "markdown",
   "metadata": {},
   "source": [
    "Arboles de decision"
   ]
  },
  {
   "cell_type": "code",
   "execution_count": 66,
   "metadata": {},
   "outputs": [],
   "source": [
    "# Definición de la función para calcular la entropía\n",
    "def entropy(y):\n",
    "    unique, counts = np.unique(y, return_counts=True)\n",
    "    probabilities = counts / len(y)\n",
    "    entropy = -np.sum(probabilities * np.log2(probabilities))\n",
    "    return entropy\n",
    "\n",
    "# Definición de la función para dividir los datos\n",
    "def split_data(X, y, feature_index, threshold):\n",
    "    left_mask = X[:, feature_index] <= threshold\n",
    "    right_mask = ~left_mask\n",
    "    X_left, y_left = X[left_mask], y[left_mask]\n",
    "    X_right, y_right = X[right_mask], y[right_mask]\n",
    "    return X_left, y_left, X_right, y_right\n",
    "\n",
    "# Definición de la clase del nodo del árbol de decisión\n",
    "class Node:\n",
    "    def __init__(self, depth=0, max_depth=None):\n",
    "        self.depth = depth\n",
    "        self.max_depth = max_depth\n",
    "        self.feature_index = None\n",
    "        self.threshold = None\n",
    "        self.left = None\n",
    "        self.right = None\n",
    "        self.value = None\n",
    "\n",
    "    def fit(self, X, y):\n",
    "        unique_classes, class_counts = np.unique(y, return_counts=True)\n",
    "        self.value = unique_classes[np.argmax(class_counts)]\n",
    "        if self.depth == self.max_depth or len(unique_classes) == 1: # Se pregunta las dos condiciones de paradas, sin divisiones y profundidad máxima\n",
    "            return\n",
    "\n",
    "        num_features = X.shape[1] # cantidad de Features\n",
    "        best_info_gain = -1 # métrica\n",
    "        \n",
    "        for feature_index in range(num_features):\n",
    "            thresholds = np.unique(X[:, feature_index])\n",
    "            for threshold in thresholds:\n",
    "                X_left, y_left, X_right, y_right = split_data(X, y, feature_index, threshold)\n",
    "                if len(y_left) == 0 or len(y_right) == 0:\n",
    "                    continue\n",
    "\n",
    "                info_gain = entropy(y) - ((len(y_left) / len(y)) * entropy(y_left) + (len(y_right) / len(y)) * entropy(y_right))\n",
    "\n",
    "                if info_gain > best_info_gain:\n",
    "                    best_info_gain = info_gain\n",
    "                    self.feature_index = feature_index\n",
    "                    self.threshold = threshold\n",
    "\n",
    "        if self.feature_index is not None:\n",
    "            X_left, y_left, X_right, y_right = split_data(X, y, self.feature_index, self.threshold)\n",
    "            self.left = Node(depth=self.depth + 1, max_depth=self.max_depth)\n",
    "            self.left.fit(X_left, y_left)\n",
    "            self.right = Node(depth=self.depth + 1, max_depth=self.max_depth)\n",
    "            self.right.fit(X_right, y_right)\n",
    "\n",
    "    def predict(self, X):\n",
    "        if self.feature_index is None:\n",
    "            return self.value\n",
    "        if X[self.feature_index] <= self.threshold:\n",
    "            return self.left.predict(X)\n",
    "        else:\n",
    "            return self.right.predict(X)"
   ]
  },
  {
   "cell_type": "markdown",
   "metadata": {},
   "source": [
    "Aplicacion de Algoritmo Arboles de decision sobre el set de datos Rain in Australia"
   ]
  },
  {
   "cell_type": "code",
   "execution_count": 67,
   "metadata": {},
   "outputs": [
    {
     "name": "stdout",
     "output_type": "stream",
     "text": [
      "Precisión del Algoritmo Arboles de decision sobre el set de datos Rain in Australia : 0.83\n"
     ]
    }
   ],
   "source": [
    "max_depth = 3\n",
    "tree = Node(max_depth=max_depth)\n",
    "tree.fit(X_train_weatherDataset, y_train_weatherDataset)\n",
    "\n",
    "# Realización de predicciones en el conjunto de prueba\n",
    "y_pred = [tree.predict(x) for x in X_test_weatherDataset]\n",
    "\n",
    "# Evaluación del modelo\n",
    "accuracy = np.mean(y_pred == y_test_weatherDataset)\n",
    "print(f\"Precisión del Algoritmo Arboles de decision sobre el set de datos Rain in Australia : {accuracy:.2f}\")\n"
   ]
  },
  {
   "cell_type": "markdown",
   "metadata": {},
   "source": [
    "Aplicacion de Algoritmo Arboles de decision sobre el set de 'Notas del curso de Introduccion a la Programacion'"
   ]
  },
  {
   "cell_type": "code",
   "execution_count": null,
   "metadata": {},
   "outputs": [],
   "source": [
    "max_depth = 3\n",
    "tree = Node(max_depth=max_depth)\n",
    "tree.fit(X_train_notesDataset, y_train_notesDataset)\n",
    "\n",
    "# Realización de predicciones en el conjunto de prueba\n",
    "y_pred = [tree.predict(x) for x in X_test_notesDataset]\n",
    "\n",
    "# Evaluación del modelo\n",
    "accuracy = np.mean(y_pred == y_test_notesDataset)\n",
    "print(f\"Precisión del Algoritmo Arboles de decision sobre el set de datos 'Notas del curso de Introduccion a la Programacion' : {accuracy:.2f}\")"
   ]
  },
  {
   "cell_type": "markdown",
   "metadata": {},
   "source": [
    "Aplicacion de Algoritmo Arboles de decision sobre el set elegido"
   ]
  },
  {
   "cell_type": "code",
   "execution_count": null,
   "metadata": {},
   "outputs": [],
   "source": [
    "max_depth = 3\n",
    "tree = Node(max_depth=max_depth)\n",
    "tree.fit(X_train_selectedDataset, y_train_selectedDataset)\n",
    "\n",
    "# Realización de predicciones en el conjunto de prueba\n",
    "y_pred = [tree.predict(x) for x in X_test_selectedDataset]\n",
    "\n",
    "# Evaluación del modelo\n",
    "accuracy = np.mean(y_pred == y_test_selectedDataset)\n",
    "print(f\"Precisión del Algoritmo Arboles de decision sobre el set elegido : {accuracy:.2f}\")\n"
   ]
  },
  {
   "cell_type": "markdown",
   "metadata": {},
   "source": [
    "KNN"
   ]
  },
  {
   "cell_type": "code",
   "execution_count": null,
   "metadata": {},
   "outputs": [],
   "source": [
    "class KNearestNeighbors:\n",
    "    def __init__(self, X_train, y_train, n_neighbors=5, weights='uniform', metric='euclidean'):\n",
    "        self.X_train = X_train\n",
    "        self.y_train = y_train\n",
    "        self.n_neighbors = n_neighbors\n",
    "        self.weights = weights\n",
    "        self.metric = metric\n",
    "        self.n_classes = len(np.unique(y_train))\n",
    "    def custom_distance(self, a, b):\n",
    "        return np.sum(np.abs(a - b))\n",
    "    def euclidean_distance(self, a, b):\n",
    "        return np.sqrt(np.sum((a - b) ** 2, axis=1))\n",
    "    def kneighbors(self, X_test, return_distance=False):\n",
    "        dist = []\n",
    "        neigh_ind = []\n",
    "        point_dist = []\n",
    "        for x_test in X_test:\n",
    "            if self.metric == 'custom':\n",
    "                point_dist.append([self.custom_distance(x_test, x_train) for x_train in self.X_train])\n",
    "            elif self.metric == 'euclidean':\n",
    "                point_dist.append(self.euclidean_distance(x_test, self.X_train))\n",
    "\n",
    "        point_dist = np.array(point_dist)\n",
    "        for row in point_dist:\n",
    "            enum_neigh = enumerate(row)\n",
    "            sorted_neigh = sorted(enum_neigh, key=lambda x: x[1])[:self.n_neighbors]\n",
    "            ind_list = [tup[0] for tup in sorted_neigh]\n",
    "            dist_list = [tup[1] for tup in sorted_neigh]\n",
    "            dist.append(dist_list)\n",
    "            neigh_ind.append(ind_list)\n",
    "        if return_distance:\n",
    "            return np.array(dist), np.array(neigh_ind)\n",
    "        return np.array(neigh_ind)\n",
    "    def predict(self, X_test):\n",
    "        if self.weights == 'uniform':\n",
    "            neighbors = self.kneighbors(X_test)\n",
    "            y_pred = np.array([\n",
    "                np.argmax(np.bincount(self.y_train[neighbor]))\n",
    "                for neighbor in neighbors\n",
    "            ])\n",
    "            return y_pred\n",
    "        if self.weights == 'distance':\n",
    "            neighbors, dist = self.kneighbors(X_test, return_distance=True)\n",
    "            y_pred = np.array([\n",
    "                np.argmax(np.bincount(self.y_train[neighbor], weights=1 / (d + 1e-8)))\n",
    "                for neighbor, d in zip(neighbors, dist)\n",
    "            ])\n",
    "            return y_pred"
   ]
  },
  {
   "cell_type": "markdown",
   "metadata": {},
   "source": [
    "Aplicacion de Algoritmo KNearestNeighbors sobre el set de datos Rain in Australia"
   ]
  },
  {
   "cell_type": "code",
   "execution_count": null,
   "metadata": {},
   "outputs": [],
   "source": [
    "from sklearn.neighbors import KNeighborsClassifier\n",
    "our_classifier = KNearestNeighbors(X_train_weatherDataset, y_train_weatherDataset, n_neighbors=30)\n",
    "sklearn_classifier = KNeighborsClassifier(n_neighbors=30).fit(X_train_weatherDataset, y_train_weatherDataset)\n",
    "\n",
    "our_accuracy, y_pred, y_test = our_classifier.score(X_test_weatherDataset, y_test_weatherDataset)\n",
    "sklearn_accuracy = sklearn_classifier.score(X_test_weatherDataset, y_test_weatherDataset)\n",
    "\n",
    "print(y_pred[:20], y_test[:20])\n",
    "\n",
    "pd.DataFrame([[our_accuracy, sklearn_accuracy]],\n",
    "             ['Accuracy'],    \n",
    "             ['Our Implementation', 'Sklearn\\'s Implementation'])\n",
    "\n",
    "max_depth = 3\n",
    "tree = Node(max_depth=max_depth)\n",
    "tree.fit(X_train_weatherDataset, y_train_weatherDataset)\n",
    "\n",
    "# Realización de predicciones en el conjunto de prueba\n",
    "y_pred = [tree.predict(x) for x in X_test_weatherDataset]\n",
    "\n",
    "# Evaluación del modelo\n",
    "accuracy = np.mean(y_pred == y_test_weatherDataset)\n",
    "print(f\"Precisión del Algoritmo KNearestNeighbors sobre el set de datos Rain in Australia : {accuracy:.2f}\")"
   ]
  },
  {
   "cell_type": "markdown",
   "metadata": {},
   "source": [
    "Aplicacion de Algoritmo KNearestNeighbors sobre el set de 'Notas del curso de Introduccion a la Programacion'"
   ]
  },
  {
   "cell_type": "code",
   "execution_count": null,
   "metadata": {},
   "outputs": [],
   "source": [
    "from sklearn.neighbors import KNeighborsClassifier\n",
    "our_classifier = KNearestNeighbors(X_train_notesDataset, y_train_notesDataset, n_neighbors=30)\n",
    "sklearn_classifier = KNeighborsClassifier(n_neighbors=30).fit(X_train_notesDataset, y_train_notesDataset)\n",
    "\n",
    "our_accuracy, y_pred, y_test = our_classifier.score(X_test_notesDataset, y_test_notesDataset)\n",
    "sklearn_accuracy = sklearn_classifier.score(X_test_notesDataset, y_test_notesDataset)\n",
    "\n",
    "print(y_pred[:20], y_test[:20])\n",
    "\n",
    "pd.DataFrame([[our_accuracy, sklearn_accuracy]],\n",
    "             ['Accuracy'],    \n",
    "             ['Our Implementation', 'Sklearn\\'s Implementation'])\n",
    "\n",
    "max_depth = 3\n",
    "tree = Node(max_depth=max_depth)\n",
    "tree.fit(X_train_weatherDataset, y_train_weatherDataset)\n",
    "\n",
    "# Realización de predicciones en el conjunto de prueba\n",
    "y_pred = [tree.predict(x) for x in X_test_weatherDataset]\n",
    "\n",
    "# Evaluación del modelo\n",
    "accuracy = np.mean(y_pred == y_test_weatherDataset)\n",
    "print(f\"Precisión del Algoritmo KNearestNeighbors sobre el set de datos 'Notas del curso de Introduccion a la Programacion' : {accuracy:.2f}\")"
   ]
  },
  {
   "cell_type": "markdown",
   "metadata": {},
   "source": [
    "Aplicacion de Algoritmo KNearestNeighbors sobre el set elegido"
   ]
  },
  {
   "cell_type": "code",
   "execution_count": null,
   "metadata": {},
   "outputs": [],
   "source": [
    "from sklearn.neighbors import KNeighborsClassifier\n",
    "our_classifier = KNearestNeighbors(X_train_selectedDataset, y_train_selectedDataset, n_neighbors=30)\n",
    "sklearn_classifier = KNeighborsClassifier(n_neighbors=30).fit(X_train_selectedDataset, y_train_selectedDataset)\n",
    "\n",
    "our_accuracy, y_pred, y_test = our_classifier.score(X_test_selectedDataset, y_test_selectedDataset)\n",
    "sklearn_accuracy = sklearn_classifier.score(X_test_selectedDataset, y_test_selectedDataset)\n",
    "\n",
    "print(y_pred[:20], y_test[:20])\n",
    "\n",
    "pd.DataFrame([[our_accuracy, sklearn_accuracy]],\n",
    "             ['Accuracy'],    \n",
    "             ['Our Implementation', 'Sklearn\\'s Implementation'])\n",
    "\n",
    "max_depth = 3\n",
    "tree = Node(max_depth=max_depth)\n",
    "tree.fit(X_train_weatherDataset, y_train_weatherDataset)\n",
    "\n",
    "# Realización de predicciones en el conjunto de prueba\n",
    "y_pred = [tree.predict(x) for x in X_test_weatherDataset]\n",
    "\n",
    "# Evaluación del modelo\n",
    "accuracy = np.mean(y_pred == y_test_weatherDataset)\n",
    "print(f\"Precisión del Algoritmo KNearestNeighbors sobre el set de datos elegido : {accuracy:.2f}\")\n"
   ]
  },
  {
   "cell_type": "markdown",
   "metadata": {},
   "source": [
    "Aplicacion de Metricas"
   ]
  },
  {
   "cell_type": "markdown",
   "metadata": {},
   "source": [
    "Accuracy"
   ]
  },
  {
   "cell_type": "markdown",
   "metadata": {},
   "source": [
    "Aplicacion de Metrica Accuracy sobre el set de datos Rain in Australia"
   ]
  },
  {
   "cell_type": "code",
   "execution_count": null,
   "metadata": {},
   "outputs": [],
   "source": [
    "from sklearn.metrics import accuracy_score\n",
    "print(\"Metrica Accuracy sobre el set de datos Rain in Australia \")\n",
    "accuracy = accuracy_score(y_train_weatherDataset, y_test_weatherDataset)\n",
    "print(\"The accuracy of prediction is: \", accuracy)\n",
    "\n",
    "accurate_predictions = accuracy_score(y_train_weatherDataset, y_test_weatherDataset, normalize=False)\n",
    "print(\"The number of accurate predictions is: \", accurate_predictions)"
   ]
  },
  {
   "cell_type": "markdown",
   "metadata": {},
   "source": [
    "Aplicacion de Metrica Accuracy sobre el set de datos 'Notas del curso de Introduccion a la Programacion'"
   ]
  },
  {
   "cell_type": "code",
   "execution_count": null,
   "metadata": {},
   "outputs": [],
   "source": [
    "from sklearn.metrics import accuracy_score\n",
    "print(\"Metrica Accuracy sobre el set de datos 'Notas del curso de Introduccion a la Programacion' \")\n",
    "accuracy = accuracy_score(y_train_notesDataset, y_test_notesDataset)\n",
    "print(\"The accuracy of prediction is: \", accuracy)\n",
    "\n",
    "accurate_predictions = accuracy_score(y_train_notesDataset, y_test_notesDataset, normalize=False)\n",
    "print(\"The number of accurate predictions is: \", accurate_predictions)"
   ]
  },
  {
   "cell_type": "markdown",
   "metadata": {},
   "source": [
    "Aplicacion de Metrica Accuracy sobre el set de datos elegido"
   ]
  },
  {
   "cell_type": "code",
   "execution_count": null,
   "metadata": {},
   "outputs": [],
   "source": [
    "from sklearn.metrics import accuracy_score\n",
    "print(\"Metrica Accuracy sobre el set de datos elegido \")\n",
    "accuracy = accuracy_score(y_train_selectedDataset, y_test_selectedDataset)\n",
    "print(\"The accuracy of prediction is: \", accuracy)\n",
    "\n",
    "accurate_predictions = accuracy_score(y_train_selectedDataset, y_test_selectedDataset, normalize=False)\n",
    "print(\"The number of accurate predictions is: \", accurate_predictions)"
   ]
  },
  {
   "cell_type": "markdown",
   "metadata": {},
   "source": [
    "Presicion "
   ]
  },
  {
   "cell_type": "markdown",
   "metadata": {},
   "source": [
    "Aplicacion de Metrica Presicion sobre el set de datos Rain in Australia"
   ]
  },
  {
   "cell_type": "code",
   "execution_count": null,
   "metadata": {},
   "outputs": [],
   "source": [
    "from sklearn.metrics import precision_score\n",
    "print(\"Metrica Precision sobre el set de datos Rain in Australia \")\n",
    "precision = precision_score(y_train_weatherDataset, y_test_weatherDataset)\n",
    "print(\"The accuracy of precision is: \", precision)"
   ]
  },
  {
   "cell_type": "markdown",
   "metadata": {},
   "source": [
    "Aplicacion de Metrica Presicion sobre el set de datos 'Notas del curso de Introduccion a la Programacion'"
   ]
  },
  {
   "cell_type": "code",
   "execution_count": null,
   "metadata": {},
   "outputs": [],
   "source": [
    "from sklearn.metrics import precision_score\n",
    "print(\"Metrica Precision sobre el set de datos 'Notas del curso de Introduccion a la Programacion' \")\n",
    "precision = precision_score(y_train_notesDataset, y_test_notesDataset)\n",
    "print(\"The accuracy of precision is: \", precision)"
   ]
  },
  {
   "cell_type": "markdown",
   "metadata": {},
   "source": [
    "Aplicacion de Metrica Presicion sobre el set de datos elegido"
   ]
  },
  {
   "cell_type": "code",
   "execution_count": null,
   "metadata": {},
   "outputs": [],
   "source": [
    "from sklearn.metrics import precision_score\n",
    "print(\"Metrica Precision sobre el set de datos elegido \")\n",
    "precision = precision_score(y_train_selectedDataset, y_test_selectedDataset)\n",
    "print(\"The accuracy of precision is: \", precision)"
   ]
  },
  {
   "cell_type": "markdown",
   "metadata": {},
   "source": [
    "Recall"
   ]
  },
  {
   "cell_type": "markdown",
   "metadata": {},
   "source": [
    "Aplicacion de Metrica Recall sobre el set de datos Rain in Australia"
   ]
  },
  {
   "cell_type": "code",
   "execution_count": null,
   "metadata": {},
   "outputs": [],
   "source": [
    "from sklearn.metrics import  recall_score\n",
    "print(\"Metrica Precision sobre el set de datos Rain in Australia \")\n",
    "recall = recall_score(y_train_weatherDataset, y_test_weatherDataset)\n",
    "print(\"The recall of prediction is: \", recall)"
   ]
  },
  {
   "cell_type": "markdown",
   "metadata": {},
   "source": [
    "Aplicacion de Metrica Recall sobre el set de datos 'Notas del curso de Introduccion a la Programacion'"
   ]
  },
  {
   "cell_type": "code",
   "execution_count": null,
   "metadata": {},
   "outputs": [],
   "source": [
    "from sklearn.metrics import  recall_score\n",
    "print(\"Metrica Precision sobre el set de datos 'Notas del curso de Introduccion a la Programacion' \")\n",
    "recall = recall_score(y_train_notesDataset, y_test_notesDataset)\n",
    "print(\"The recall of prediction is: \", recall)"
   ]
  },
  {
   "cell_type": "markdown",
   "metadata": {},
   "source": [
    "Aplicacion de Metrica Recall sobre el set de datos elegido"
   ]
  },
  {
   "cell_type": "code",
   "execution_count": null,
   "metadata": {},
   "outputs": [],
   "source": [
    "from sklearn.metrics import  recall_score\n",
    "print(\"Metrica Precision sobre el set de datos elegido \")\n",
    "recall = recall_score(y_train_selectedDataset, y_test_selectedDataset)\n",
    "print(\"The recall of prediction is: \", recall)"
   ]
  },
  {
   "cell_type": "markdown",
   "metadata": {},
   "source": [
    "AUC"
   ]
  },
  {
   "cell_type": "markdown",
   "metadata": {},
   "source": [
    "Aplicacion de Metrica AUC sobre el set de datos Rain in Australia"
   ]
  },
  {
   "cell_type": "code",
   "execution_count": null,
   "metadata": {},
   "outputs": [],
   "source": []
  },
  {
   "cell_type": "markdown",
   "metadata": {},
   "source": [
    "Aplicacion de Metrica AUC sobre el set de datos 'Notas del curso de Introduccion a la Programacion'"
   ]
  },
  {
   "cell_type": "code",
   "execution_count": null,
   "metadata": {},
   "outputs": [],
   "source": []
  },
  {
   "cell_type": "markdown",
   "metadata": {},
   "source": [
    "Aplicacion de Metrica AUC sobre el set de datos elegido"
   ]
  },
  {
   "cell_type": "code",
   "execution_count": null,
   "metadata": {},
   "outputs": [],
   "source": []
  },
  {
   "cell_type": "markdown",
   "metadata": {},
   "source": [
    "ROC  (grafica)"
   ]
  },
  {
   "cell_type": "markdown",
   "metadata": {},
   "source": [
    "Aplicacion de Metrica ROC (grafica) sobre el set de datos Rain in Australia"
   ]
  },
  {
   "cell_type": "code",
   "execution_count": null,
   "metadata": {},
   "outputs": [],
   "source": [
    "import numpy as np\n",
    "import matplotlib.pyplot as plt\n",
    "from sklearn.metrics import roc_curve, auc\n",
    "print(\"Metrica ROC (grafica) sobre el set de datos Rain in Australia \")\n",
    "\n",
    "# Calcular la curva ROC\n",
    "fpr, tpr, thresholds = roc_curve(y_test_weatherDataset, probs)\n",
    "\n",
    "# Calcular la Sensibilidad y la Especificidad para cada umbral\n",
    "sensibilidad = tpr  # Sensibilidad es igual a la Tasa de Verdaderos Positivos (TPR)\n",
    "especificidad = 1 - fpr  # Especificidad es igual a 1 menos la Tasa de Falsos Positivos (FPR)\n",
    "\n",
    "# Calcular el AUC (Área bajo la curva ROC)\n",
    "roc_auc = auc(fpr, tpr)\n",
    "\n",
    "# Trazar la curva ROC\n",
    "plt.figure(figsize=(8, 6))\n",
    "plt.plot(fpr, tpr, lw=2, label=f'ROC Curve (AUC = {roc_auc:.2f})')\n",
    "plt.plot([0, 1], [0, 1], 'k--')  # Línea de referencia diagonal\n",
    "plt.xlim([0.0, 1.0])\n",
    "plt.ylim([0.0, 1.05])\n",
    "plt.xlabel('False Positive Rate (FPR)')\n",
    "plt.ylabel('True Positive Rate (TPR)')\n",
    "plt.title('Receiver Operating Characteristic (ROC)')\n",
    "plt.legend(loc=\"lower right\")\n",
    "\n",
    "# Trazar la curva de Sensibilidad vs. Especificidad\n",
    "plt.figure(figsize=(8, 6))\n",
    "plt.plot(1 - fpr, tpr, lw=2)\n",
    "plt.xlim([0.0, 1.0])\n",
    "plt.ylim([0.0, 1.05])\n",
    "plt.xlabel('Especificidad')\n",
    "plt.ylabel('Sensibilidad (TPR)')\n",
    "plt.title('Curva Sensibilidad vs. Especificidad')\n",
    "plt.grid(True)\n",
    "\n",
    "plt.show()\n",
    "\n",
    "umbral = 0.5\n",
    "sensibilidad_umbral = tpr[np.argmax(thresholds >= umbral)]\n",
    "especificidad_umbral = 1 - fpr[np.argmax(thresholds >= umbral)]\n",
    "print(f\"Sensibilidad (TPR) a umbral {umbral}: {sensibilidad_umbral:.2f}\")\n",
    "print(f\"Especificidad a umbral {umbral}: {especificidad_umbral:.2f}\")\n",
    "\n"
   ]
  },
  {
   "cell_type": "markdown",
   "metadata": {},
   "source": [
    "Aplicacion de Metrica ROC (grafica) sobre el set de datos 'Notas del curso de Introduccion a la Programacion'"
   ]
  },
  {
   "cell_type": "code",
   "execution_count": null,
   "metadata": {},
   "outputs": [],
   "source": [
    "import numpy as np\n",
    "import matplotlib.pyplot as plt\n",
    "from sklearn.metrics import roc_curve, auc\n",
    "print(\"Metrica ROC (grafica) sobre el set de datos 'Notas del curso de Introduccion a la Programacion' \")\n",
    "\n",
    "# Calcular la curva ROC\n",
    "fpr, tpr, thresholds = roc_curve(y_test_notesDataset, probs)\n",
    "\n",
    "# Calcular la Sensibilidad y la Especificidad para cada umbral\n",
    "sensibilidad = tpr  # Sensibilidad es igual a la Tasa de Verdaderos Positivos (TPR)\n",
    "especificidad = 1 - fpr  # Especificidad es igual a 1 menos la Tasa de Falsos Positivos (FPR)\n",
    "\n",
    "# Calcular el AUC (Área bajo la curva ROC)\n",
    "roc_auc = auc(fpr, tpr)\n",
    "\n",
    "# Trazar la curva ROC\n",
    "plt.figure(figsize=(8, 6))\n",
    "plt.plot(fpr, tpr, lw=2, label=f'ROC Curve (AUC = {roc_auc:.2f})')\n",
    "plt.plot([0, 1], [0, 1], 'k--')  # Línea de referencia diagonal\n",
    "plt.xlim([0.0, 1.0])\n",
    "plt.ylim([0.0, 1.05])\n",
    "plt.xlabel('False Positive Rate (FPR)')\n",
    "plt.ylabel('True Positive Rate (TPR)')\n",
    "plt.title('Receiver Operating Characteristic (ROC)')\n",
    "plt.legend(loc=\"lower right\")\n",
    "\n",
    "# Trazar la curva de Sensibilidad vs. Especificidad\n",
    "plt.figure(figsize=(8, 6))\n",
    "plt.plot(1 - fpr, tpr, lw=2)\n",
    "plt.xlim([0.0, 1.0])\n",
    "plt.ylim([0.0, 1.05])\n",
    "plt.xlabel('Especificidad')\n",
    "plt.ylabel('Sensibilidad (TPR)')\n",
    "plt.title('Curva Sensibilidad vs. Especificidad')\n",
    "plt.grid(True)\n",
    "\n",
    "plt.show()\n",
    "\n",
    "umbral = 0.5\n",
    "sensibilidad_umbral = tpr[np.argmax(thresholds >= umbral)]\n",
    "especificidad_umbral = 1 - fpr[np.argmax(thresholds >= umbral)]\n",
    "print(f\"Sensibilidad (TPR) a umbral {umbral}: {sensibilidad_umbral:.2f}\")\n",
    "print(f\"Especificidad a umbral {umbral}: {especificidad_umbral:.2f}\")"
   ]
  },
  {
   "cell_type": "markdown",
   "metadata": {},
   "source": [
    "Aplicacion de Metrica ROC (grafica) sobre el set de datos elegido"
   ]
  },
  {
   "cell_type": "code",
   "execution_count": null,
   "metadata": {},
   "outputs": [],
   "source": [
    "import numpy as np\n",
    "import matplotlib.pyplot as plt\n",
    "from sklearn.metrics import roc_curve, auc\n",
    "print(\"Metrica ROC (grafica) sobre el set de datos elegido \")\n",
    "\n",
    "# Calcular la curva ROC\n",
    "fpr, tpr, thresholds = roc_curve(y_test_selectedDataset, probs)\n",
    "\n",
    "# Calcular la Sensibilidad y la Especificidad para cada umbral\n",
    "sensibilidad = tpr  # Sensibilidad es igual a la Tasa de Verdaderos Positivos (TPR)\n",
    "especificidad = 1 - fpr  # Especificidad es igual a 1 menos la Tasa de Falsos Positivos (FPR)\n",
    "\n",
    "# Calcular el AUC (Área bajo la curva ROC)\n",
    "roc_auc = auc(fpr, tpr)\n",
    "\n",
    "# Trazar la curva ROC\n",
    "plt.figure(figsize=(8, 6))\n",
    "plt.plot(fpr, tpr, lw=2, label=f'ROC Curve (AUC = {roc_auc:.2f})')\n",
    "plt.plot([0, 1], [0, 1], 'k--')  # Línea de referencia diagonal\n",
    "plt.xlim([0.0, 1.0])\n",
    "plt.ylim([0.0, 1.05])\n",
    "plt.xlabel('False Positive Rate (FPR)')\n",
    "plt.ylabel('True Positive Rate (TPR)')\n",
    "plt.title('Receiver Operating Characteristic (ROC)')\n",
    "plt.legend(loc=\"lower right\")\n",
    "\n",
    "# Trazar la curva de Sensibilidad vs. Especificidad\n",
    "plt.figure(figsize=(8, 6))\n",
    "plt.plot(1 - fpr, tpr, lw=2)\n",
    "plt.xlim([0.0, 1.0])\n",
    "plt.ylim([0.0, 1.05])\n",
    "plt.xlabel('Especificidad')\n",
    "plt.ylabel('Sensibilidad (TPR)')\n",
    "plt.title('Curva Sensibilidad vs. Especificidad')\n",
    "plt.grid(True)\n",
    "\n",
    "plt.show()\n",
    "\n",
    "umbral = 0.5\n",
    "sensibilidad_umbral = tpr[np.argmax(thresholds >= umbral)]\n",
    "especificidad_umbral = 1 - fpr[np.argmax(thresholds >= umbral)]\n",
    "print(f\"Sensibilidad (TPR) a umbral {umbral}: {sensibilidad_umbral:.2f}\")\n",
    "print(f\"Especificidad a umbral {umbral}: {especificidad_umbral:.2f}\")"
   ]
  },
  {
   "cell_type": "markdown",
   "metadata": {},
   "source": [
    "Puntos extra: modelo que prediga la nota del estudiante (utilizando el set de datos de Introduccion a la Programacion)"
   ]
  },
  {
   "cell_type": "code",
   "execution_count": null,
   "metadata": {},
   "outputs": [],
   "source": []
  }
 ],
 "metadata": {
  "kernelspec": {
   "display_name": "Python 3",
   "language": "python",
   "name": "python3"
  },
  "language_info": {
   "codemirror_mode": {
    "name": "ipython",
    "version": 3
   },
   "file_extension": ".py",
   "mimetype": "text/x-python",
   "name": "python",
   "nbconvert_exporter": "python",
   "pygments_lexer": "ipython3",
   "version": "3.11.4"
  },
  "orig_nbformat": 4
 },
 "nbformat": 4,
 "nbformat_minor": 2
}
